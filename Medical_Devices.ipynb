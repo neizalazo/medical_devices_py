{
 "cells": [
  {
   "cell_type": "markdown",
   "id": "10d472a7",
   "metadata": {},
   "source": [
    "## 1. Introduction\n",
    "Medical advancements have made great strides in the last century. With the new understanding of materials science, implantable medical devices have become so popular that many people depend on them to live their lives.\n",
    "\n",
    "The United States holds the world's most significant medical device market, with sales making up 40% of worldwide revenue. Roughly 32 million Americans, about 10 percent, have an implanted medical device in them. However, several patients have reported harmful effects caused by implantable medical devices in the last few years. \n",
    "\n",
    "The U.S. Food & Drug Administration (FDA) agency protects the public health by assuring these devices' safety, efficacy, and security. According to data from the FDA, medical devices have been linked to more than 80,000 deaths and 1.7 million injuries in the last decade. The FDA collects data voluntarily from manufacturers, doctors, and patients, which often leads to incomplete reporting. The American Database for Medical Implant Transparency, (ADMIT) https://dataverse.harvard.edu/dataverse/admit, was created to close the gap between different government sources that contained information about implantable medical devices approved by the FDA.\n"
   ]
  },
  {
   "cell_type": "markdown",
   "id": "e8bec1c6",
   "metadata": {},
   "source": [
    "## 2. Methodology\n",
    "This project analyzes a dataset from the American Database for Medical Implant Transparency (ADMIT). With over 300k records of implantable devices, this data set contains information about the type of device, classification, recalls, injuries, or deaths caused, among other data. \n",
    "\n",
    "This analysis aims to answer these questions:\n",
    "\n",
    "- What FDA panel reviews the most implantable medical device applications?\n",
    "\n",
    "\n",
    "- What companies produce the most devices?\n",
    "    - What medical industry do they target?\n",
    "    \n",
    "    \n",
    "- How does the FDA classify these devices?\n",
    "    - How does that affect approval?    \n",
    "    \n",
    "    \n",
    "- What device class have the most recalls, malfunctions, injuries, deaths, and adverse events reported?\n",
    " \n",
    " \n",
    "- How does a clinical trial impact study sponsorship?  \n",
    "    - Is there a correlation between clinical trials and total adverse events reported?"
   ]
  },
  {
   "cell_type": "markdown",
   "id": "d60851a4",
   "metadata": {},
   "source": [
    "## 3. Analysis"
   ]
  },
  {
   "cell_type": "code",
   "execution_count": 54,
   "id": "e78586d6",
   "metadata": {},
   "outputs": [],
   "source": [
    "#import libs\n",
    "import pandas as pd\n",
    "import numpy as np\n",
    "import chart_studio.plotly as py\n",
    "import plotly.express as px\n",
    "# %matlotlib inline?\n"
   ]
  },
  {
   "cell_type": "code",
   "execution_count": 4,
   "id": "9470060f",
   "metadata": {},
   "outputs": [],
   "source": [
    "#read data set\n",
    "df=pd.read_excel('ADMIT.xlsx')"
   ]
  },
  {
   "cell_type": "code",
   "execution_count": 172,
   "id": "d45507f0",
   "metadata": {},
   "outputs": [
    {
     "data": {
      "text/html": [
       "<div>\n",
       "<style scoped>\n",
       "    .dataframe tbody tr th:only-of-type {\n",
       "        vertical-align: middle;\n",
       "    }\n",
       "\n",
       "    .dataframe tbody tr th {\n",
       "        vertical-align: top;\n",
       "    }\n",
       "\n",
       "    .dataframe thead th {\n",
       "        text-align: right;\n",
       "    }\n",
       "</style>\n",
       "<table border=\"1\" class=\"dataframe\">\n",
       "  <thead>\n",
       "    <tr style=\"text-align: right;\">\n",
       "      <th></th>\n",
       "      <th>company_name</th>\n",
       "      <th>brand_name</th>\n",
       "      <th>model_number</th>\n",
       "      <th>med_specialty</th>\n",
       "      <th>premarket_submissions_number</th>\n",
       "      <th>device_class</th>\n",
       "      <th>recall</th>\n",
       "      <th>malfunction</th>\n",
       "      <th>injury</th>\n",
       "      <th>death</th>\n",
       "      <th>totalAE</th>\n",
       "      <th>has_clinicalTrial</th>\n",
       "      <th>Study Sponsor</th>\n",
       "      <th>c_TotalAE</th>\n",
       "    </tr>\n",
       "  </thead>\n",
       "  <tbody>\n",
       "    <tr>\n",
       "      <th>0</th>\n",
       "      <td>alphatec spine, inc.</td>\n",
       "      <td>IdentiTi</td>\n",
       "      <td>122-11122505-S</td>\n",
       "      <td>Orthopedic</td>\n",
       "      <td>K183705</td>\n",
       "      <td>2</td>\n",
       "      <td>0</td>\n",
       "      <td>0</td>\n",
       "      <td>0</td>\n",
       "      <td>0</td>\n",
       "      <td>0</td>\n",
       "      <td>N</td>\n",
       "      <td>NaN</td>\n",
       "      <td>NaN</td>\n",
       "    </tr>\n",
       "    <tr>\n",
       "      <th>1</th>\n",
       "      <td>alphatec spine, inc.</td>\n",
       "      <td>IdentiTi</td>\n",
       "      <td>121-10092215</td>\n",
       "      <td>Orthopedic</td>\n",
       "      <td>K183705</td>\n",
       "      <td>2</td>\n",
       "      <td>0</td>\n",
       "      <td>0</td>\n",
       "      <td>1</td>\n",
       "      <td>0</td>\n",
       "      <td>1</td>\n",
       "      <td>N</td>\n",
       "      <td>NaN</td>\n",
       "      <td>NaN</td>\n",
       "    </tr>\n",
       "    <tr>\n",
       "      <th>2</th>\n",
       "      <td>encore medical, l.p.</td>\n",
       "      <td>DJO SURGICAL</td>\n",
       "      <td>801-05-735</td>\n",
       "      <td>Orthopedic</td>\n",
       "      <td>K170573</td>\n",
       "      <td>2</td>\n",
       "      <td>70</td>\n",
       "      <td>2980</td>\n",
       "      <td>494</td>\n",
       "      <td>19</td>\n",
       "      <td>513</td>\n",
       "      <td>N</td>\n",
       "      <td>NaN</td>\n",
       "      <td>NaN</td>\n",
       "    </tr>\n",
       "    <tr>\n",
       "      <th>3</th>\n",
       "      <td>life spine, inc.</td>\n",
       "      <td>Solstice Occipito-Cervico-Thoracic System</td>\n",
       "      <td>9235-16</td>\n",
       "      <td>Orthopedic</td>\n",
       "      <td>K090343</td>\n",
       "      <td>2</td>\n",
       "      <td>264</td>\n",
       "      <td>3102</td>\n",
       "      <td>1563</td>\n",
       "      <td>344</td>\n",
       "      <td>1907</td>\n",
       "      <td>N</td>\n",
       "      <td>NaN</td>\n",
       "      <td>NaN</td>\n",
       "    </tr>\n",
       "    <tr>\n",
       "      <th>4</th>\n",
       "      <td>engage uni llc</td>\n",
       "      <td>Engage Partial Knee System</td>\n",
       "      <td>1-50040-003</td>\n",
       "      <td>Orthopedic</td>\n",
       "      <td>K190439</td>\n",
       "      <td>2</td>\n",
       "      <td>628</td>\n",
       "      <td>34533</td>\n",
       "      <td>9604</td>\n",
       "      <td>92</td>\n",
       "      <td>9696</td>\n",
       "      <td>N</td>\n",
       "      <td>NaN</td>\n",
       "      <td>NaN</td>\n",
       "    </tr>\n",
       "  </tbody>\n",
       "</table>\n",
       "</div>"
      ],
      "text/plain": [
       "           company_name                                 brand_name  \\\n",
       "0  alphatec spine, inc.                                   IdentiTi   \n",
       "1  alphatec spine, inc.                                   IdentiTi   \n",
       "2  encore medical, l.p.                               DJO SURGICAL   \n",
       "3      life spine, inc.  Solstice Occipito-Cervico-Thoracic System   \n",
       "4        engage uni llc                 Engage Partial Knee System   \n",
       "\n",
       "     model_number med_specialty premarket_submissions_number  device_class  \\\n",
       "0  122-11122505-S    Orthopedic                      K183705             2   \n",
       "1    121-10092215    Orthopedic                      K183705             2   \n",
       "2      801-05-735    Orthopedic                      K170573             2   \n",
       "3         9235-16    Orthopedic                      K090343             2   \n",
       "4     1-50040-003    Orthopedic                      K190439             2   \n",
       "\n",
       "   recall  malfunction  injury  death  totalAE has_clinicalTrial  \\\n",
       "0       0            0       0      0        0                 N   \n",
       "1       0            0       1      0        1                 N   \n",
       "2      70         2980     494     19      513                 N   \n",
       "3     264         3102    1563    344     1907                 N   \n",
       "4     628        34533    9604     92     9696                 N   \n",
       "\n",
       "  Study Sponsor  c_TotalAE  \n",
       "0           NaN        NaN  \n",
       "1           NaN        NaN  \n",
       "2           NaN        NaN  \n",
       "3           NaN        NaN  \n",
       "4           NaN        NaN  "
      ]
     },
     "execution_count": 172,
     "metadata": {},
     "output_type": "execute_result"
    }
   ],
   "source": [
    "# subset data set by complelling features\n",
    "df1 = df[['company_name','brand_name','model_number','med_specialty','premarket_submissions_number', \\\n",
    "          'device_class','recall','malfunction','injury','death','totalAE','has_clinicalTrial',\\\n",
    "          'Study Sponsor','c_TotalAE']].copy()\n",
    "# Names have a mix of upper and lower cases. Chnage all names to lower case before analysis\n",
    "df1['company_name'] = df1['company_name'].str.lower()\n",
    "df1.head()"
   ]
  },
  {
   "cell_type": "markdown",
   "id": "f043cce9",
   "metadata": {},
   "source": [
    "#### What FDA panel receives the most implantable medical device applications?\n",
    "\n",
    "Before a company can market a medical device, it must submit an FDA application for approval. The device should be classified under one of the 16 medical specialty \"panels\" when submitting the application. The FDA provides specific regulations and requirements for each panel on the FDA website. \n",
    "All the device classification panels can be found at: https://www.fda.gov/medical-devices/classify-your-medical-device/device-classification-panels\n"
   ]
  },
  {
   "cell_type": "code",
   "execution_count": 235,
   "id": "f85b3f54",
   "metadata": {
    "scrolled": true
   },
   "outputs": [
    {
     "data": {
      "text/html": [
       "<div>\n",
       "<style scoped>\n",
       "    .dataframe tbody tr th:only-of-type {\n",
       "        vertical-align: middle;\n",
       "    }\n",
       "\n",
       "    .dataframe tbody tr th {\n",
       "        vertical-align: top;\n",
       "    }\n",
       "\n",
       "    .dataframe thead th {\n",
       "        text-align: right;\n",
       "    }\n",
       "</style>\n",
       "<table border=\"1\" class=\"dataframe\">\n",
       "  <thead>\n",
       "    <tr style=\"text-align: right;\">\n",
       "      <th></th>\n",
       "      <th>device_count</th>\n",
       "      <th>percentage</th>\n",
       "    </tr>\n",
       "    <tr>\n",
       "      <th>med_specialty</th>\n",
       "      <th></th>\n",
       "      <th></th>\n",
       "    </tr>\n",
       "  </thead>\n",
       "  <tbody>\n",
       "    <tr>\n",
       "      <th>Orthopedic</th>\n",
       "      <td>318264</td>\n",
       "      <td>99.47</td>\n",
       "    </tr>\n",
       "    <tr>\n",
       "      <th>General, Plastic Surgery</th>\n",
       "      <td>1130</td>\n",
       "      <td>0.35</td>\n",
       "    </tr>\n",
       "    <tr>\n",
       "      <th>Cardiovascular</th>\n",
       "      <td>428</td>\n",
       "      <td>0.13</td>\n",
       "    </tr>\n",
       "    <tr>\n",
       "      <th>Gastroenterology, Urology</th>\n",
       "      <td>78</td>\n",
       "      <td>0.02</td>\n",
       "    </tr>\n",
       "    <tr>\n",
       "      <th>Obstetrics/Gynecology</th>\n",
       "      <td>28</td>\n",
       "      <td>0.01</td>\n",
       "    </tr>\n",
       "    <tr>\n",
       "      <th>Unknown</th>\n",
       "      <td>20</td>\n",
       "      <td>0.01</td>\n",
       "    </tr>\n",
       "  </tbody>\n",
       "</table>\n",
       "</div>"
      ],
      "text/plain": [
       "                           device_count  percentage\n",
       "med_specialty                                      \n",
       "Orthopedic                       318264       99.47\n",
       "General, Plastic Surgery           1130        0.35\n",
       "Cardiovascular                      428        0.13\n",
       "Gastroenterology, Urology            78        0.02\n",
       "Obstetrics/Gynecology                28        0.01\n",
       "Unknown                              20        0.01"
      ]
     },
     "execution_count": 235,
     "metadata": {},
     "output_type": "execute_result"
    }
   ],
   "source": [
    "#Create df1_panel. Group by med_specialty, count devices, sort by number count\n",
    "df1_panel = df1.groupby('med_specialty').agg(device_count = ('model_number','count'))\\\n",
    "                                        .sort_values('device_count', ascending=False)\n",
    "#calculate percentage\n",
    "df1_panel['percentage'] = round(100*df2['device_count']/sum(df2['device_count']),2)\n",
    "df1_panel"
   ]
  },
  {
   "cell_type": "code",
   "execution_count": 234,
   "id": "9c014b29",
   "metadata": {},
   "outputs": [
    {
     "data": {
      "application/vnd.plotly.v1+json": {
       "config": {
        "plotlyServerURL": "https://plot.ly"
       },
       "data": [
        {
         "alignmentgroup": "True",
         "hovertemplate": "log(device_count)=%{text}<br>Medical Specialty Panel=%{y}<extra></extra>",
         "legendgroup": "",
         "marker": {
          "color": "#636efa",
          "pattern": {
           "shape": ""
          }
         },
         "name": "",
         "offsetgroup": "",
         "orientation": "h",
         "showlegend": false,
         "text": [
          20,
          28,
          78,
          428,
          1130,
          318264
         ],
         "textposition": "auto",
         "type": "bar",
         "x": [
          20,
          28,
          78,
          428,
          1130,
          318264
         ],
         "xaxis": "x",
         "y": [
          "Unknown",
          "Obstetrics/Gynecology",
          "Gastroenterology, Urology",
          "Cardiovascular",
          "General, Plastic Surgery",
          "Orthopedic"
         ],
         "yaxis": "y"
        }
       ],
       "layout": {
        "barmode": "relative",
        "legend": {
         "tracegroupgap": 0
        },
        "template": {
         "data": {
          "bar": [
           {
            "error_x": {
             "color": "#2a3f5f"
            },
            "error_y": {
             "color": "#2a3f5f"
            },
            "marker": {
             "line": {
              "color": "#E5ECF6",
              "width": 0.5
             },
             "pattern": {
              "fillmode": "overlay",
              "size": 10,
              "solidity": 0.2
             }
            },
            "type": "bar"
           }
          ],
          "barpolar": [
           {
            "marker": {
             "line": {
              "color": "#E5ECF6",
              "width": 0.5
             },
             "pattern": {
              "fillmode": "overlay",
              "size": 10,
              "solidity": 0.2
             }
            },
            "type": "barpolar"
           }
          ],
          "carpet": [
           {
            "aaxis": {
             "endlinecolor": "#2a3f5f",
             "gridcolor": "white",
             "linecolor": "white",
             "minorgridcolor": "white",
             "startlinecolor": "#2a3f5f"
            },
            "baxis": {
             "endlinecolor": "#2a3f5f",
             "gridcolor": "white",
             "linecolor": "white",
             "minorgridcolor": "white",
             "startlinecolor": "#2a3f5f"
            },
            "type": "carpet"
           }
          ],
          "choropleth": [
           {
            "colorbar": {
             "outlinewidth": 0,
             "ticks": ""
            },
            "type": "choropleth"
           }
          ],
          "contour": [
           {
            "colorbar": {
             "outlinewidth": 0,
             "ticks": ""
            },
            "colorscale": [
             [
              0,
              "#0d0887"
             ],
             [
              0.1111111111111111,
              "#46039f"
             ],
             [
              0.2222222222222222,
              "#7201a8"
             ],
             [
              0.3333333333333333,
              "#9c179e"
             ],
             [
              0.4444444444444444,
              "#bd3786"
             ],
             [
              0.5555555555555556,
              "#d8576b"
             ],
             [
              0.6666666666666666,
              "#ed7953"
             ],
             [
              0.7777777777777778,
              "#fb9f3a"
             ],
             [
              0.8888888888888888,
              "#fdca26"
             ],
             [
              1,
              "#f0f921"
             ]
            ],
            "type": "contour"
           }
          ],
          "contourcarpet": [
           {
            "colorbar": {
             "outlinewidth": 0,
             "ticks": ""
            },
            "type": "contourcarpet"
           }
          ],
          "heatmap": [
           {
            "colorbar": {
             "outlinewidth": 0,
             "ticks": ""
            },
            "colorscale": [
             [
              0,
              "#0d0887"
             ],
             [
              0.1111111111111111,
              "#46039f"
             ],
             [
              0.2222222222222222,
              "#7201a8"
             ],
             [
              0.3333333333333333,
              "#9c179e"
             ],
             [
              0.4444444444444444,
              "#bd3786"
             ],
             [
              0.5555555555555556,
              "#d8576b"
             ],
             [
              0.6666666666666666,
              "#ed7953"
             ],
             [
              0.7777777777777778,
              "#fb9f3a"
             ],
             [
              0.8888888888888888,
              "#fdca26"
             ],
             [
              1,
              "#f0f921"
             ]
            ],
            "type": "heatmap"
           }
          ],
          "heatmapgl": [
           {
            "colorbar": {
             "outlinewidth": 0,
             "ticks": ""
            },
            "colorscale": [
             [
              0,
              "#0d0887"
             ],
             [
              0.1111111111111111,
              "#46039f"
             ],
             [
              0.2222222222222222,
              "#7201a8"
             ],
             [
              0.3333333333333333,
              "#9c179e"
             ],
             [
              0.4444444444444444,
              "#bd3786"
             ],
             [
              0.5555555555555556,
              "#d8576b"
             ],
             [
              0.6666666666666666,
              "#ed7953"
             ],
             [
              0.7777777777777778,
              "#fb9f3a"
             ],
             [
              0.8888888888888888,
              "#fdca26"
             ],
             [
              1,
              "#f0f921"
             ]
            ],
            "type": "heatmapgl"
           }
          ],
          "histogram": [
           {
            "marker": {
             "pattern": {
              "fillmode": "overlay",
              "size": 10,
              "solidity": 0.2
             }
            },
            "type": "histogram"
           }
          ],
          "histogram2d": [
           {
            "colorbar": {
             "outlinewidth": 0,
             "ticks": ""
            },
            "colorscale": [
             [
              0,
              "#0d0887"
             ],
             [
              0.1111111111111111,
              "#46039f"
             ],
             [
              0.2222222222222222,
              "#7201a8"
             ],
             [
              0.3333333333333333,
              "#9c179e"
             ],
             [
              0.4444444444444444,
              "#bd3786"
             ],
             [
              0.5555555555555556,
              "#d8576b"
             ],
             [
              0.6666666666666666,
              "#ed7953"
             ],
             [
              0.7777777777777778,
              "#fb9f3a"
             ],
             [
              0.8888888888888888,
              "#fdca26"
             ],
             [
              1,
              "#f0f921"
             ]
            ],
            "type": "histogram2d"
           }
          ],
          "histogram2dcontour": [
           {
            "colorbar": {
             "outlinewidth": 0,
             "ticks": ""
            },
            "colorscale": [
             [
              0,
              "#0d0887"
             ],
             [
              0.1111111111111111,
              "#46039f"
             ],
             [
              0.2222222222222222,
              "#7201a8"
             ],
             [
              0.3333333333333333,
              "#9c179e"
             ],
             [
              0.4444444444444444,
              "#bd3786"
             ],
             [
              0.5555555555555556,
              "#d8576b"
             ],
             [
              0.6666666666666666,
              "#ed7953"
             ],
             [
              0.7777777777777778,
              "#fb9f3a"
             ],
             [
              0.8888888888888888,
              "#fdca26"
             ],
             [
              1,
              "#f0f921"
             ]
            ],
            "type": "histogram2dcontour"
           }
          ],
          "mesh3d": [
           {
            "colorbar": {
             "outlinewidth": 0,
             "ticks": ""
            },
            "type": "mesh3d"
           }
          ],
          "parcoords": [
           {
            "line": {
             "colorbar": {
              "outlinewidth": 0,
              "ticks": ""
             }
            },
            "type": "parcoords"
           }
          ],
          "pie": [
           {
            "automargin": true,
            "type": "pie"
           }
          ],
          "scatter": [
           {
            "fillpattern": {
             "fillmode": "overlay",
             "size": 10,
             "solidity": 0.2
            },
            "type": "scatter"
           }
          ],
          "scatter3d": [
           {
            "line": {
             "colorbar": {
              "outlinewidth": 0,
              "ticks": ""
             }
            },
            "marker": {
             "colorbar": {
              "outlinewidth": 0,
              "ticks": ""
             }
            },
            "type": "scatter3d"
           }
          ],
          "scattercarpet": [
           {
            "marker": {
             "colorbar": {
              "outlinewidth": 0,
              "ticks": ""
             }
            },
            "type": "scattercarpet"
           }
          ],
          "scattergeo": [
           {
            "marker": {
             "colorbar": {
              "outlinewidth": 0,
              "ticks": ""
             }
            },
            "type": "scattergeo"
           }
          ],
          "scattergl": [
           {
            "marker": {
             "colorbar": {
              "outlinewidth": 0,
              "ticks": ""
             }
            },
            "type": "scattergl"
           }
          ],
          "scattermapbox": [
           {
            "marker": {
             "colorbar": {
              "outlinewidth": 0,
              "ticks": ""
             }
            },
            "type": "scattermapbox"
           }
          ],
          "scatterpolar": [
           {
            "marker": {
             "colorbar": {
              "outlinewidth": 0,
              "ticks": ""
             }
            },
            "type": "scatterpolar"
           }
          ],
          "scatterpolargl": [
           {
            "marker": {
             "colorbar": {
              "outlinewidth": 0,
              "ticks": ""
             }
            },
            "type": "scatterpolargl"
           }
          ],
          "scatterternary": [
           {
            "marker": {
             "colorbar": {
              "outlinewidth": 0,
              "ticks": ""
             }
            },
            "type": "scatterternary"
           }
          ],
          "surface": [
           {
            "colorbar": {
             "outlinewidth": 0,
             "ticks": ""
            },
            "colorscale": [
             [
              0,
              "#0d0887"
             ],
             [
              0.1111111111111111,
              "#46039f"
             ],
             [
              0.2222222222222222,
              "#7201a8"
             ],
             [
              0.3333333333333333,
              "#9c179e"
             ],
             [
              0.4444444444444444,
              "#bd3786"
             ],
             [
              0.5555555555555556,
              "#d8576b"
             ],
             [
              0.6666666666666666,
              "#ed7953"
             ],
             [
              0.7777777777777778,
              "#fb9f3a"
             ],
             [
              0.8888888888888888,
              "#fdca26"
             ],
             [
              1,
              "#f0f921"
             ]
            ],
            "type": "surface"
           }
          ],
          "table": [
           {
            "cells": {
             "fill": {
              "color": "#EBF0F8"
             },
             "line": {
              "color": "white"
             }
            },
            "header": {
             "fill": {
              "color": "#C8D4E3"
             },
             "line": {
              "color": "white"
             }
            },
            "type": "table"
           }
          ]
         },
         "layout": {
          "annotationdefaults": {
           "arrowcolor": "#2a3f5f",
           "arrowhead": 0,
           "arrowwidth": 1
          },
          "autotypenumbers": "strict",
          "coloraxis": {
           "colorbar": {
            "outlinewidth": 0,
            "ticks": ""
           }
          },
          "colorscale": {
           "diverging": [
            [
             0,
             "#8e0152"
            ],
            [
             0.1,
             "#c51b7d"
            ],
            [
             0.2,
             "#de77ae"
            ],
            [
             0.3,
             "#f1b6da"
            ],
            [
             0.4,
             "#fde0ef"
            ],
            [
             0.5,
             "#f7f7f7"
            ],
            [
             0.6,
             "#e6f5d0"
            ],
            [
             0.7,
             "#b8e186"
            ],
            [
             0.8,
             "#7fbc41"
            ],
            [
             0.9,
             "#4d9221"
            ],
            [
             1,
             "#276419"
            ]
           ],
           "sequential": [
            [
             0,
             "#0d0887"
            ],
            [
             0.1111111111111111,
             "#46039f"
            ],
            [
             0.2222222222222222,
             "#7201a8"
            ],
            [
             0.3333333333333333,
             "#9c179e"
            ],
            [
             0.4444444444444444,
             "#bd3786"
            ],
            [
             0.5555555555555556,
             "#d8576b"
            ],
            [
             0.6666666666666666,
             "#ed7953"
            ],
            [
             0.7777777777777778,
             "#fb9f3a"
            ],
            [
             0.8888888888888888,
             "#fdca26"
            ],
            [
             1,
             "#f0f921"
            ]
           ],
           "sequentialminus": [
            [
             0,
             "#0d0887"
            ],
            [
             0.1111111111111111,
             "#46039f"
            ],
            [
             0.2222222222222222,
             "#7201a8"
            ],
            [
             0.3333333333333333,
             "#9c179e"
            ],
            [
             0.4444444444444444,
             "#bd3786"
            ],
            [
             0.5555555555555556,
             "#d8576b"
            ],
            [
             0.6666666666666666,
             "#ed7953"
            ],
            [
             0.7777777777777778,
             "#fb9f3a"
            ],
            [
             0.8888888888888888,
             "#fdca26"
            ],
            [
             1,
             "#f0f921"
            ]
           ]
          },
          "colorway": [
           "#636efa",
           "#EF553B",
           "#00cc96",
           "#ab63fa",
           "#FFA15A",
           "#19d3f3",
           "#FF6692",
           "#B6E880",
           "#FF97FF",
           "#FECB52"
          ],
          "font": {
           "color": "#2a3f5f"
          },
          "geo": {
           "bgcolor": "white",
           "lakecolor": "white",
           "landcolor": "#E5ECF6",
           "showlakes": true,
           "showland": true,
           "subunitcolor": "white"
          },
          "hoverlabel": {
           "align": "left"
          },
          "hovermode": "closest",
          "mapbox": {
           "style": "light"
          },
          "paper_bgcolor": "white",
          "plot_bgcolor": "#E5ECF6",
          "polar": {
           "angularaxis": {
            "gridcolor": "white",
            "linecolor": "white",
            "ticks": ""
           },
           "bgcolor": "#E5ECF6",
           "radialaxis": {
            "gridcolor": "white",
            "linecolor": "white",
            "ticks": ""
           }
          },
          "scene": {
           "xaxis": {
            "backgroundcolor": "#E5ECF6",
            "gridcolor": "white",
            "gridwidth": 2,
            "linecolor": "white",
            "showbackground": true,
            "ticks": "",
            "zerolinecolor": "white"
           },
           "yaxis": {
            "backgroundcolor": "#E5ECF6",
            "gridcolor": "white",
            "gridwidth": 2,
            "linecolor": "white",
            "showbackground": true,
            "ticks": "",
            "zerolinecolor": "white"
           },
           "zaxis": {
            "backgroundcolor": "#E5ECF6",
            "gridcolor": "white",
            "gridwidth": 2,
            "linecolor": "white",
            "showbackground": true,
            "ticks": "",
            "zerolinecolor": "white"
           }
          },
          "shapedefaults": {
           "line": {
            "color": "#2a3f5f"
           }
          },
          "ternary": {
           "aaxis": {
            "gridcolor": "white",
            "linecolor": "white",
            "ticks": ""
           },
           "baxis": {
            "gridcolor": "white",
            "linecolor": "white",
            "ticks": ""
           },
           "bgcolor": "#E5ECF6",
           "caxis": {
            "gridcolor": "white",
            "linecolor": "white",
            "ticks": ""
           }
          },
          "title": {
           "x": 0.05
          },
          "xaxis": {
           "automargin": true,
           "gridcolor": "white",
           "linecolor": "white",
           "ticks": "",
           "title": {
            "standoff": 15
           },
           "zerolinecolor": "white",
           "zerolinewidth": 2
          },
          "yaxis": {
           "automargin": true,
           "gridcolor": "white",
           "linecolor": "white",
           "ticks": "",
           "title": {
            "standoff": 15
           },
           "zerolinecolor": "white",
           "zerolinewidth": 2
          }
         }
        },
        "title": {
         "text": "Applications per Medical Specialty"
        },
        "xaxis": {
         "anchor": "y",
         "domain": [
          0,
          1
         ],
         "title": {
          "text": "log(device_count)"
         },
         "type": "log"
        },
        "yaxis": {
         "anchor": "x",
         "domain": [
          0,
          1
         ],
         "title": {
          "text": "Medical Specialty Panel"
         }
        }
       }
      },
      "text/html": [
       "<div>                            <div id=\"f73173db-51bc-4708-a888-188486b55227\" class=\"plotly-graph-div\" style=\"height:525px; width:100%;\"></div>            <script type=\"text/javascript\">                require([\"plotly\"], function(Plotly) {                    window.PLOTLYENV=window.PLOTLYENV || {};                                    if (document.getElementById(\"f73173db-51bc-4708-a888-188486b55227\")) {                    Plotly.newPlot(                        \"f73173db-51bc-4708-a888-188486b55227\",                        [{\"alignmentgroup\":\"True\",\"hovertemplate\":\"log(device_count)=%{text}<br>Medical Specialty Panel=%{y}<extra></extra>\",\"legendgroup\":\"\",\"marker\":{\"color\":\"#636efa\",\"pattern\":{\"shape\":\"\"}},\"name\":\"\",\"offsetgroup\":\"\",\"orientation\":\"h\",\"showlegend\":false,\"text\":[20.0,28.0,78.0,428.0,1130.0,318264.0],\"textposition\":\"auto\",\"x\":[20,28,78,428,1130,318264],\"xaxis\":\"x\",\"y\":[\"Unknown\",\"Obstetrics/Gynecology\",\"Gastroenterology, Urology\",\"Cardiovascular\",\"General, Plastic Surgery\",\"Orthopedic\"],\"yaxis\":\"y\",\"type\":\"bar\"}],                        {\"template\":{\"data\":{\"histogram2dcontour\":[{\"type\":\"histogram2dcontour\",\"colorbar\":{\"outlinewidth\":0,\"ticks\":\"\"},\"colorscale\":[[0.0,\"#0d0887\"],[0.1111111111111111,\"#46039f\"],[0.2222222222222222,\"#7201a8\"],[0.3333333333333333,\"#9c179e\"],[0.4444444444444444,\"#bd3786\"],[0.5555555555555556,\"#d8576b\"],[0.6666666666666666,\"#ed7953\"],[0.7777777777777778,\"#fb9f3a\"],[0.8888888888888888,\"#fdca26\"],[1.0,\"#f0f921\"]]}],\"choropleth\":[{\"type\":\"choropleth\",\"colorbar\":{\"outlinewidth\":0,\"ticks\":\"\"}}],\"histogram2d\":[{\"type\":\"histogram2d\",\"colorbar\":{\"outlinewidth\":0,\"ticks\":\"\"},\"colorscale\":[[0.0,\"#0d0887\"],[0.1111111111111111,\"#46039f\"],[0.2222222222222222,\"#7201a8\"],[0.3333333333333333,\"#9c179e\"],[0.4444444444444444,\"#bd3786\"],[0.5555555555555556,\"#d8576b\"],[0.6666666666666666,\"#ed7953\"],[0.7777777777777778,\"#fb9f3a\"],[0.8888888888888888,\"#fdca26\"],[1.0,\"#f0f921\"]]}],\"heatmap\":[{\"type\":\"heatmap\",\"colorbar\":{\"outlinewidth\":0,\"ticks\":\"\"},\"colorscale\":[[0.0,\"#0d0887\"],[0.1111111111111111,\"#46039f\"],[0.2222222222222222,\"#7201a8\"],[0.3333333333333333,\"#9c179e\"],[0.4444444444444444,\"#bd3786\"],[0.5555555555555556,\"#d8576b\"],[0.6666666666666666,\"#ed7953\"],[0.7777777777777778,\"#fb9f3a\"],[0.8888888888888888,\"#fdca26\"],[1.0,\"#f0f921\"]]}],\"heatmapgl\":[{\"type\":\"heatmapgl\",\"colorbar\":{\"outlinewidth\":0,\"ticks\":\"\"},\"colorscale\":[[0.0,\"#0d0887\"],[0.1111111111111111,\"#46039f\"],[0.2222222222222222,\"#7201a8\"],[0.3333333333333333,\"#9c179e\"],[0.4444444444444444,\"#bd3786\"],[0.5555555555555556,\"#d8576b\"],[0.6666666666666666,\"#ed7953\"],[0.7777777777777778,\"#fb9f3a\"],[0.8888888888888888,\"#fdca26\"],[1.0,\"#f0f921\"]]}],\"contourcarpet\":[{\"type\":\"contourcarpet\",\"colorbar\":{\"outlinewidth\":0,\"ticks\":\"\"}}],\"contour\":[{\"type\":\"contour\",\"colorbar\":{\"outlinewidth\":0,\"ticks\":\"\"},\"colorscale\":[[0.0,\"#0d0887\"],[0.1111111111111111,\"#46039f\"],[0.2222222222222222,\"#7201a8\"],[0.3333333333333333,\"#9c179e\"],[0.4444444444444444,\"#bd3786\"],[0.5555555555555556,\"#d8576b\"],[0.6666666666666666,\"#ed7953\"],[0.7777777777777778,\"#fb9f3a\"],[0.8888888888888888,\"#fdca26\"],[1.0,\"#f0f921\"]]}],\"surface\":[{\"type\":\"surface\",\"colorbar\":{\"outlinewidth\":0,\"ticks\":\"\"},\"colorscale\":[[0.0,\"#0d0887\"],[0.1111111111111111,\"#46039f\"],[0.2222222222222222,\"#7201a8\"],[0.3333333333333333,\"#9c179e\"],[0.4444444444444444,\"#bd3786\"],[0.5555555555555556,\"#d8576b\"],[0.6666666666666666,\"#ed7953\"],[0.7777777777777778,\"#fb9f3a\"],[0.8888888888888888,\"#fdca26\"],[1.0,\"#f0f921\"]]}],\"mesh3d\":[{\"type\":\"mesh3d\",\"colorbar\":{\"outlinewidth\":0,\"ticks\":\"\"}}],\"scatter\":[{\"fillpattern\":{\"fillmode\":\"overlay\",\"size\":10,\"solidity\":0.2},\"type\":\"scatter\"}],\"parcoords\":[{\"type\":\"parcoords\",\"line\":{\"colorbar\":{\"outlinewidth\":0,\"ticks\":\"\"}}}],\"scatterpolargl\":[{\"type\":\"scatterpolargl\",\"marker\":{\"colorbar\":{\"outlinewidth\":0,\"ticks\":\"\"}}}],\"bar\":[{\"error_x\":{\"color\":\"#2a3f5f\"},\"error_y\":{\"color\":\"#2a3f5f\"},\"marker\":{\"line\":{\"color\":\"#E5ECF6\",\"width\":0.5},\"pattern\":{\"fillmode\":\"overlay\",\"size\":10,\"solidity\":0.2}},\"type\":\"bar\"}],\"scattergeo\":[{\"type\":\"scattergeo\",\"marker\":{\"colorbar\":{\"outlinewidth\":0,\"ticks\":\"\"}}}],\"scatterpolar\":[{\"type\":\"scatterpolar\",\"marker\":{\"colorbar\":{\"outlinewidth\":0,\"ticks\":\"\"}}}],\"histogram\":[{\"marker\":{\"pattern\":{\"fillmode\":\"overlay\",\"size\":10,\"solidity\":0.2}},\"type\":\"histogram\"}],\"scattergl\":[{\"type\":\"scattergl\",\"marker\":{\"colorbar\":{\"outlinewidth\":0,\"ticks\":\"\"}}}],\"scatter3d\":[{\"type\":\"scatter3d\",\"line\":{\"colorbar\":{\"outlinewidth\":0,\"ticks\":\"\"}},\"marker\":{\"colorbar\":{\"outlinewidth\":0,\"ticks\":\"\"}}}],\"scattermapbox\":[{\"type\":\"scattermapbox\",\"marker\":{\"colorbar\":{\"outlinewidth\":0,\"ticks\":\"\"}}}],\"scatterternary\":[{\"type\":\"scatterternary\",\"marker\":{\"colorbar\":{\"outlinewidth\":0,\"ticks\":\"\"}}}],\"scattercarpet\":[{\"type\":\"scattercarpet\",\"marker\":{\"colorbar\":{\"outlinewidth\":0,\"ticks\":\"\"}}}],\"carpet\":[{\"aaxis\":{\"endlinecolor\":\"#2a3f5f\",\"gridcolor\":\"white\",\"linecolor\":\"white\",\"minorgridcolor\":\"white\",\"startlinecolor\":\"#2a3f5f\"},\"baxis\":{\"endlinecolor\":\"#2a3f5f\",\"gridcolor\":\"white\",\"linecolor\":\"white\",\"minorgridcolor\":\"white\",\"startlinecolor\":\"#2a3f5f\"},\"type\":\"carpet\"}],\"table\":[{\"cells\":{\"fill\":{\"color\":\"#EBF0F8\"},\"line\":{\"color\":\"white\"}},\"header\":{\"fill\":{\"color\":\"#C8D4E3\"},\"line\":{\"color\":\"white\"}},\"type\":\"table\"}],\"barpolar\":[{\"marker\":{\"line\":{\"color\":\"#E5ECF6\",\"width\":0.5},\"pattern\":{\"fillmode\":\"overlay\",\"size\":10,\"solidity\":0.2}},\"type\":\"barpolar\"}],\"pie\":[{\"automargin\":true,\"type\":\"pie\"}]},\"layout\":{\"autotypenumbers\":\"strict\",\"colorway\":[\"#636efa\",\"#EF553B\",\"#00cc96\",\"#ab63fa\",\"#FFA15A\",\"#19d3f3\",\"#FF6692\",\"#B6E880\",\"#FF97FF\",\"#FECB52\"],\"font\":{\"color\":\"#2a3f5f\"},\"hovermode\":\"closest\",\"hoverlabel\":{\"align\":\"left\"},\"paper_bgcolor\":\"white\",\"plot_bgcolor\":\"#E5ECF6\",\"polar\":{\"bgcolor\":\"#E5ECF6\",\"angularaxis\":{\"gridcolor\":\"white\",\"linecolor\":\"white\",\"ticks\":\"\"},\"radialaxis\":{\"gridcolor\":\"white\",\"linecolor\":\"white\",\"ticks\":\"\"}},\"ternary\":{\"bgcolor\":\"#E5ECF6\",\"aaxis\":{\"gridcolor\":\"white\",\"linecolor\":\"white\",\"ticks\":\"\"},\"baxis\":{\"gridcolor\":\"white\",\"linecolor\":\"white\",\"ticks\":\"\"},\"caxis\":{\"gridcolor\":\"white\",\"linecolor\":\"white\",\"ticks\":\"\"}},\"coloraxis\":{\"colorbar\":{\"outlinewidth\":0,\"ticks\":\"\"}},\"colorscale\":{\"sequential\":[[0.0,\"#0d0887\"],[0.1111111111111111,\"#46039f\"],[0.2222222222222222,\"#7201a8\"],[0.3333333333333333,\"#9c179e\"],[0.4444444444444444,\"#bd3786\"],[0.5555555555555556,\"#d8576b\"],[0.6666666666666666,\"#ed7953\"],[0.7777777777777778,\"#fb9f3a\"],[0.8888888888888888,\"#fdca26\"],[1.0,\"#f0f921\"]],\"sequentialminus\":[[0.0,\"#0d0887\"],[0.1111111111111111,\"#46039f\"],[0.2222222222222222,\"#7201a8\"],[0.3333333333333333,\"#9c179e\"],[0.4444444444444444,\"#bd3786\"],[0.5555555555555556,\"#d8576b\"],[0.6666666666666666,\"#ed7953\"],[0.7777777777777778,\"#fb9f3a\"],[0.8888888888888888,\"#fdca26\"],[1.0,\"#f0f921\"]],\"diverging\":[[0,\"#8e0152\"],[0.1,\"#c51b7d\"],[0.2,\"#de77ae\"],[0.3,\"#f1b6da\"],[0.4,\"#fde0ef\"],[0.5,\"#f7f7f7\"],[0.6,\"#e6f5d0\"],[0.7,\"#b8e186\"],[0.8,\"#7fbc41\"],[0.9,\"#4d9221\"],[1,\"#276419\"]]},\"xaxis\":{\"gridcolor\":\"white\",\"linecolor\":\"white\",\"ticks\":\"\",\"title\":{\"standoff\":15},\"zerolinecolor\":\"white\",\"automargin\":true,\"zerolinewidth\":2},\"yaxis\":{\"gridcolor\":\"white\",\"linecolor\":\"white\",\"ticks\":\"\",\"title\":{\"standoff\":15},\"zerolinecolor\":\"white\",\"automargin\":true,\"zerolinewidth\":2},\"scene\":{\"xaxis\":{\"backgroundcolor\":\"#E5ECF6\",\"gridcolor\":\"white\",\"linecolor\":\"white\",\"showbackground\":true,\"ticks\":\"\",\"zerolinecolor\":\"white\",\"gridwidth\":2},\"yaxis\":{\"backgroundcolor\":\"#E5ECF6\",\"gridcolor\":\"white\",\"linecolor\":\"white\",\"showbackground\":true,\"ticks\":\"\",\"zerolinecolor\":\"white\",\"gridwidth\":2},\"zaxis\":{\"backgroundcolor\":\"#E5ECF6\",\"gridcolor\":\"white\",\"linecolor\":\"white\",\"showbackground\":true,\"ticks\":\"\",\"zerolinecolor\":\"white\",\"gridwidth\":2}},\"shapedefaults\":{\"line\":{\"color\":\"#2a3f5f\"}},\"annotationdefaults\":{\"arrowcolor\":\"#2a3f5f\",\"arrowhead\":0,\"arrowwidth\":1},\"geo\":{\"bgcolor\":\"white\",\"landcolor\":\"#E5ECF6\",\"subunitcolor\":\"white\",\"showland\":true,\"showlakes\":true,\"lakecolor\":\"white\"},\"title\":{\"x\":0.05},\"mapbox\":{\"style\":\"light\"}}},\"xaxis\":{\"anchor\":\"y\",\"domain\":[0.0,1.0],\"title\":{\"text\":\"log(device_count)\"},\"type\":\"log\"},\"yaxis\":{\"anchor\":\"x\",\"domain\":[0.0,1.0],\"title\":{\"text\":\"Medical Specialty Panel\"}},\"legend\":{\"tracegroupgap\":0},\"title\":{\"text\":\"Applications per Medical Specialty\"},\"barmode\":\"relative\"},                        {\"responsive\": true}                    ).then(function(){\n",
       "                            \n",
       "var gd = document.getElementById('f73173db-51bc-4708-a888-188486b55227');\n",
       "var x = new MutationObserver(function (mutations, observer) {{\n",
       "        var display = window.getComputedStyle(gd).display;\n",
       "        if (!display || display === 'none') {{\n",
       "            console.log([gd, 'removed!']);\n",
       "            Plotly.purge(gd);\n",
       "            observer.disconnect();\n",
       "        }}\n",
       "}});\n",
       "\n",
       "// Listen for the removal of the full notebook cells\n",
       "var notebookContainer = gd.closest('#notebook-container');\n",
       "if (notebookContainer) {{\n",
       "    x.observe(notebookContainer, {childList: true});\n",
       "}}\n",
       "\n",
       "// Listen for the clearing of the current output cell\n",
       "var outputEl = gd.closest('.output');\n",
       "if (outputEl) {{\n",
       "    x.observe(outputEl, {childList: true});\n",
       "}}\n",
       "\n",
       "                        })                };                });            </script>        </div>"
      ]
     },
     "metadata": {},
     "output_type": "display_data"
    }
   ],
   "source": [
    "#bar plot\n",
    "fig_panel = px.bar(df1_panel.sort_values('device_count'), \n",
    "                   x='device_count',log_x=True,\n",
    "                   labels={'device_count': 'log(device_count)', 'med_specialty':'Medical Specialty Panel'},\n",
    "                   title='Applications per Medical Specialty',\n",
    "                   text='device_count')\n",
    "\n",
    "fig_panel.show()"
   ]
  },
  {
   "cell_type": "markdown",
   "id": "84035212",
   "metadata": {},
   "source": [
    "#### What companies produce the most devices and what medical industry do they target?\n",
    "\n",
    "The analysis below shows that the 10 companies that produce the most implantable devices target the Orthopedics market. Moreover, we can see that these top 10 players have various products in order of magnitude greater than other companies."
   ]
  },
  {
   "cell_type": "code",
   "execution_count": 238,
   "id": "88e174a6",
   "metadata": {
    "scrolled": true
   },
   "outputs": [
    {
     "data": {
      "text/html": [
       "<div>\n",
       "<style scoped>\n",
       "    .dataframe tbody tr th:only-of-type {\n",
       "        vertical-align: middle;\n",
       "    }\n",
       "\n",
       "    .dataframe tbody tr th {\n",
       "        vertical-align: top;\n",
       "    }\n",
       "\n",
       "    .dataframe thead th {\n",
       "        text-align: right;\n",
       "    }\n",
       "</style>\n",
       "<table border=\"1\" class=\"dataframe\">\n",
       "  <thead>\n",
       "    <tr style=\"text-align: right;\">\n",
       "      <th></th>\n",
       "      <th></th>\n",
       "      <th>number_of_products</th>\n",
       "    </tr>\n",
       "    <tr>\n",
       "      <th>company_name</th>\n",
       "      <th>med_specialty</th>\n",
       "      <th></th>\n",
       "    </tr>\n",
       "  </thead>\n",
       "  <tbody>\n",
       "    <tr>\n",
       "      <th>nuvasive, inc.</th>\n",
       "      <th>Orthopedic</th>\n",
       "      <td>24737</td>\n",
       "    </tr>\n",
       "    <tr>\n",
       "      <th>gbs commonwealth co.,ltd.</th>\n",
       "      <th>Orthopedic</th>\n",
       "      <td>24616</td>\n",
       "    </tr>\n",
       "    <tr>\n",
       "      <th>medtronic sofamor danek, inc.</th>\n",
       "      <th>Orthopedic</th>\n",
       "      <td>19318</td>\n",
       "    </tr>\n",
       "    <tr>\n",
       "      <th>globus medical, inc.</th>\n",
       "      <th>Orthopedic</th>\n",
       "      <td>17850</td>\n",
       "    </tr>\n",
       "    <tr>\n",
       "      <th>biomet orthopedics, llc</th>\n",
       "      <th>Orthopedic</th>\n",
       "      <td>12213</td>\n",
       "    </tr>\n",
       "    <tr>\n",
       "      <th>zimmer, inc.</th>\n",
       "      <th>Orthopedic</th>\n",
       "      <td>12207</td>\n",
       "    </tr>\n",
       "    <tr>\n",
       "      <th>alphatec spine, inc.</th>\n",
       "      <th>Orthopedic</th>\n",
       "      <td>12117</td>\n",
       "    </tr>\n",
       "    <tr>\n",
       "      <th>smith &amp; nephew, inc.</th>\n",
       "      <th>Orthopedic</th>\n",
       "      <td>10971</td>\n",
       "    </tr>\n",
       "    <tr>\n",
       "      <th>l&amp;k biomed co. ,ltd.</th>\n",
       "      <th>Orthopedic</th>\n",
       "      <td>9292</td>\n",
       "    </tr>\n",
       "    <tr>\n",
       "      <th>seaspine orthopedics corporation</th>\n",
       "      <th>Orthopedic</th>\n",
       "      <td>8948</td>\n",
       "    </tr>\n",
       "  </tbody>\n",
       "</table>\n",
       "</div>"
      ],
      "text/plain": [
       "                                                number_of_products\n",
       "company_name                     med_specialty                    \n",
       "nuvasive, inc.                   Orthopedic                  24737\n",
       "gbs commonwealth co.,ltd.        Orthopedic                  24616\n",
       "medtronic sofamor danek, inc.    Orthopedic                  19318\n",
       "globus medical, inc.             Orthopedic                  17850\n",
       "biomet orthopedics, llc          Orthopedic                  12213\n",
       "zimmer, inc.                     Orthopedic                  12207\n",
       "alphatec spine, inc.             Orthopedic                  12117\n",
       "smith & nephew, inc.             Orthopedic                  10971\n",
       "l&k biomed co. ,ltd.             Orthopedic                   9292\n",
       "seaspine orthopedics corporation Orthopedic                   8948"
      ]
     },
     "execution_count": 238,
     "metadata": {},
     "output_type": "execute_result"
    }
   ],
   "source": [
    "#Group by company_name, med_specialty, cound number of devices per company_name\n",
    "df1_company = df1.groupby(['company_name','med_specialty']).agg(number_of_products = ('model_number','count'))\\\n",
    "                                                            .sort_values('number_of_products', ascending=False)\n",
    "df1_company.head(10)"
   ]
  },
  {
   "cell_type": "code",
   "execution_count": 239,
   "id": "8235828b",
   "metadata": {},
   "outputs": [
    {
     "data": {
      "application/vnd.plotly.v1+json": {
       "config": {
        "plotlyServerURL": "https://plot.ly"
       },
       "data": [
        {
         "branchvalues": "total",
         "customdata": [
          [
           111
          ],
          [
           1
          ],
          [
           304
          ],
          [
           120
          ],
          [
           12117
          ],
          [
           840
          ],
          [
           85
          ],
          [
           483
          ],
          [
           236
          ],
          [
           221
          ],
          [
           426
          ],
          [
           54
          ],
          [
           77
          ],
          [
           77
          ],
          [
           182
          ],
          [
           96
          ],
          [
           3
          ],
          [
           290
          ],
          [
           12213
          ],
          [
           5
          ],
          [
           1
          ],
          [
           26
          ],
          [
           92
          ],
          [
           315
          ],
          [
           19
          ],
          [
           3114
          ],
          [
           95
          ],
          [
           53
          ],
          [
           18
          ],
          [
           47
          ],
          [
           460
          ],
          [
           1060
          ],
          [
           228
          ],
          [
           168
          ],
          [
           45
          ],
          [
           788
          ],
          [
           59
          ],
          [
           2809
          ],
          [
           6
          ],
          [
           1712
          ],
          [
           216
          ],
          [
           73
          ],
          [
           4
          ],
          [
           378
          ],
          [
           2
          ],
          [
           1387
          ],
          [
           5966
          ],
          [
           3567
          ],
          [
           242
          ],
          [
           851
          ],
          [
           201
          ],
          [
           43
          ],
          [
           1218
          ],
          [
           2
          ],
          [
           1169
          ],
          [
           112
          ],
          [
           48
          ],
          [
           3078
          ],
          [
           1915
          ],
          [
           2091
          ],
          [
           157
          ],
          [
           64
          ],
          [
           7
          ],
          [
           21
          ],
          [
           309
          ],
          [
           2779
          ],
          [
           565
          ],
          [
           385
          ],
          [
           63
          ],
          [
           3
          ],
          [
           3734
          ],
          [
           18
          ],
          [
           634
          ],
          [
           707
          ],
          [
           334
          ],
          [
           3
          ],
          [
           2
          ],
          [
           24616
          ],
          [
           1226
          ],
          [
           166
          ],
          [
           17850
          ],
          [
           43
          ],
          [
           5827
          ],
          [
           5
          ],
          [
           11
          ],
          [
           1
          ],
          [
           5
          ],
          [
           4670
          ],
          [
           7
          ],
          [
           2009
          ],
          [
           235
          ],
          [
           14
          ],
          [
           413
          ],
          [
           228
          ],
          [
           26
          ],
          [
           61
          ],
          [
           159
          ],
          [
           168
          ],
          [
           826
          ],
          [
           75
          ],
          [
           961
          ],
          [
           118
          ],
          [
           183
          ],
          [
           8095
          ],
          [
           248
          ],
          [
           13
          ],
          [
           54
          ],
          [
           2
          ],
          [
           1961
          ],
          [
           9292
          ],
          [
           2
          ],
          [
           1323
          ],
          [
           4348
          ],
          [
           2914
          ],
          [
           123
          ],
          [
           676
          ],
          [
           168
          ],
          [
           10
          ],
          [
           305
          ],
          [
           391
          ],
          [
           5840
          ],
          [
           53
          ],
          [
           3604
          ],
          [
           784
          ],
          [
           1976
          ],
          [
           8
          ],
          [
           19318
          ],
          [
           185
          ],
          [
           751
          ],
          [
           183
          ],
          [
           49
          ],
          [
           398
          ],
          [
           8
          ],
          [
           591
          ],
          [
           12
          ],
          [
           452
          ],
          [
           183
          ],
          [
           36
          ],
          [
           256
          ],
          [
           9
          ],
          [
           95
          ],
          [
           1672
          ],
          [
           779
          ],
          [
           24737
          ],
          [
           454
          ],
          [
           158
          ],
          [
           46
          ],
          [
           376
          ],
          [
           2642
          ],
          [
           2860
          ],
          [
           23
          ],
          [
           85
          ],
          [
           1556
          ],
          [
           31
          ],
          [
           22
          ],
          [
           59
          ],
          [
           168
          ],
          [
           74
          ],
          [
           42
          ],
          [
           38
          ],
          [
           100
          ],
          [
           195
          ],
          [
           2396
          ],
          [
           1
          ],
          [
           22
          ],
          [
           3016
          ],
          [
           40
          ],
          [
           45
          ],
          [
           479
          ],
          [
           1
          ],
          [
           465
          ],
          [
           54
          ],
          [
           48
          ],
          [
           160
          ],
          [
           213
          ],
          [
           8948
          ],
          [
           681
          ],
          [
           108
          ],
          [
           470
          ],
          [
           216
          ],
          [
           2598
          ],
          [
           833
          ],
          [
           774
          ],
          [
           19
          ],
          [
           10971
          ],
          [
           5324
          ],
          [
           674
          ],
          [
           176
          ],
          [
           84
          ],
          [
           172
          ],
          [
           15
          ],
          [
           1563
          ],
          [
           7058
          ],
          [
           1653
          ],
          [
           526
          ],
          [
           1186
          ],
          [
           313
          ],
          [
           23
          ],
          [
           78
          ],
          [
           222
          ],
          [
           72
          ],
          [
           25
          ],
          [
           174
          ],
          [
           1235
          ],
          [
           5
          ],
          [
           9
          ],
          [
           5
          ],
          [
           752
          ],
          [
           822
          ],
          [
           505
          ],
          [
           687
          ],
          [
           6
          ],
          [
           47
          ],
          [
           8125
          ],
          [
           937
          ],
          [
           476
          ],
          [
           4547
          ],
          [
           1
          ],
          [
           264
          ],
          [
           2147
          ],
          [
           16
          ],
          [
           38
          ],
          [
           12
          ],
          [
           1288
          ],
          [
           872
          ],
          [
           523
          ],
          [
           377
          ],
          [
           9
          ],
          [
           12207
          ],
          [
           110.92990654205607
          ],
          [
           68.64102564102564
          ],
          [
           310.4212389380531
          ],
          [
           12.857142857142858
          ],
          [
           10073.382009903728
          ],
          [
           6.9
          ]
         ],
         "domain": {
          "x": [
           0,
           1
          ],
          "y": [
           0,
           1
          ]
         },
         "hovertemplate": "labels=%{label}<br>number_of_products_sum=%{value}<br>parent=%{parent}<br>id=%{id}<br>number_of_products=%{color}<extra></extra>",
         "ids": [
          "Orthopedic/acumed llc",
          "Orthopedic/advanced orthopaedic solutions, inc.",
          "General, Plastic Surgery/allergan, inc.",
          "Orthopedic/alliance partners llc",
          "Orthopedic/alphatec spine, inc.",
          "Orthopedic/altus spine, llc",
          "Orthopedic/amedica corporation",
          "Orthopedic/amplitude sas",
          "Orthopedic/arthrosurface incorporated",
          "Orthopedic/ascension orthopedics, inc.",
          "Orthopedic/atlas spine, inc.",
          "Orthopedic/aurora spine, inc.",
          "Orthopedic/axis spine technologies ltd",
          "Cardiovascular/b braun interventional systems, inc",
          "Orthopedic/back 2 basic direct, llc",
          "Orthopedic/baui biotech co. ltd.",
          "Obstetrics/Gynecology/bayer healthcare llc",
          "Orthopedic/biedermann motech gmbh & co. kg",
          "Orthopedic/biomet orthopedics, llc",
          "Unknown/biomet orthopedics, llc",
          "Orthopedic/biomet spine llc",
          "Orthopedic/biomet sports medicine, llc",
          "Orthopedic/biomet uk ltd",
          "Orthopedic/biopro, inc.",
          "Cardiovascular/biotronik se & co. kg",
          "Orthopedic/bk meditech co.,ltd.",
          "Orthopedic/bm korea co., ltd",
          "Cardiovascular/boston scientific corporation",
          "General, Plastic Surgery/caldera medical, inc.",
          "Orthopedic/calvary spine, llc",
          "Orthopedic/camber spine technologies, llc",
          "Orthopedic/captiva spine, inc.",
          "Orthopedic/carbofix orthopedics ltd",
          "Orthopedic/catalyst orthoscience inc.",
          "Orthopedic/cayenne medical, inc.",
          "Orthopedic/centinel spine, inc.",
          "Orthopedic/cg bio co., ltd.",
          "Orthopedic/choice spine, lp",
          "General, Plastic Surgery/cl medical",
          "Orthopedic/clariance",
          "Orthopedic/coligne ag",
          "Gastroenterology, Urology/coloplast a/s",
          "General, Plastic Surgery/coloplast a/s",
          "Orthopedic/conformis, inc.",
          "General, Plastic Surgery/cook biotech incorporated",
          "Orthopedic/corelink llc",
          "Orthopedic/corentec co., ltd",
          "Orthopedic/corin ltd",
          "Orthopedic/cpm medical consultants, llc",
          "Orthopedic/ctl medical corporation",
          "Orthopedic/curiteva, inc.",
          "Orthopedic/cutting edge spine, llc",
          "Orthopedic/degen medical, inc.",
          "General, Plastic Surgery/depuy (ireland)",
          "Orthopedic/depuy (ireland)",
          "Orthopedic/depuy international ltd",
          "General, Plastic Surgery/depuy orthopaedics, inc.",
          "Orthopedic/depuy orthopaedics, inc.",
          "Orthopedic/depuy spine, llc",
          "Orthopedic/diomedical co.,ltd.",
          "Orthopedic/djo, llc",
          "Orthopedic/eisertech, llc",
          "Orthopedic/elevation spine, inc.",
          "Orthopedic/elite surgical supplies (pty) ltd",
          "Orthopedic/eminent spine llc",
          "Orthopedic/encore medical, l.p.",
          "Orthopedic/endotec, inc.",
          "Orthopedic/engage uni llc",
          "Orthopedic/eos biotek,inc.",
          "General, Plastic Surgery/ethicon, llc",
          "Orthopedic/exactech, inc.",
          "Obstetrics/Gynecology/femcare limited",
          "Orthopedic/flospine llc",
          "Orthopedic/fournitures hospitalieres industrie",
          "Orthopedic/fx solutions",
          "Orthopedic/g surgical llc",
          "Orthopedic/g21 srl",
          "Orthopedic/gbs commonwealth co.,ltd.",
          "Orthopedic/genesys orthopedics systems llc",
          "Orthopedic/global manufacturing technology pty limited",
          "Orthopedic/globus medical, inc.",
          "Orthopedic/grafton medical alliance, inc.",
          "Orthopedic/gs medical co., ltd.",
          "Obstetrics/Gynecology/gyrus acmi, inc.",
          "Orthopedic/heraeus medical gmbh",
          "General, Plastic Surgery/herniamesh srl",
          "General, Plastic Surgery/howmedica osteonics corp.",
          "Orthopedic/howmedica osteonics corp.",
          "Unknown/howmedica osteonics corp.",
          "Orthopedic/hyhte holdings, inc.",
          "Orthopedic/iconacy orthopedic implants llc",
          "General, Plastic Surgery/ideal implant incorporated",
          "Orthopedic/implanet",
          "Orthopedic/implantcast gmbh",
          "Orthopedic/incite innovation",
          "Orthopedic/ingen orthopedics, l.l.c.",
          "Orthopedic/ingeniumspine, llc",
          "Orthopedic/inion oy",
          "Orthopedic/innovasis, inc.",
          "Orthopedic/innovative surgical designs",
          "Orthopedic/integrity implants inc.",
          "Orthopedic/intelligent implant systems, llc",
          "Orthopedic/joimax gmbh",
          "Orthopedic/k2m, inc.",
          "Orthopedic/kahtnu surgical",
          "Orthopedic/kalitec direct llc",
          "Orthopedic/kisco international",
          "Orthopedic/koros u.s.a., inc.",
          "Orthopedic/kyocera medical technologies, inc.",
          "Orthopedic/l&k biomed co. ,ltd.",
          "Orthopedic/laboratoires bodycad inc",
          "Orthopedic/ldr spine usa, inc.",
          "Orthopedic/life spine, inc.",
          "Orthopedic/limacorporate spa",
          "Orthopedic/linkspine, inc.",
          "Orthopedic/mako surgical corp.",
          "Orthopedic/materialise nv",
          "Orthopedic/materialise usa, l.l.c.",
          "Orthopedic/matortho ltd",
          "Orthopedic/maxx orthopedics, inc.",
          "Orthopedic/medacta international sa",
          "Orthopedic/medical designs  llc",
          "Orthopedic/medicrea international",
          "Orthopedic/meditech spine, llc",
          "Orthopedic/medos international sã rl",
          "General, Plastic Surgery/medtronic sofamor danek, inc.",
          "Orthopedic/medtronic sofamor danek, inc.",
          "Cardiovascular/medtronic, inc.",
          "Orthopedic/medyssey co., ltd.",
          "General, Plastic Surgery/mentor texas l.p.",
          "Orthopedic/merete gmbh",
          "Orthopedic/met 1 technologies, llc",
          "Unknown/microport crm srl",
          "Orthopedic/microport orthopedics inc.",
          "Cardiovascular/microvention inc.",
          "Orthopedic/modal manufacturing llc",
          "Orthopedic/nanovis spine, llc",
          "Orthopedic/neo medical sa",
          "Orthopedic/new era orthopedics llc",
          "Orthopedic/next orthosurgical, inc.",
          "Orthopedic/nextstep arthropedix, llc",
          "Orthopedic/nexxt spine, llc",
          "Orthopedic/novosource, llc",
          "Orthopedic/nuvasive, inc.",
          "Orthopedic/nvision biomedical technologies, inc.",
          "Orthopedic/onkos surgical, inc.",
          "Orthopedic/optimized ortho pty ltd",
          "Orthopedic/optimotion implants llc",
          "Orthopedic/ortho development corporation",
          "Orthopedic/orthofix inc.",
          "Orthopedic/orthomedflex llc",
          "Orthopedic/orthopaedic implant company, the",
          "Orthopedic/orthopediatrics corp.",
          "Orthopedic/orthopedic sciences inc",
          "Orthopedic/orthosoft inc",
          "Cardiovascular/oscor inc.",
          "Orthopedic/osseus fusion systems, llc",
          "Orthopedic/osso surgical llc",
          "Orthopedic/osteoremedies, llc",
          "Orthopedic/paradigm spine gmbh",
          "Orthopedic/paramount surgicals, inc.",
          "Orthopedic/paxeon reconstruction llc",
          "Orthopedic/pioneer surgical technology, inc.",
          "Obstetrics/Gynecology/pop medical solutions ltd",
          "General, Plastic Surgery/precision spine, inc.",
          "Orthopedic/precision spine, inc.",
          "Orthopedic/premia spine ltd",
          "Orthopedic/quandary medical  llc",
          "Orthopedic/reliance medical systems, llc",
          "Obstetrics/Gynecology/richard wolf medical instruments corp.",
          "Orthopedic/rootloc co., ltd.",
          "Orthopedic/royal oak medical devices llc",
          "Orthopedic/rsb spine llc",
          "Orthopedic/s.m.a.i.o",
          "Orthopedic/safe orthopaedics",
          "Orthopedic/seaspine orthopedics corporation",
          "Orthopedic/shandong weigao orthopaedic device co., ltd.",
          "Orthopedic/shoulder innovations, llc",
          "General, Plastic Surgery/sientra, inc.",
          "Orthopedic/signal medical corporation",
          "Orthopedic/signature orthopaedics pty ltd",
          "Orthopedic/signus medizintechnik gmbh",
          "Orthopedic/sintea plustek srl",
          "General, Plastic Surgery/smith & nephew, inc.",
          "Orthopedic/smith & nephew, inc.",
          "Orthopedic/solco biomedical co.,ltd.",
          "Orthopedic/solco biomedical company india private limited",
          "Orthopedic/southern spine llc",
          "Orthopedic/spinal balance, inc.",
          "Orthopedic/spinal resources, inc.",
          "Orthopedic/spinal simplicity, llc",
          "Orthopedic/spine wave, inc.",
          "Orthopedic/spinecraft, llc",
          "Orthopedic/spinefrontier, inc.",
          "Orthopedic/spineology inc.",
          "Orthopedic/spinevision",
          "Orthopedic/spineway",
          "Cardiovascular/st. jude medical, inc.",
          "Orthopedic/stanmore implants worldwide ltd",
          "Orthopedic/stinson orthopedics inc.",
          "Orthopedic/stryker corporation",
          "Orthopedic/stryker trauma gmbh",
          "Orthopedic/suzhou kangli orthopaedics instrument co.,ltd.",
          "Orthopedic/synthes (u.s.a.) lp",
          "General, Plastic Surgery/tecres spa",
          "Orthopedic/tecres spa",
          "Gastroenterology, Urology/teleflex incorporated",
          "Orthopedic/titan spine, llc",
          "Orthopedic/tornier",
          "Orthopedic/tornier, inc.",
          "Orthopedic/total joint orthopedics, inc.",
          "General, Plastic Surgery/tutogen medical gmbh",
          "Orthopedic/tyber medical llc",
          "Orthopedic/u&i corporation",
          "Orthopedic/ulrich gmbh & co. kg",
          "Orthopedic/ulrich medical usa, inc.",
          "Orthopedic/united orthopedic corp.",
          "General, Plastic Surgery/urocure llc",
          "Orthopedic/vgi medical, llc",
          "Orthopedic/waldemar link gmbh & co. kg",
          "Orthopedic/wenzel spine, inc.",
          "Orthopedic/wishbone medical, inc.",
          "Orthopedic/wright medical technology, inc.",
          "Orthopedic/x-spine systems, inc.",
          "Orthopedic/zavation llc",
          "Orthopedic/zimmer gmbh",
          "Orthopedic/zimmer trabecular metal technology inc.",
          "General, Plastic Surgery/zimmer, inc.",
          "Orthopedic/zimmer, inc.",
          "Cardiovascular",
          "Gastroenterology, Urology",
          "General, Plastic Surgery",
          "Obstetrics/Gynecology",
          "Orthopedic",
          "Unknown"
         ],
         "labels": [
          "acumed llc",
          "advanced orthopaedic solutions, inc.",
          "allergan, inc.",
          "alliance partners llc",
          "alphatec spine, inc.",
          "altus spine, llc",
          "amedica corporation",
          "amplitude sas",
          "arthrosurface incorporated",
          "ascension orthopedics, inc.",
          "atlas spine, inc.",
          "aurora spine, inc.",
          "axis spine technologies ltd",
          "b braun interventional systems, inc",
          "back 2 basic direct, llc",
          "baui biotech co. ltd.",
          "bayer healthcare llc",
          "biedermann motech gmbh & co. kg",
          "biomet orthopedics, llc",
          "biomet orthopedics, llc",
          "biomet spine llc",
          "biomet sports medicine, llc",
          "biomet uk ltd",
          "biopro, inc.",
          "biotronik se & co. kg",
          "bk meditech co.,ltd.",
          "bm korea co., ltd",
          "boston scientific corporation",
          "caldera medical, inc.",
          "calvary spine, llc",
          "camber spine technologies, llc",
          "captiva spine, inc.",
          "carbofix orthopedics ltd",
          "catalyst orthoscience inc.",
          "cayenne medical, inc.",
          "centinel spine, inc.",
          "cg bio co., ltd.",
          "choice spine, lp",
          "cl medical",
          "clariance",
          "coligne ag",
          "coloplast a/s",
          "coloplast a/s",
          "conformis, inc.",
          "cook biotech incorporated",
          "corelink llc",
          "corentec co., ltd",
          "corin ltd",
          "cpm medical consultants, llc",
          "ctl medical corporation",
          "curiteva, inc.",
          "cutting edge spine, llc",
          "degen medical, inc.",
          "depuy (ireland)",
          "depuy (ireland)",
          "depuy international ltd",
          "depuy orthopaedics, inc.",
          "depuy orthopaedics, inc.",
          "depuy spine, llc",
          "diomedical co.,ltd.",
          "djo, llc",
          "eisertech, llc",
          "elevation spine, inc.",
          "elite surgical supplies (pty) ltd",
          "eminent spine llc",
          "encore medical, l.p.",
          "endotec, inc.",
          "engage uni llc",
          "eos biotek,inc.",
          "ethicon, llc",
          "exactech, inc.",
          "femcare limited",
          "flospine llc",
          "fournitures hospitalieres industrie",
          "fx solutions",
          "g surgical llc",
          "g21 srl",
          "gbs commonwealth co.,ltd.",
          "genesys orthopedics systems llc",
          "global manufacturing technology pty limited",
          "globus medical, inc.",
          "grafton medical alliance, inc.",
          "gs medical co., ltd.",
          "gyrus acmi, inc.",
          "heraeus medical gmbh",
          "herniamesh srl",
          "howmedica osteonics corp.",
          "howmedica osteonics corp.",
          "howmedica osteonics corp.",
          "hyhte holdings, inc.",
          "iconacy orthopedic implants llc",
          "ideal implant incorporated",
          "implanet",
          "implantcast gmbh",
          "incite innovation",
          "ingen orthopedics, l.l.c.",
          "ingeniumspine, llc",
          "inion oy",
          "innovasis, inc.",
          "innovative surgical designs",
          "integrity implants inc.",
          "intelligent implant systems, llc",
          "joimax gmbh",
          "k2m, inc.",
          "kahtnu surgical",
          "kalitec direct llc",
          "kisco international",
          "koros u.s.a., inc.",
          "kyocera medical technologies, inc.",
          "l&k biomed co. ,ltd.",
          "laboratoires bodycad inc",
          "ldr spine usa, inc.",
          "life spine, inc.",
          "limacorporate spa",
          "linkspine, inc.",
          "mako surgical corp.",
          "materialise nv",
          "materialise usa, l.l.c.",
          "matortho ltd",
          "maxx orthopedics, inc.",
          "medacta international sa",
          "medical designs  llc",
          "medicrea international",
          "meditech spine, llc",
          "medos international sã rl",
          "medtronic sofamor danek, inc.",
          "medtronic sofamor danek, inc.",
          "medtronic, inc.",
          "medyssey co., ltd.",
          "mentor texas l.p.",
          "merete gmbh",
          "met 1 technologies, llc",
          "microport crm srl",
          "microport orthopedics inc.",
          "microvention inc.",
          "modal manufacturing llc",
          "nanovis spine, llc",
          "neo medical sa",
          "new era orthopedics llc",
          "next orthosurgical, inc.",
          "nextstep arthropedix, llc",
          "nexxt spine, llc",
          "novosource, llc",
          "nuvasive, inc.",
          "nvision biomedical technologies, inc.",
          "onkos surgical, inc.",
          "optimized ortho pty ltd",
          "optimotion implants llc",
          "ortho development corporation",
          "orthofix inc.",
          "orthomedflex llc",
          "orthopaedic implant company, the",
          "orthopediatrics corp.",
          "orthopedic sciences inc",
          "orthosoft inc",
          "oscor inc.",
          "osseus fusion systems, llc",
          "osso surgical llc",
          "osteoremedies, llc",
          "paradigm spine gmbh",
          "paramount surgicals, inc.",
          "paxeon reconstruction llc",
          "pioneer surgical technology, inc.",
          "pop medical solutions ltd",
          "precision spine, inc.",
          "precision spine, inc.",
          "premia spine ltd",
          "quandary medical  llc",
          "reliance medical systems, llc",
          "richard wolf medical instruments corp.",
          "rootloc co., ltd.",
          "royal oak medical devices llc",
          "rsb spine llc",
          "s.m.a.i.o",
          "safe orthopaedics",
          "seaspine orthopedics corporation",
          "shandong weigao orthopaedic device co., ltd.",
          "shoulder innovations, llc",
          "sientra, inc.",
          "signal medical corporation",
          "signature orthopaedics pty ltd",
          "signus medizintechnik gmbh",
          "sintea plustek srl",
          "smith & nephew, inc.",
          "smith & nephew, inc.",
          "solco biomedical co.,ltd.",
          "solco biomedical company india private limited",
          "southern spine llc",
          "spinal balance, inc.",
          "spinal resources, inc.",
          "spinal simplicity, llc",
          "spine wave, inc.",
          "spinecraft, llc",
          "spinefrontier, inc.",
          "spineology inc.",
          "spinevision",
          "spineway",
          "st. jude medical, inc.",
          "stanmore implants worldwide ltd",
          "stinson orthopedics inc.",
          "stryker corporation",
          "stryker trauma gmbh",
          "suzhou kangli orthopaedics instrument co.,ltd.",
          "synthes (u.s.a.) lp",
          "tecres spa",
          "tecres spa",
          "teleflex incorporated",
          "titan spine, llc",
          "tornier",
          "tornier, inc.",
          "total joint orthopedics, inc.",
          "tutogen medical gmbh",
          "tyber medical llc",
          "u&i corporation",
          "ulrich gmbh & co. kg",
          "ulrich medical usa, inc.",
          "united orthopedic corp.",
          "urocure llc",
          "vgi medical, llc",
          "waldemar link gmbh & co. kg",
          "wenzel spine, inc.",
          "wishbone medical, inc.",
          "wright medical technology, inc.",
          "x-spine systems, inc.",
          "zavation llc",
          "zimmer gmbh",
          "zimmer trabecular metal technology inc.",
          "zimmer, inc.",
          "zimmer, inc.",
          "Cardiovascular",
          "Gastroenterology, Urology",
          "General, Plastic Surgery",
          "Obstetrics/Gynecology",
          "Orthopedic",
          "Unknown"
         ],
         "marker": {
          "coloraxis": "coloraxis",
          "colors": [
           111,
           1,
           304,
           120,
           12117,
           840,
           85,
           483,
           236,
           221,
           426,
           54,
           77,
           77,
           182,
           96,
           3,
           290,
           12213,
           5,
           1,
           26,
           92,
           315,
           19,
           3114,
           95,
           53,
           18,
           47,
           460,
           1060,
           228,
           168,
           45,
           788,
           59,
           2809,
           6,
           1712,
           216,
           73,
           4,
           378,
           2,
           1387,
           5966,
           3567,
           242,
           851,
           201,
           43,
           1218,
           2,
           1169,
           112,
           48,
           3078,
           1915,
           2091,
           157,
           64,
           7,
           21,
           309,
           2779,
           565,
           385,
           63,
           3,
           3734,
           18,
           634,
           707,
           334,
           3,
           2,
           24616,
           1226,
           166,
           17850,
           43,
           5827,
           5,
           11,
           1,
           5,
           4670,
           7,
           2009,
           235,
           14,
           413,
           228,
           26,
           61,
           159,
           168,
           826,
           75,
           961,
           118,
           183,
           8095,
           248,
           13,
           54,
           2,
           1961,
           9292,
           2,
           1323,
           4348,
           2914,
           123,
           676,
           168,
           10,
           305,
           391,
           5840,
           53,
           3604,
           784,
           1976,
           8,
           19318,
           185,
           751,
           183,
           49,
           398,
           8,
           591,
           12,
           452,
           183,
           36,
           256,
           9,
           95,
           1672,
           779,
           24737,
           454,
           158,
           46,
           376,
           2642,
           2860,
           23,
           85,
           1556,
           31,
           22,
           59,
           168,
           74,
           42,
           38,
           100,
           195,
           2396,
           1,
           22,
           3016,
           40,
           45,
           479,
           1,
           465,
           54,
           48,
           160,
           213,
           8948,
           681,
           108,
           470,
           216,
           2598,
           833,
           774,
           19,
           10971,
           5324,
           674,
           176,
           84,
           172,
           15,
           1563,
           7058,
           1653,
           526,
           1186,
           313,
           23,
           78,
           222,
           72,
           25,
           174,
           1235,
           5,
           9,
           5,
           752,
           822,
           505,
           687,
           6,
           47,
           8125,
           937,
           476,
           4547,
           1,
           264,
           2147,
           16,
           38,
           12,
           1288,
           872,
           523,
           377,
           9,
           12207,
           110.92990654205607,
           68.64102564102564,
           310.4212389380531,
           12.857142857142858,
           10073.382009903728,
           6.9
          ]
         },
         "name": "",
         "parents": [
          "Orthopedic",
          "Orthopedic",
          "General, Plastic Surgery",
          "Orthopedic",
          "Orthopedic",
          "Orthopedic",
          "Orthopedic",
          "Orthopedic",
          "Orthopedic",
          "Orthopedic",
          "Orthopedic",
          "Orthopedic",
          "Orthopedic",
          "Cardiovascular",
          "Orthopedic",
          "Orthopedic",
          "Obstetrics/Gynecology",
          "Orthopedic",
          "Orthopedic",
          "Unknown",
          "Orthopedic",
          "Orthopedic",
          "Orthopedic",
          "Orthopedic",
          "Cardiovascular",
          "Orthopedic",
          "Orthopedic",
          "Cardiovascular",
          "General, Plastic Surgery",
          "Orthopedic",
          "Orthopedic",
          "Orthopedic",
          "Orthopedic",
          "Orthopedic",
          "Orthopedic",
          "Orthopedic",
          "Orthopedic",
          "Orthopedic",
          "General, Plastic Surgery",
          "Orthopedic",
          "Orthopedic",
          "Gastroenterology, Urology",
          "General, Plastic Surgery",
          "Orthopedic",
          "General, Plastic Surgery",
          "Orthopedic",
          "Orthopedic",
          "Orthopedic",
          "Orthopedic",
          "Orthopedic",
          "Orthopedic",
          "Orthopedic",
          "Orthopedic",
          "General, Plastic Surgery",
          "Orthopedic",
          "Orthopedic",
          "General, Plastic Surgery",
          "Orthopedic",
          "Orthopedic",
          "Orthopedic",
          "Orthopedic",
          "Orthopedic",
          "Orthopedic",
          "Orthopedic",
          "Orthopedic",
          "Orthopedic",
          "Orthopedic",
          "Orthopedic",
          "Orthopedic",
          "General, Plastic Surgery",
          "Orthopedic",
          "Obstetrics/Gynecology",
          "Orthopedic",
          "Orthopedic",
          "Orthopedic",
          "Orthopedic",
          "Orthopedic",
          "Orthopedic",
          "Orthopedic",
          "Orthopedic",
          "Orthopedic",
          "Orthopedic",
          "Orthopedic",
          "Obstetrics/Gynecology",
          "Orthopedic",
          "General, Plastic Surgery",
          "General, Plastic Surgery",
          "Orthopedic",
          "Unknown",
          "Orthopedic",
          "Orthopedic",
          "General, Plastic Surgery",
          "Orthopedic",
          "Orthopedic",
          "Orthopedic",
          "Orthopedic",
          "Orthopedic",
          "Orthopedic",
          "Orthopedic",
          "Orthopedic",
          "Orthopedic",
          "Orthopedic",
          "Orthopedic",
          "Orthopedic",
          "Orthopedic",
          "Orthopedic",
          "Orthopedic",
          "Orthopedic",
          "Orthopedic",
          "Orthopedic",
          "Orthopedic",
          "Orthopedic",
          "Orthopedic",
          "Orthopedic",
          "Orthopedic",
          "Orthopedic",
          "Orthopedic",
          "Orthopedic",
          "Orthopedic",
          "Orthopedic",
          "Orthopedic",
          "Orthopedic",
          "Orthopedic",
          "Orthopedic",
          "Orthopedic",
          "General, Plastic Surgery",
          "Orthopedic",
          "Cardiovascular",
          "Orthopedic",
          "General, Plastic Surgery",
          "Orthopedic",
          "Orthopedic",
          "Unknown",
          "Orthopedic",
          "Cardiovascular",
          "Orthopedic",
          "Orthopedic",
          "Orthopedic",
          "Orthopedic",
          "Orthopedic",
          "Orthopedic",
          "Orthopedic",
          "Orthopedic",
          "Orthopedic",
          "Orthopedic",
          "Orthopedic",
          "Orthopedic",
          "Orthopedic",
          "Orthopedic",
          "Orthopedic",
          "Orthopedic",
          "Orthopedic",
          "Orthopedic",
          "Orthopedic",
          "Orthopedic",
          "Cardiovascular",
          "Orthopedic",
          "Orthopedic",
          "Orthopedic",
          "Orthopedic",
          "Orthopedic",
          "Orthopedic",
          "Orthopedic",
          "Obstetrics/Gynecology",
          "General, Plastic Surgery",
          "Orthopedic",
          "Orthopedic",
          "Orthopedic",
          "Orthopedic",
          "Obstetrics/Gynecology",
          "Orthopedic",
          "Orthopedic",
          "Orthopedic",
          "Orthopedic",
          "Orthopedic",
          "Orthopedic",
          "Orthopedic",
          "Orthopedic",
          "General, Plastic Surgery",
          "Orthopedic",
          "Orthopedic",
          "Orthopedic",
          "Orthopedic",
          "General, Plastic Surgery",
          "Orthopedic",
          "Orthopedic",
          "Orthopedic",
          "Orthopedic",
          "Orthopedic",
          "Orthopedic",
          "Orthopedic",
          "Orthopedic",
          "Orthopedic",
          "Orthopedic",
          "Orthopedic",
          "Orthopedic",
          "Orthopedic",
          "Cardiovascular",
          "Orthopedic",
          "Orthopedic",
          "Orthopedic",
          "Orthopedic",
          "Orthopedic",
          "Orthopedic",
          "General, Plastic Surgery",
          "Orthopedic",
          "Gastroenterology, Urology",
          "Orthopedic",
          "Orthopedic",
          "Orthopedic",
          "Orthopedic",
          "General, Plastic Surgery",
          "Orthopedic",
          "Orthopedic",
          "Orthopedic",
          "Orthopedic",
          "Orthopedic",
          "General, Plastic Surgery",
          "Orthopedic",
          "Orthopedic",
          "Orthopedic",
          "Orthopedic",
          "Orthopedic",
          "Orthopedic",
          "Orthopedic",
          "Orthopedic",
          "Orthopedic",
          "General, Plastic Surgery",
          "Orthopedic",
          "",
          "",
          "",
          "",
          "",
          ""
         ],
         "type": "treemap",
         "values": [
          111,
          1,
          304,
          120,
          12117,
          840,
          85,
          483,
          236,
          221,
          426,
          54,
          77,
          77,
          182,
          96,
          3,
          290,
          12213,
          5,
          1,
          26,
          92,
          315,
          19,
          3114,
          95,
          53,
          18,
          47,
          460,
          1060,
          228,
          168,
          45,
          788,
          59,
          2809,
          6,
          1712,
          216,
          73,
          4,
          378,
          2,
          1387,
          5966,
          3567,
          242,
          851,
          201,
          43,
          1218,
          2,
          1169,
          112,
          48,
          3078,
          1915,
          2091,
          157,
          64,
          7,
          21,
          309,
          2779,
          565,
          385,
          63,
          3,
          3734,
          18,
          634,
          707,
          334,
          3,
          2,
          24616,
          1226,
          166,
          17850,
          43,
          5827,
          5,
          11,
          1,
          5,
          4670,
          7,
          2009,
          235,
          14,
          413,
          228,
          26,
          61,
          159,
          168,
          826,
          75,
          961,
          118,
          183,
          8095,
          248,
          13,
          54,
          2,
          1961,
          9292,
          2,
          1323,
          4348,
          2914,
          123,
          676,
          168,
          10,
          305,
          391,
          5840,
          53,
          3604,
          784,
          1976,
          8,
          19318,
          185,
          751,
          183,
          49,
          398,
          8,
          591,
          12,
          452,
          183,
          36,
          256,
          9,
          95,
          1672,
          779,
          24737,
          454,
          158,
          46,
          376,
          2642,
          2860,
          23,
          85,
          1556,
          31,
          22,
          59,
          168,
          74,
          42,
          38,
          100,
          195,
          2396,
          1,
          22,
          3016,
          40,
          45,
          479,
          1,
          465,
          54,
          48,
          160,
          213,
          8948,
          681,
          108,
          470,
          216,
          2598,
          833,
          774,
          19,
          10971,
          5324,
          674,
          176,
          84,
          172,
          15,
          1563,
          7058,
          1653,
          526,
          1186,
          313,
          23,
          78,
          222,
          72,
          25,
          174,
          1235,
          5,
          9,
          5,
          752,
          822,
          505,
          687,
          6,
          47,
          8125,
          937,
          476,
          4547,
          1,
          264,
          2147,
          16,
          38,
          12,
          1288,
          872,
          523,
          377,
          9,
          12207,
          428,
          78,
          1130,
          28,
          318264,
          20
         ]
        }
       ],
       "layout": {
        "coloraxis": {
         "colorbar": {
          "title": {
           "text": "number_of_products"
          }
         },
         "colorscale": [
          [
           0,
           "#0d0887"
          ],
          [
           0.1111111111111111,
           "#46039f"
          ],
          [
           0.2222222222222222,
           "#7201a8"
          ],
          [
           0.3333333333333333,
           "#9c179e"
          ],
          [
           0.4444444444444444,
           "#bd3786"
          ],
          [
           0.5555555555555556,
           "#d8576b"
          ],
          [
           0.6666666666666666,
           "#ed7953"
          ],
          [
           0.7777777777777778,
           "#fb9f3a"
          ],
          [
           0.8888888888888888,
           "#fdca26"
          ],
          [
           1,
           "#f0f921"
          ]
         ]
        },
        "legend": {
         "tracegroupgap": 0
        },
        "template": {
         "data": {
          "bar": [
           {
            "error_x": {
             "color": "#2a3f5f"
            },
            "error_y": {
             "color": "#2a3f5f"
            },
            "marker": {
             "line": {
              "color": "#E5ECF6",
              "width": 0.5
             },
             "pattern": {
              "fillmode": "overlay",
              "size": 10,
              "solidity": 0.2
             }
            },
            "type": "bar"
           }
          ],
          "barpolar": [
           {
            "marker": {
             "line": {
              "color": "#E5ECF6",
              "width": 0.5
             },
             "pattern": {
              "fillmode": "overlay",
              "size": 10,
              "solidity": 0.2
             }
            },
            "type": "barpolar"
           }
          ],
          "carpet": [
           {
            "aaxis": {
             "endlinecolor": "#2a3f5f",
             "gridcolor": "white",
             "linecolor": "white",
             "minorgridcolor": "white",
             "startlinecolor": "#2a3f5f"
            },
            "baxis": {
             "endlinecolor": "#2a3f5f",
             "gridcolor": "white",
             "linecolor": "white",
             "minorgridcolor": "white",
             "startlinecolor": "#2a3f5f"
            },
            "type": "carpet"
           }
          ],
          "choropleth": [
           {
            "colorbar": {
             "outlinewidth": 0,
             "ticks": ""
            },
            "type": "choropleth"
           }
          ],
          "contour": [
           {
            "colorbar": {
             "outlinewidth": 0,
             "ticks": ""
            },
            "colorscale": [
             [
              0,
              "#0d0887"
             ],
             [
              0.1111111111111111,
              "#46039f"
             ],
             [
              0.2222222222222222,
              "#7201a8"
             ],
             [
              0.3333333333333333,
              "#9c179e"
             ],
             [
              0.4444444444444444,
              "#bd3786"
             ],
             [
              0.5555555555555556,
              "#d8576b"
             ],
             [
              0.6666666666666666,
              "#ed7953"
             ],
             [
              0.7777777777777778,
              "#fb9f3a"
             ],
             [
              0.8888888888888888,
              "#fdca26"
             ],
             [
              1,
              "#f0f921"
             ]
            ],
            "type": "contour"
           }
          ],
          "contourcarpet": [
           {
            "colorbar": {
             "outlinewidth": 0,
             "ticks": ""
            },
            "type": "contourcarpet"
           }
          ],
          "heatmap": [
           {
            "colorbar": {
             "outlinewidth": 0,
             "ticks": ""
            },
            "colorscale": [
             [
              0,
              "#0d0887"
             ],
             [
              0.1111111111111111,
              "#46039f"
             ],
             [
              0.2222222222222222,
              "#7201a8"
             ],
             [
              0.3333333333333333,
              "#9c179e"
             ],
             [
              0.4444444444444444,
              "#bd3786"
             ],
             [
              0.5555555555555556,
              "#d8576b"
             ],
             [
              0.6666666666666666,
              "#ed7953"
             ],
             [
              0.7777777777777778,
              "#fb9f3a"
             ],
             [
              0.8888888888888888,
              "#fdca26"
             ],
             [
              1,
              "#f0f921"
             ]
            ],
            "type": "heatmap"
           }
          ],
          "heatmapgl": [
           {
            "colorbar": {
             "outlinewidth": 0,
             "ticks": ""
            },
            "colorscale": [
             [
              0,
              "#0d0887"
             ],
             [
              0.1111111111111111,
              "#46039f"
             ],
             [
              0.2222222222222222,
              "#7201a8"
             ],
             [
              0.3333333333333333,
              "#9c179e"
             ],
             [
              0.4444444444444444,
              "#bd3786"
             ],
             [
              0.5555555555555556,
              "#d8576b"
             ],
             [
              0.6666666666666666,
              "#ed7953"
             ],
             [
              0.7777777777777778,
              "#fb9f3a"
             ],
             [
              0.8888888888888888,
              "#fdca26"
             ],
             [
              1,
              "#f0f921"
             ]
            ],
            "type": "heatmapgl"
           }
          ],
          "histogram": [
           {
            "marker": {
             "pattern": {
              "fillmode": "overlay",
              "size": 10,
              "solidity": 0.2
             }
            },
            "type": "histogram"
           }
          ],
          "histogram2d": [
           {
            "colorbar": {
             "outlinewidth": 0,
             "ticks": ""
            },
            "colorscale": [
             [
              0,
              "#0d0887"
             ],
             [
              0.1111111111111111,
              "#46039f"
             ],
             [
              0.2222222222222222,
              "#7201a8"
             ],
             [
              0.3333333333333333,
              "#9c179e"
             ],
             [
              0.4444444444444444,
              "#bd3786"
             ],
             [
              0.5555555555555556,
              "#d8576b"
             ],
             [
              0.6666666666666666,
              "#ed7953"
             ],
             [
              0.7777777777777778,
              "#fb9f3a"
             ],
             [
              0.8888888888888888,
              "#fdca26"
             ],
             [
              1,
              "#f0f921"
             ]
            ],
            "type": "histogram2d"
           }
          ],
          "histogram2dcontour": [
           {
            "colorbar": {
             "outlinewidth": 0,
             "ticks": ""
            },
            "colorscale": [
             [
              0,
              "#0d0887"
             ],
             [
              0.1111111111111111,
              "#46039f"
             ],
             [
              0.2222222222222222,
              "#7201a8"
             ],
             [
              0.3333333333333333,
              "#9c179e"
             ],
             [
              0.4444444444444444,
              "#bd3786"
             ],
             [
              0.5555555555555556,
              "#d8576b"
             ],
             [
              0.6666666666666666,
              "#ed7953"
             ],
             [
              0.7777777777777778,
              "#fb9f3a"
             ],
             [
              0.8888888888888888,
              "#fdca26"
             ],
             [
              1,
              "#f0f921"
             ]
            ],
            "type": "histogram2dcontour"
           }
          ],
          "mesh3d": [
           {
            "colorbar": {
             "outlinewidth": 0,
             "ticks": ""
            },
            "type": "mesh3d"
           }
          ],
          "parcoords": [
           {
            "line": {
             "colorbar": {
              "outlinewidth": 0,
              "ticks": ""
             }
            },
            "type": "parcoords"
           }
          ],
          "pie": [
           {
            "automargin": true,
            "type": "pie"
           }
          ],
          "scatter": [
           {
            "fillpattern": {
             "fillmode": "overlay",
             "size": 10,
             "solidity": 0.2
            },
            "type": "scatter"
           }
          ],
          "scatter3d": [
           {
            "line": {
             "colorbar": {
              "outlinewidth": 0,
              "ticks": ""
             }
            },
            "marker": {
             "colorbar": {
              "outlinewidth": 0,
              "ticks": ""
             }
            },
            "type": "scatter3d"
           }
          ],
          "scattercarpet": [
           {
            "marker": {
             "colorbar": {
              "outlinewidth": 0,
              "ticks": ""
             }
            },
            "type": "scattercarpet"
           }
          ],
          "scattergeo": [
           {
            "marker": {
             "colorbar": {
              "outlinewidth": 0,
              "ticks": ""
             }
            },
            "type": "scattergeo"
           }
          ],
          "scattergl": [
           {
            "marker": {
             "colorbar": {
              "outlinewidth": 0,
              "ticks": ""
             }
            },
            "type": "scattergl"
           }
          ],
          "scattermapbox": [
           {
            "marker": {
             "colorbar": {
              "outlinewidth": 0,
              "ticks": ""
             }
            },
            "type": "scattermapbox"
           }
          ],
          "scatterpolar": [
           {
            "marker": {
             "colorbar": {
              "outlinewidth": 0,
              "ticks": ""
             }
            },
            "type": "scatterpolar"
           }
          ],
          "scatterpolargl": [
           {
            "marker": {
             "colorbar": {
              "outlinewidth": 0,
              "ticks": ""
             }
            },
            "type": "scatterpolargl"
           }
          ],
          "scatterternary": [
           {
            "marker": {
             "colorbar": {
              "outlinewidth": 0,
              "ticks": ""
             }
            },
            "type": "scatterternary"
           }
          ],
          "surface": [
           {
            "colorbar": {
             "outlinewidth": 0,
             "ticks": ""
            },
            "colorscale": [
             [
              0,
              "#0d0887"
             ],
             [
              0.1111111111111111,
              "#46039f"
             ],
             [
              0.2222222222222222,
              "#7201a8"
             ],
             [
              0.3333333333333333,
              "#9c179e"
             ],
             [
              0.4444444444444444,
              "#bd3786"
             ],
             [
              0.5555555555555556,
              "#d8576b"
             ],
             [
              0.6666666666666666,
              "#ed7953"
             ],
             [
              0.7777777777777778,
              "#fb9f3a"
             ],
             [
              0.8888888888888888,
              "#fdca26"
             ],
             [
              1,
              "#f0f921"
             ]
            ],
            "type": "surface"
           }
          ],
          "table": [
           {
            "cells": {
             "fill": {
              "color": "#EBF0F8"
             },
             "line": {
              "color": "white"
             }
            },
            "header": {
             "fill": {
              "color": "#C8D4E3"
             },
             "line": {
              "color": "white"
             }
            },
            "type": "table"
           }
          ]
         },
         "layout": {
          "annotationdefaults": {
           "arrowcolor": "#2a3f5f",
           "arrowhead": 0,
           "arrowwidth": 1
          },
          "autotypenumbers": "strict",
          "coloraxis": {
           "colorbar": {
            "outlinewidth": 0,
            "ticks": ""
           }
          },
          "colorscale": {
           "diverging": [
            [
             0,
             "#8e0152"
            ],
            [
             0.1,
             "#c51b7d"
            ],
            [
             0.2,
             "#de77ae"
            ],
            [
             0.3,
             "#f1b6da"
            ],
            [
             0.4,
             "#fde0ef"
            ],
            [
             0.5,
             "#f7f7f7"
            ],
            [
             0.6,
             "#e6f5d0"
            ],
            [
             0.7,
             "#b8e186"
            ],
            [
             0.8,
             "#7fbc41"
            ],
            [
             0.9,
             "#4d9221"
            ],
            [
             1,
             "#276419"
            ]
           ],
           "sequential": [
            [
             0,
             "#0d0887"
            ],
            [
             0.1111111111111111,
             "#46039f"
            ],
            [
             0.2222222222222222,
             "#7201a8"
            ],
            [
             0.3333333333333333,
             "#9c179e"
            ],
            [
             0.4444444444444444,
             "#bd3786"
            ],
            [
             0.5555555555555556,
             "#d8576b"
            ],
            [
             0.6666666666666666,
             "#ed7953"
            ],
            [
             0.7777777777777778,
             "#fb9f3a"
            ],
            [
             0.8888888888888888,
             "#fdca26"
            ],
            [
             1,
             "#f0f921"
            ]
           ],
           "sequentialminus": [
            [
             0,
             "#0d0887"
            ],
            [
             0.1111111111111111,
             "#46039f"
            ],
            [
             0.2222222222222222,
             "#7201a8"
            ],
            [
             0.3333333333333333,
             "#9c179e"
            ],
            [
             0.4444444444444444,
             "#bd3786"
            ],
            [
             0.5555555555555556,
             "#d8576b"
            ],
            [
             0.6666666666666666,
             "#ed7953"
            ],
            [
             0.7777777777777778,
             "#fb9f3a"
            ],
            [
             0.8888888888888888,
             "#fdca26"
            ],
            [
             1,
             "#f0f921"
            ]
           ]
          },
          "colorway": [
           "#636efa",
           "#EF553B",
           "#00cc96",
           "#ab63fa",
           "#FFA15A",
           "#19d3f3",
           "#FF6692",
           "#B6E880",
           "#FF97FF",
           "#FECB52"
          ],
          "font": {
           "color": "#2a3f5f"
          },
          "geo": {
           "bgcolor": "white",
           "lakecolor": "white",
           "landcolor": "#E5ECF6",
           "showlakes": true,
           "showland": true,
           "subunitcolor": "white"
          },
          "hoverlabel": {
           "align": "left"
          },
          "hovermode": "closest",
          "mapbox": {
           "style": "light"
          },
          "paper_bgcolor": "white",
          "plot_bgcolor": "#E5ECF6",
          "polar": {
           "angularaxis": {
            "gridcolor": "white",
            "linecolor": "white",
            "ticks": ""
           },
           "bgcolor": "#E5ECF6",
           "radialaxis": {
            "gridcolor": "white",
            "linecolor": "white",
            "ticks": ""
           }
          },
          "scene": {
           "xaxis": {
            "backgroundcolor": "#E5ECF6",
            "gridcolor": "white",
            "gridwidth": 2,
            "linecolor": "white",
            "showbackground": true,
            "ticks": "",
            "zerolinecolor": "white"
           },
           "yaxis": {
            "backgroundcolor": "#E5ECF6",
            "gridcolor": "white",
            "gridwidth": 2,
            "linecolor": "white",
            "showbackground": true,
            "ticks": "",
            "zerolinecolor": "white"
           },
           "zaxis": {
            "backgroundcolor": "#E5ECF6",
            "gridcolor": "white",
            "gridwidth": 2,
            "linecolor": "white",
            "showbackground": true,
            "ticks": "",
            "zerolinecolor": "white"
           }
          },
          "shapedefaults": {
           "line": {
            "color": "#2a3f5f"
           }
          },
          "ternary": {
           "aaxis": {
            "gridcolor": "white",
            "linecolor": "white",
            "ticks": ""
           },
           "baxis": {
            "gridcolor": "white",
            "linecolor": "white",
            "ticks": ""
           },
           "bgcolor": "#E5ECF6",
           "caxis": {
            "gridcolor": "white",
            "linecolor": "white",
            "ticks": ""
           }
          },
          "title": {
           "x": 0.05
          },
          "xaxis": {
           "automargin": true,
           "gridcolor": "white",
           "linecolor": "white",
           "ticks": "",
           "title": {
            "standoff": 15
           },
           "zerolinecolor": "white",
           "zerolinewidth": 2
          },
          "yaxis": {
           "automargin": true,
           "gridcolor": "white",
           "linecolor": "white",
           "ticks": "",
           "title": {
            "standoff": 15
           },
           "zerolinecolor": "white",
           "zerolinewidth": 2
          }
         }
        },
        "title": {
         "text": "Major Producers of Implantable Medical Devices"
        }
       }
      },
      "text/html": [
       "<div>                            <div id=\"fdfdabdd-c1ad-40a1-a04a-922d632de640\" class=\"plotly-graph-div\" style=\"height:525px; width:100%;\"></div>            <script type=\"text/javascript\">                require([\"plotly\"], function(Plotly) {                    window.PLOTLYENV=window.PLOTLYENV || {};                                    if (document.getElementById(\"fdfdabdd-c1ad-40a1-a04a-922d632de640\")) {                    Plotly.newPlot(                        \"fdfdabdd-c1ad-40a1-a04a-922d632de640\",                        [{\"branchvalues\":\"total\",\"customdata\":[[111.0],[1.0],[304.0],[120.0],[12117.0],[840.0],[85.0],[483.0],[236.0],[221.0],[426.0],[54.0],[77.0],[77.0],[182.0],[96.0],[3.0],[290.0],[12213.0],[5.0],[1.0],[26.0],[92.0],[315.0],[19.0],[3114.0],[95.0],[53.0],[18.0],[47.0],[460.0],[1060.0],[228.0],[168.0],[45.0],[788.0],[59.0],[2809.0],[6.0],[1712.0],[216.0],[73.0],[4.0],[378.0],[2.0],[1387.0],[5966.0],[3567.0],[242.0],[851.0],[201.0],[43.0],[1218.0],[2.0],[1169.0],[112.0],[48.0],[3078.0],[1915.0],[2091.0],[157.0],[64.0],[7.0],[21.0],[309.0],[2779.0],[565.0],[385.0],[63.0],[3.0],[3734.0],[18.0],[634.0],[707.0],[334.0],[3.0],[2.0],[24616.0],[1226.0],[166.0],[17850.0],[43.0],[5827.0],[5.0],[11.0],[1.0],[5.0],[4670.0],[7.0],[2009.0],[235.0],[14.0],[413.0],[228.0],[26.0],[61.0],[159.0],[168.0],[826.0],[75.0],[961.0],[118.0],[183.0],[8095.0],[248.0],[13.0],[54.0],[2.0],[1961.0],[9292.0],[2.0],[1323.0],[4348.0],[2914.0],[123.0],[676.0],[168.0],[10.0],[305.0],[391.0],[5840.0],[53.0],[3604.0],[784.0],[1976.0],[8.0],[19318.0],[185.0],[751.0],[183.0],[49.0],[398.0],[8.0],[591.0],[12.0],[452.0],[183.0],[36.0],[256.0],[9.0],[95.0],[1672.0],[779.0],[24737.0],[454.0],[158.0],[46.0],[376.0],[2642.0],[2860.0],[23.0],[85.0],[1556.0],[31.0],[22.0],[59.0],[168.0],[74.0],[42.0],[38.0],[100.0],[195.0],[2396.0],[1.0],[22.0],[3016.0],[40.0],[45.0],[479.0],[1.0],[465.0],[54.0],[48.0],[160.0],[213.0],[8948.0],[681.0],[108.0],[470.0],[216.0],[2598.0],[833.0],[774.0],[19.0],[10971.0],[5324.0],[674.0],[176.0],[84.0],[172.0],[15.0],[1563.0],[7058.0],[1653.0],[526.0],[1186.0],[313.0],[23.0],[78.0],[222.0],[72.0],[25.0],[174.0],[1235.0],[5.0],[9.0],[5.0],[752.0],[822.0],[505.0],[687.0],[6.0],[47.0],[8125.0],[937.0],[476.0],[4547.0],[1.0],[264.0],[2147.0],[16.0],[38.0],[12.0],[1288.0],[872.0],[523.0],[377.0],[9.0],[12207.0],[110.92990654205607],[68.64102564102564],[310.4212389380531],[12.857142857142858],[10073.382009903728],[6.9]],\"domain\":{\"x\":[0.0,1.0],\"y\":[0.0,1.0]},\"hovertemplate\":\"labels=%{label}<br>number_of_products_sum=%{value}<br>parent=%{parent}<br>id=%{id}<br>number_of_products=%{color}<extra></extra>\",\"ids\":[\"Orthopedic/acumed llc\",\"Orthopedic/advanced orthopaedic solutions, inc.\",\"General, Plastic Surgery/allergan, inc.\",\"Orthopedic/alliance partners llc\",\"Orthopedic/alphatec spine, inc.\",\"Orthopedic/altus spine, llc\",\"Orthopedic/amedica corporation\",\"Orthopedic/amplitude sas\",\"Orthopedic/arthrosurface incorporated\",\"Orthopedic/ascension orthopedics, inc.\",\"Orthopedic/atlas spine, inc.\",\"Orthopedic/aurora spine, inc.\",\"Orthopedic/axis spine technologies ltd\",\"Cardiovascular/b braun interventional systems, inc\",\"Orthopedic/back 2 basic direct, llc\",\"Orthopedic/baui biotech co. ltd.\",\"Obstetrics/Gynecology/bayer healthcare llc\",\"Orthopedic/biedermann motech gmbh & co. kg\",\"Orthopedic/biomet orthopedics, llc\",\"Unknown/biomet orthopedics, llc\",\"Orthopedic/biomet spine llc\",\"Orthopedic/biomet sports medicine, llc\",\"Orthopedic/biomet uk ltd\",\"Orthopedic/biopro, inc.\",\"Cardiovascular/biotronik se & co. kg\",\"Orthopedic/bk meditech co.,ltd.\",\"Orthopedic/bm korea co., ltd\",\"Cardiovascular/boston scientific corporation\",\"General, Plastic Surgery/caldera medical, inc.\",\"Orthopedic/calvary spine, llc\",\"Orthopedic/camber spine technologies, llc\",\"Orthopedic/captiva spine, inc.\",\"Orthopedic/carbofix orthopedics ltd\",\"Orthopedic/catalyst orthoscience inc.\",\"Orthopedic/cayenne medical, inc.\",\"Orthopedic/centinel spine, inc.\",\"Orthopedic/cg bio co., ltd.\",\"Orthopedic/choice spine, lp\",\"General, Plastic Surgery/cl medical\",\"Orthopedic/clariance\",\"Orthopedic/coligne ag\",\"Gastroenterology, Urology/coloplast a/s\",\"General, Plastic Surgery/coloplast a/s\",\"Orthopedic/conformis, inc.\",\"General, Plastic Surgery/cook biotech incorporated\",\"Orthopedic/corelink llc\",\"Orthopedic/corentec co., ltd\",\"Orthopedic/corin ltd\",\"Orthopedic/cpm medical consultants, llc\",\"Orthopedic/ctl medical corporation\",\"Orthopedic/curiteva, inc.\",\"Orthopedic/cutting edge spine, llc\",\"Orthopedic/degen medical, inc.\",\"General, Plastic Surgery/depuy (ireland)\",\"Orthopedic/depuy (ireland)\",\"Orthopedic/depuy international ltd\",\"General, Plastic Surgery/depuy orthopaedics, inc.\",\"Orthopedic/depuy orthopaedics, inc.\",\"Orthopedic/depuy spine, llc\",\"Orthopedic/diomedical co.,ltd.\",\"Orthopedic/djo, llc\",\"Orthopedic/eisertech, llc\",\"Orthopedic/elevation spine, inc.\",\"Orthopedic/elite surgical supplies (pty) ltd\",\"Orthopedic/eminent spine llc\",\"Orthopedic/encore medical, l.p.\",\"Orthopedic/endotec, inc.\",\"Orthopedic/engage uni llc\",\"Orthopedic/eos biotek,inc.\",\"General, Plastic Surgery/ethicon, llc\",\"Orthopedic/exactech, inc.\",\"Obstetrics/Gynecology/femcare limited\",\"Orthopedic/flospine llc\",\"Orthopedic/fournitures hospitalieres industrie\",\"Orthopedic/fx solutions\",\"Orthopedic/g surgical llc\",\"Orthopedic/g21 srl\",\"Orthopedic/gbs commonwealth co.,ltd.\",\"Orthopedic/genesys orthopedics systems llc\",\"Orthopedic/global manufacturing technology pty limited\",\"Orthopedic/globus medical, inc.\",\"Orthopedic/grafton medical alliance, inc.\",\"Orthopedic/gs medical co., ltd.\",\"Obstetrics/Gynecology/gyrus acmi, inc.\",\"Orthopedic/heraeus medical gmbh\",\"General, Plastic Surgery/herniamesh srl\",\"General, Plastic Surgery/howmedica osteonics corp.\",\"Orthopedic/howmedica osteonics corp.\",\"Unknown/howmedica osteonics corp.\",\"Orthopedic/hyhte holdings, inc.\",\"Orthopedic/iconacy orthopedic implants llc\",\"General, Plastic Surgery/ideal implant incorporated\",\"Orthopedic/implanet\",\"Orthopedic/implantcast gmbh\",\"Orthopedic/incite innovation\",\"Orthopedic/ingen orthopedics, l.l.c.\",\"Orthopedic/ingeniumspine, llc\",\"Orthopedic/inion oy\",\"Orthopedic/innovasis, inc.\",\"Orthopedic/innovative surgical designs\",\"Orthopedic/integrity implants inc.\",\"Orthopedic/intelligent implant systems, llc\",\"Orthopedic/joimax gmbh\",\"Orthopedic/k2m, inc.\",\"Orthopedic/kahtnu surgical\",\"Orthopedic/kalitec direct llc\",\"Orthopedic/kisco international\",\"Orthopedic/koros u.s.a., inc.\",\"Orthopedic/kyocera medical technologies, inc.\",\"Orthopedic/l&k biomed co. ,ltd.\",\"Orthopedic/laboratoires bodycad inc\",\"Orthopedic/ldr spine usa, inc.\",\"Orthopedic/life spine, inc.\",\"Orthopedic/limacorporate spa\",\"Orthopedic/linkspine, inc.\",\"Orthopedic/mako surgical corp.\",\"Orthopedic/materialise nv\",\"Orthopedic/materialise usa, l.l.c.\",\"Orthopedic/matortho ltd\",\"Orthopedic/maxx orthopedics, inc.\",\"Orthopedic/medacta international sa\",\"Orthopedic/medical designs  llc\",\"Orthopedic/medicrea international\",\"Orthopedic/meditech spine, llc\",\"Orthopedic/medos international s\\u00e3\\u00a0rl\",\"General, Plastic Surgery/medtronic sofamor danek, inc.\",\"Orthopedic/medtronic sofamor danek, inc.\",\"Cardiovascular/medtronic, inc.\",\"Orthopedic/medyssey co., ltd.\",\"General, Plastic Surgery/mentor texas l.p.\",\"Orthopedic/merete gmbh\",\"Orthopedic/met 1 technologies, llc\",\"Unknown/microport crm srl\",\"Orthopedic/microport orthopedics inc.\",\"Cardiovascular/microvention inc.\",\"Orthopedic/modal manufacturing llc\",\"Orthopedic/nanovis spine, llc\",\"Orthopedic/neo medical sa\",\"Orthopedic/new era orthopedics llc\",\"Orthopedic/next orthosurgical, inc.\",\"Orthopedic/nextstep arthropedix, llc\",\"Orthopedic/nexxt spine, llc\",\"Orthopedic/novosource, llc\",\"Orthopedic/nuvasive, inc.\",\"Orthopedic/nvision biomedical technologies, inc.\",\"Orthopedic/onkos surgical, inc.\",\"Orthopedic/optimized ortho pty ltd\",\"Orthopedic/optimotion implants llc\",\"Orthopedic/ortho development corporation\",\"Orthopedic/orthofix inc.\",\"Orthopedic/orthomedflex llc\",\"Orthopedic/orthopaedic implant company, the\",\"Orthopedic/orthopediatrics corp.\",\"Orthopedic/orthopedic sciences inc\",\"Orthopedic/orthosoft inc\",\"Cardiovascular/oscor inc.\",\"Orthopedic/osseus fusion systems, llc\",\"Orthopedic/osso surgical llc\",\"Orthopedic/osteoremedies, llc\",\"Orthopedic/paradigm spine gmbh\",\"Orthopedic/paramount surgicals, inc.\",\"Orthopedic/paxeon reconstruction llc\",\"Orthopedic/pioneer surgical technology, inc.\",\"Obstetrics/Gynecology/pop medical solutions ltd\",\"General, Plastic Surgery/precision spine, inc.\",\"Orthopedic/precision spine, inc.\",\"Orthopedic/premia spine ltd\",\"Orthopedic/quandary medical  llc\",\"Orthopedic/reliance medical systems, llc\",\"Obstetrics/Gynecology/richard wolf medical instruments corp.\",\"Orthopedic/rootloc co., ltd.\",\"Orthopedic/royal oak medical devices llc\",\"Orthopedic/rsb spine llc\",\"Orthopedic/s.m.a.i.o\",\"Orthopedic/safe orthopaedics\",\"Orthopedic/seaspine orthopedics corporation\",\"Orthopedic/shandong weigao orthopaedic device co., ltd.\",\"Orthopedic/shoulder innovations, llc\",\"General, Plastic Surgery/sientra, inc.\",\"Orthopedic/signal medical corporation\",\"Orthopedic/signature orthopaedics pty ltd\",\"Orthopedic/signus medizintechnik gmbh\",\"Orthopedic/sintea plustek srl\",\"General, Plastic Surgery/smith & nephew, inc.\",\"Orthopedic/smith & nephew, inc.\",\"Orthopedic/solco biomedical co.,ltd.\",\"Orthopedic/solco biomedical company india private limited\",\"Orthopedic/southern spine llc\",\"Orthopedic/spinal balance, inc.\",\"Orthopedic/spinal resources, inc.\",\"Orthopedic/spinal simplicity, llc\",\"Orthopedic/spine wave, inc.\",\"Orthopedic/spinecraft, llc\",\"Orthopedic/spinefrontier, inc.\",\"Orthopedic/spineology inc.\",\"Orthopedic/spinevision\",\"Orthopedic/spineway\",\"Cardiovascular/st. jude medical, inc.\",\"Orthopedic/stanmore implants worldwide ltd\",\"Orthopedic/stinson orthopedics inc.\",\"Orthopedic/stryker corporation\",\"Orthopedic/stryker trauma gmbh\",\"Orthopedic/suzhou kangli orthopaedics instrument co.,ltd.\",\"Orthopedic/synthes (u.s.a.) lp\",\"General, Plastic Surgery/tecres spa\",\"Orthopedic/tecres spa\",\"Gastroenterology, Urology/teleflex incorporated\",\"Orthopedic/titan spine, llc\",\"Orthopedic/tornier\",\"Orthopedic/tornier, inc.\",\"Orthopedic/total joint orthopedics, inc.\",\"General, Plastic Surgery/tutogen medical gmbh\",\"Orthopedic/tyber medical llc\",\"Orthopedic/u&i corporation\",\"Orthopedic/ulrich gmbh & co. kg\",\"Orthopedic/ulrich medical usa, inc.\",\"Orthopedic/united orthopedic corp.\",\"General, Plastic Surgery/urocure llc\",\"Orthopedic/vgi medical, llc\",\"Orthopedic/waldemar link gmbh & co. kg\",\"Orthopedic/wenzel spine, inc.\",\"Orthopedic/wishbone medical, inc.\",\"Orthopedic/wright medical technology, inc.\",\"Orthopedic/x-spine systems, inc.\",\"Orthopedic/zavation llc\",\"Orthopedic/zimmer gmbh\",\"Orthopedic/zimmer trabecular metal technology inc.\",\"General, Plastic Surgery/zimmer, inc.\",\"Orthopedic/zimmer, inc.\",\"Cardiovascular\",\"Gastroenterology, Urology\",\"General, Plastic Surgery\",\"Obstetrics/Gynecology\",\"Orthopedic\",\"Unknown\"],\"labels\":[\"acumed llc\",\"advanced orthopaedic solutions, inc.\",\"allergan, inc.\",\"alliance partners llc\",\"alphatec spine, inc.\",\"altus spine, llc\",\"amedica corporation\",\"amplitude sas\",\"arthrosurface incorporated\",\"ascension orthopedics, inc.\",\"atlas spine, inc.\",\"aurora spine, inc.\",\"axis spine technologies ltd\",\"b braun interventional systems, inc\",\"back 2 basic direct, llc\",\"baui biotech co. ltd.\",\"bayer healthcare llc\",\"biedermann motech gmbh & co. kg\",\"biomet orthopedics, llc\",\"biomet orthopedics, llc\",\"biomet spine llc\",\"biomet sports medicine, llc\",\"biomet uk ltd\",\"biopro, inc.\",\"biotronik se & co. kg\",\"bk meditech co.,ltd.\",\"bm korea co., ltd\",\"boston scientific corporation\",\"caldera medical, inc.\",\"calvary spine, llc\",\"camber spine technologies, llc\",\"captiva spine, inc.\",\"carbofix orthopedics ltd\",\"catalyst orthoscience inc.\",\"cayenne medical, inc.\",\"centinel spine, inc.\",\"cg bio co., ltd.\",\"choice spine, lp\",\"cl medical\",\"clariance\",\"coligne ag\",\"coloplast a/s\",\"coloplast a/s\",\"conformis, inc.\",\"cook biotech incorporated\",\"corelink llc\",\"corentec co., ltd\",\"corin ltd\",\"cpm medical consultants, llc\",\"ctl medical corporation\",\"curiteva, inc.\",\"cutting edge spine, llc\",\"degen medical, inc.\",\"depuy (ireland)\",\"depuy (ireland)\",\"depuy international ltd\",\"depuy orthopaedics, inc.\",\"depuy orthopaedics, inc.\",\"depuy spine, llc\",\"diomedical co.,ltd.\",\"djo, llc\",\"eisertech, llc\",\"elevation spine, inc.\",\"elite surgical supplies (pty) ltd\",\"eminent spine llc\",\"encore medical, l.p.\",\"endotec, inc.\",\"engage uni llc\",\"eos biotek,inc.\",\"ethicon, llc\",\"exactech, inc.\",\"femcare limited\",\"flospine llc\",\"fournitures hospitalieres industrie\",\"fx solutions\",\"g surgical llc\",\"g21 srl\",\"gbs commonwealth co.,ltd.\",\"genesys orthopedics systems llc\",\"global manufacturing technology pty limited\",\"globus medical, inc.\",\"grafton medical alliance, inc.\",\"gs medical co., ltd.\",\"gyrus acmi, inc.\",\"heraeus medical gmbh\",\"herniamesh srl\",\"howmedica osteonics corp.\",\"howmedica osteonics corp.\",\"howmedica osteonics corp.\",\"hyhte holdings, inc.\",\"iconacy orthopedic implants llc\",\"ideal implant incorporated\",\"implanet\",\"implantcast gmbh\",\"incite innovation\",\"ingen orthopedics, l.l.c.\",\"ingeniumspine, llc\",\"inion oy\",\"innovasis, inc.\",\"innovative surgical designs\",\"integrity implants inc.\",\"intelligent implant systems, llc\",\"joimax gmbh\",\"k2m, inc.\",\"kahtnu surgical\",\"kalitec direct llc\",\"kisco international\",\"koros u.s.a., inc.\",\"kyocera medical technologies, inc.\",\"l&k biomed co. ,ltd.\",\"laboratoires bodycad inc\",\"ldr spine usa, inc.\",\"life spine, inc.\",\"limacorporate spa\",\"linkspine, inc.\",\"mako surgical corp.\",\"materialise nv\",\"materialise usa, l.l.c.\",\"matortho ltd\",\"maxx orthopedics, inc.\",\"medacta international sa\",\"medical designs  llc\",\"medicrea international\",\"meditech spine, llc\",\"medos international s\\u00e3\\u00a0rl\",\"medtronic sofamor danek, inc.\",\"medtronic sofamor danek, inc.\",\"medtronic, inc.\",\"medyssey co., ltd.\",\"mentor texas l.p.\",\"merete gmbh\",\"met 1 technologies, llc\",\"microport crm srl\",\"microport orthopedics inc.\",\"microvention inc.\",\"modal manufacturing llc\",\"nanovis spine, llc\",\"neo medical sa\",\"new era orthopedics llc\",\"next orthosurgical, inc.\",\"nextstep arthropedix, llc\",\"nexxt spine, llc\",\"novosource, llc\",\"nuvasive, inc.\",\"nvision biomedical technologies, inc.\",\"onkos surgical, inc.\",\"optimized ortho pty ltd\",\"optimotion implants llc\",\"ortho development corporation\",\"orthofix inc.\",\"orthomedflex llc\",\"orthopaedic implant company, the\",\"orthopediatrics corp.\",\"orthopedic sciences inc\",\"orthosoft inc\",\"oscor inc.\",\"osseus fusion systems, llc\",\"osso surgical llc\",\"osteoremedies, llc\",\"paradigm spine gmbh\",\"paramount surgicals, inc.\",\"paxeon reconstruction llc\",\"pioneer surgical technology, inc.\",\"pop medical solutions ltd\",\"precision spine, inc.\",\"precision spine, inc.\",\"premia spine ltd\",\"quandary medical  llc\",\"reliance medical systems, llc\",\"richard wolf medical instruments corp.\",\"rootloc co., ltd.\",\"royal oak medical devices llc\",\"rsb spine llc\",\"s.m.a.i.o\",\"safe orthopaedics\",\"seaspine orthopedics corporation\",\"shandong weigao orthopaedic device co., ltd.\",\"shoulder innovations, llc\",\"sientra, inc.\",\"signal medical corporation\",\"signature orthopaedics pty ltd\",\"signus medizintechnik gmbh\",\"sintea plustek srl\",\"smith & nephew, inc.\",\"smith & nephew, inc.\",\"solco biomedical co.,ltd.\",\"solco biomedical company india private limited\",\"southern spine llc\",\"spinal balance, inc.\",\"spinal resources, inc.\",\"spinal simplicity, llc\",\"spine wave, inc.\",\"spinecraft, llc\",\"spinefrontier, inc.\",\"spineology inc.\",\"spinevision\",\"spineway\",\"st. jude medical, inc.\",\"stanmore implants worldwide ltd\",\"stinson orthopedics inc.\",\"stryker corporation\",\"stryker trauma gmbh\",\"suzhou kangli orthopaedics instrument co.,ltd.\",\"synthes (u.s.a.) lp\",\"tecres spa\",\"tecres spa\",\"teleflex incorporated\",\"titan spine, llc\",\"tornier\",\"tornier, inc.\",\"total joint orthopedics, inc.\",\"tutogen medical gmbh\",\"tyber medical llc\",\"u&i corporation\",\"ulrich gmbh & co. kg\",\"ulrich medical usa, inc.\",\"united orthopedic corp.\",\"urocure llc\",\"vgi medical, llc\",\"waldemar link gmbh & co. kg\",\"wenzel spine, inc.\",\"wishbone medical, inc.\",\"wright medical technology, inc.\",\"x-spine systems, inc.\",\"zavation llc\",\"zimmer gmbh\",\"zimmer trabecular metal technology inc.\",\"zimmer, inc.\",\"zimmer, inc.\",\"Cardiovascular\",\"Gastroenterology, Urology\",\"General, Plastic Surgery\",\"Obstetrics/Gynecology\",\"Orthopedic\",\"Unknown\"],\"marker\":{\"coloraxis\":\"coloraxis\",\"colors\":[111.0,1.0,304.0,120.0,12117.0,840.0,85.0,483.0,236.0,221.0,426.0,54.0,77.0,77.0,182.0,96.0,3.0,290.0,12213.0,5.0,1.0,26.0,92.0,315.0,19.0,3114.0,95.0,53.0,18.0,47.0,460.0,1060.0,228.0,168.0,45.0,788.0,59.0,2809.0,6.0,1712.0,216.0,73.0,4.0,378.0,2.0,1387.0,5966.0,3567.0,242.0,851.0,201.0,43.0,1218.0,2.0,1169.0,112.0,48.0,3078.0,1915.0,2091.0,157.0,64.0,7.0,21.0,309.0,2779.0,565.0,385.0,63.0,3.0,3734.0,18.0,634.0,707.0,334.0,3.0,2.0,24616.0,1226.0,166.0,17850.0,43.0,5827.0,5.0,11.0,1.0,5.0,4670.0,7.0,2009.0,235.0,14.0,413.0,228.0,26.0,61.0,159.0,168.0,826.0,75.0,961.0,118.0,183.0,8095.0,248.0,13.0,54.0,2.0,1961.0,9292.0,2.0,1323.0,4348.0,2914.0,123.0,676.0,168.0,10.0,305.0,391.0,5840.0,53.0,3604.0,784.0,1976.0,8.0,19318.0,185.0,751.0,183.0,49.0,398.0,8.0,591.0,12.0,452.0,183.0,36.0,256.0,9.0,95.0,1672.0,779.0,24737.0,454.0,158.0,46.0,376.0,2642.0,2860.0,23.0,85.0,1556.0,31.0,22.0,59.0,168.0,74.0,42.0,38.0,100.0,195.0,2396.0,1.0,22.0,3016.0,40.0,45.0,479.0,1.0,465.0,54.0,48.0,160.0,213.0,8948.0,681.0,108.0,470.0,216.0,2598.0,833.0,774.0,19.0,10971.0,5324.0,674.0,176.0,84.0,172.0,15.0,1563.0,7058.0,1653.0,526.0,1186.0,313.0,23.0,78.0,222.0,72.0,25.0,174.0,1235.0,5.0,9.0,5.0,752.0,822.0,505.0,687.0,6.0,47.0,8125.0,937.0,476.0,4547.0,1.0,264.0,2147.0,16.0,38.0,12.0,1288.0,872.0,523.0,377.0,9.0,12207.0,110.92990654205607,68.64102564102564,310.4212389380531,12.857142857142858,10073.382009903728,6.9]},\"name\":\"\",\"parents\":[\"Orthopedic\",\"Orthopedic\",\"General, Plastic Surgery\",\"Orthopedic\",\"Orthopedic\",\"Orthopedic\",\"Orthopedic\",\"Orthopedic\",\"Orthopedic\",\"Orthopedic\",\"Orthopedic\",\"Orthopedic\",\"Orthopedic\",\"Cardiovascular\",\"Orthopedic\",\"Orthopedic\",\"Obstetrics/Gynecology\",\"Orthopedic\",\"Orthopedic\",\"Unknown\",\"Orthopedic\",\"Orthopedic\",\"Orthopedic\",\"Orthopedic\",\"Cardiovascular\",\"Orthopedic\",\"Orthopedic\",\"Cardiovascular\",\"General, Plastic Surgery\",\"Orthopedic\",\"Orthopedic\",\"Orthopedic\",\"Orthopedic\",\"Orthopedic\",\"Orthopedic\",\"Orthopedic\",\"Orthopedic\",\"Orthopedic\",\"General, Plastic Surgery\",\"Orthopedic\",\"Orthopedic\",\"Gastroenterology, Urology\",\"General, Plastic Surgery\",\"Orthopedic\",\"General, Plastic Surgery\",\"Orthopedic\",\"Orthopedic\",\"Orthopedic\",\"Orthopedic\",\"Orthopedic\",\"Orthopedic\",\"Orthopedic\",\"Orthopedic\",\"General, Plastic Surgery\",\"Orthopedic\",\"Orthopedic\",\"General, Plastic Surgery\",\"Orthopedic\",\"Orthopedic\",\"Orthopedic\",\"Orthopedic\",\"Orthopedic\",\"Orthopedic\",\"Orthopedic\",\"Orthopedic\",\"Orthopedic\",\"Orthopedic\",\"Orthopedic\",\"Orthopedic\",\"General, Plastic Surgery\",\"Orthopedic\",\"Obstetrics/Gynecology\",\"Orthopedic\",\"Orthopedic\",\"Orthopedic\",\"Orthopedic\",\"Orthopedic\",\"Orthopedic\",\"Orthopedic\",\"Orthopedic\",\"Orthopedic\",\"Orthopedic\",\"Orthopedic\",\"Obstetrics/Gynecology\",\"Orthopedic\",\"General, Plastic Surgery\",\"General, Plastic Surgery\",\"Orthopedic\",\"Unknown\",\"Orthopedic\",\"Orthopedic\",\"General, Plastic Surgery\",\"Orthopedic\",\"Orthopedic\",\"Orthopedic\",\"Orthopedic\",\"Orthopedic\",\"Orthopedic\",\"Orthopedic\",\"Orthopedic\",\"Orthopedic\",\"Orthopedic\",\"Orthopedic\",\"Orthopedic\",\"Orthopedic\",\"Orthopedic\",\"Orthopedic\",\"Orthopedic\",\"Orthopedic\",\"Orthopedic\",\"Orthopedic\",\"Orthopedic\",\"Orthopedic\",\"Orthopedic\",\"Orthopedic\",\"Orthopedic\",\"Orthopedic\",\"Orthopedic\",\"Orthopedic\",\"Orthopedic\",\"Orthopedic\",\"Orthopedic\",\"Orthopedic\",\"Orthopedic\",\"Orthopedic\",\"General, Plastic Surgery\",\"Orthopedic\",\"Cardiovascular\",\"Orthopedic\",\"General, Plastic Surgery\",\"Orthopedic\",\"Orthopedic\",\"Unknown\",\"Orthopedic\",\"Cardiovascular\",\"Orthopedic\",\"Orthopedic\",\"Orthopedic\",\"Orthopedic\",\"Orthopedic\",\"Orthopedic\",\"Orthopedic\",\"Orthopedic\",\"Orthopedic\",\"Orthopedic\",\"Orthopedic\",\"Orthopedic\",\"Orthopedic\",\"Orthopedic\",\"Orthopedic\",\"Orthopedic\",\"Orthopedic\",\"Orthopedic\",\"Orthopedic\",\"Orthopedic\",\"Cardiovascular\",\"Orthopedic\",\"Orthopedic\",\"Orthopedic\",\"Orthopedic\",\"Orthopedic\",\"Orthopedic\",\"Orthopedic\",\"Obstetrics/Gynecology\",\"General, Plastic Surgery\",\"Orthopedic\",\"Orthopedic\",\"Orthopedic\",\"Orthopedic\",\"Obstetrics/Gynecology\",\"Orthopedic\",\"Orthopedic\",\"Orthopedic\",\"Orthopedic\",\"Orthopedic\",\"Orthopedic\",\"Orthopedic\",\"Orthopedic\",\"General, Plastic Surgery\",\"Orthopedic\",\"Orthopedic\",\"Orthopedic\",\"Orthopedic\",\"General, Plastic Surgery\",\"Orthopedic\",\"Orthopedic\",\"Orthopedic\",\"Orthopedic\",\"Orthopedic\",\"Orthopedic\",\"Orthopedic\",\"Orthopedic\",\"Orthopedic\",\"Orthopedic\",\"Orthopedic\",\"Orthopedic\",\"Orthopedic\",\"Cardiovascular\",\"Orthopedic\",\"Orthopedic\",\"Orthopedic\",\"Orthopedic\",\"Orthopedic\",\"Orthopedic\",\"General, Plastic Surgery\",\"Orthopedic\",\"Gastroenterology, Urology\",\"Orthopedic\",\"Orthopedic\",\"Orthopedic\",\"Orthopedic\",\"General, Plastic Surgery\",\"Orthopedic\",\"Orthopedic\",\"Orthopedic\",\"Orthopedic\",\"Orthopedic\",\"General, Plastic Surgery\",\"Orthopedic\",\"Orthopedic\",\"Orthopedic\",\"Orthopedic\",\"Orthopedic\",\"Orthopedic\",\"Orthopedic\",\"Orthopedic\",\"Orthopedic\",\"General, Plastic Surgery\",\"Orthopedic\",\"\",\"\",\"\",\"\",\"\",\"\"],\"values\":[111,1,304,120,12117,840,85,483,236,221,426,54,77,77,182,96,3,290,12213,5,1,26,92,315,19,3114,95,53,18,47,460,1060,228,168,45,788,59,2809,6,1712,216,73,4,378,2,1387,5966,3567,242,851,201,43,1218,2,1169,112,48,3078,1915,2091,157,64,7,21,309,2779,565,385,63,3,3734,18,634,707,334,3,2,24616,1226,166,17850,43,5827,5,11,1,5,4670,7,2009,235,14,413,228,26,61,159,168,826,75,961,118,183,8095,248,13,54,2,1961,9292,2,1323,4348,2914,123,676,168,10,305,391,5840,53,3604,784,1976,8,19318,185,751,183,49,398,8,591,12,452,183,36,256,9,95,1672,779,24737,454,158,46,376,2642,2860,23,85,1556,31,22,59,168,74,42,38,100,195,2396,1,22,3016,40,45,479,1,465,54,48,160,213,8948,681,108,470,216,2598,833,774,19,10971,5324,674,176,84,172,15,1563,7058,1653,526,1186,313,23,78,222,72,25,174,1235,5,9,5,752,822,505,687,6,47,8125,937,476,4547,1,264,2147,16,38,12,1288,872,523,377,9,12207,428,78,1130,28,318264,20],\"type\":\"treemap\"}],                        {\"template\":{\"data\":{\"histogram2dcontour\":[{\"type\":\"histogram2dcontour\",\"colorbar\":{\"outlinewidth\":0,\"ticks\":\"\"},\"colorscale\":[[0.0,\"#0d0887\"],[0.1111111111111111,\"#46039f\"],[0.2222222222222222,\"#7201a8\"],[0.3333333333333333,\"#9c179e\"],[0.4444444444444444,\"#bd3786\"],[0.5555555555555556,\"#d8576b\"],[0.6666666666666666,\"#ed7953\"],[0.7777777777777778,\"#fb9f3a\"],[0.8888888888888888,\"#fdca26\"],[1.0,\"#f0f921\"]]}],\"choropleth\":[{\"type\":\"choropleth\",\"colorbar\":{\"outlinewidth\":0,\"ticks\":\"\"}}],\"histogram2d\":[{\"type\":\"histogram2d\",\"colorbar\":{\"outlinewidth\":0,\"ticks\":\"\"},\"colorscale\":[[0.0,\"#0d0887\"],[0.1111111111111111,\"#46039f\"],[0.2222222222222222,\"#7201a8\"],[0.3333333333333333,\"#9c179e\"],[0.4444444444444444,\"#bd3786\"],[0.5555555555555556,\"#d8576b\"],[0.6666666666666666,\"#ed7953\"],[0.7777777777777778,\"#fb9f3a\"],[0.8888888888888888,\"#fdca26\"],[1.0,\"#f0f921\"]]}],\"heatmap\":[{\"type\":\"heatmap\",\"colorbar\":{\"outlinewidth\":0,\"ticks\":\"\"},\"colorscale\":[[0.0,\"#0d0887\"],[0.1111111111111111,\"#46039f\"],[0.2222222222222222,\"#7201a8\"],[0.3333333333333333,\"#9c179e\"],[0.4444444444444444,\"#bd3786\"],[0.5555555555555556,\"#d8576b\"],[0.6666666666666666,\"#ed7953\"],[0.7777777777777778,\"#fb9f3a\"],[0.8888888888888888,\"#fdca26\"],[1.0,\"#f0f921\"]]}],\"heatmapgl\":[{\"type\":\"heatmapgl\",\"colorbar\":{\"outlinewidth\":0,\"ticks\":\"\"},\"colorscale\":[[0.0,\"#0d0887\"],[0.1111111111111111,\"#46039f\"],[0.2222222222222222,\"#7201a8\"],[0.3333333333333333,\"#9c179e\"],[0.4444444444444444,\"#bd3786\"],[0.5555555555555556,\"#d8576b\"],[0.6666666666666666,\"#ed7953\"],[0.7777777777777778,\"#fb9f3a\"],[0.8888888888888888,\"#fdca26\"],[1.0,\"#f0f921\"]]}],\"contourcarpet\":[{\"type\":\"contourcarpet\",\"colorbar\":{\"outlinewidth\":0,\"ticks\":\"\"}}],\"contour\":[{\"type\":\"contour\",\"colorbar\":{\"outlinewidth\":0,\"ticks\":\"\"},\"colorscale\":[[0.0,\"#0d0887\"],[0.1111111111111111,\"#46039f\"],[0.2222222222222222,\"#7201a8\"],[0.3333333333333333,\"#9c179e\"],[0.4444444444444444,\"#bd3786\"],[0.5555555555555556,\"#d8576b\"],[0.6666666666666666,\"#ed7953\"],[0.7777777777777778,\"#fb9f3a\"],[0.8888888888888888,\"#fdca26\"],[1.0,\"#f0f921\"]]}],\"surface\":[{\"type\":\"surface\",\"colorbar\":{\"outlinewidth\":0,\"ticks\":\"\"},\"colorscale\":[[0.0,\"#0d0887\"],[0.1111111111111111,\"#46039f\"],[0.2222222222222222,\"#7201a8\"],[0.3333333333333333,\"#9c179e\"],[0.4444444444444444,\"#bd3786\"],[0.5555555555555556,\"#d8576b\"],[0.6666666666666666,\"#ed7953\"],[0.7777777777777778,\"#fb9f3a\"],[0.8888888888888888,\"#fdca26\"],[1.0,\"#f0f921\"]]}],\"mesh3d\":[{\"type\":\"mesh3d\",\"colorbar\":{\"outlinewidth\":0,\"ticks\":\"\"}}],\"scatter\":[{\"fillpattern\":{\"fillmode\":\"overlay\",\"size\":10,\"solidity\":0.2},\"type\":\"scatter\"}],\"parcoords\":[{\"type\":\"parcoords\",\"line\":{\"colorbar\":{\"outlinewidth\":0,\"ticks\":\"\"}}}],\"scatterpolargl\":[{\"type\":\"scatterpolargl\",\"marker\":{\"colorbar\":{\"outlinewidth\":0,\"ticks\":\"\"}}}],\"bar\":[{\"error_x\":{\"color\":\"#2a3f5f\"},\"error_y\":{\"color\":\"#2a3f5f\"},\"marker\":{\"line\":{\"color\":\"#E5ECF6\",\"width\":0.5},\"pattern\":{\"fillmode\":\"overlay\",\"size\":10,\"solidity\":0.2}},\"type\":\"bar\"}],\"scattergeo\":[{\"type\":\"scattergeo\",\"marker\":{\"colorbar\":{\"outlinewidth\":0,\"ticks\":\"\"}}}],\"scatterpolar\":[{\"type\":\"scatterpolar\",\"marker\":{\"colorbar\":{\"outlinewidth\":0,\"ticks\":\"\"}}}],\"histogram\":[{\"marker\":{\"pattern\":{\"fillmode\":\"overlay\",\"size\":10,\"solidity\":0.2}},\"type\":\"histogram\"}],\"scattergl\":[{\"type\":\"scattergl\",\"marker\":{\"colorbar\":{\"outlinewidth\":0,\"ticks\":\"\"}}}],\"scatter3d\":[{\"type\":\"scatter3d\",\"line\":{\"colorbar\":{\"outlinewidth\":0,\"ticks\":\"\"}},\"marker\":{\"colorbar\":{\"outlinewidth\":0,\"ticks\":\"\"}}}],\"scattermapbox\":[{\"type\":\"scattermapbox\",\"marker\":{\"colorbar\":{\"outlinewidth\":0,\"ticks\":\"\"}}}],\"scatterternary\":[{\"type\":\"scatterternary\",\"marker\":{\"colorbar\":{\"outlinewidth\":0,\"ticks\":\"\"}}}],\"scattercarpet\":[{\"type\":\"scattercarpet\",\"marker\":{\"colorbar\":{\"outlinewidth\":0,\"ticks\":\"\"}}}],\"carpet\":[{\"aaxis\":{\"endlinecolor\":\"#2a3f5f\",\"gridcolor\":\"white\",\"linecolor\":\"white\",\"minorgridcolor\":\"white\",\"startlinecolor\":\"#2a3f5f\"},\"baxis\":{\"endlinecolor\":\"#2a3f5f\",\"gridcolor\":\"white\",\"linecolor\":\"white\",\"minorgridcolor\":\"white\",\"startlinecolor\":\"#2a3f5f\"},\"type\":\"carpet\"}],\"table\":[{\"cells\":{\"fill\":{\"color\":\"#EBF0F8\"},\"line\":{\"color\":\"white\"}},\"header\":{\"fill\":{\"color\":\"#C8D4E3\"},\"line\":{\"color\":\"white\"}},\"type\":\"table\"}],\"barpolar\":[{\"marker\":{\"line\":{\"color\":\"#E5ECF6\",\"width\":0.5},\"pattern\":{\"fillmode\":\"overlay\",\"size\":10,\"solidity\":0.2}},\"type\":\"barpolar\"}],\"pie\":[{\"automargin\":true,\"type\":\"pie\"}]},\"layout\":{\"autotypenumbers\":\"strict\",\"colorway\":[\"#636efa\",\"#EF553B\",\"#00cc96\",\"#ab63fa\",\"#FFA15A\",\"#19d3f3\",\"#FF6692\",\"#B6E880\",\"#FF97FF\",\"#FECB52\"],\"font\":{\"color\":\"#2a3f5f\"},\"hovermode\":\"closest\",\"hoverlabel\":{\"align\":\"left\"},\"paper_bgcolor\":\"white\",\"plot_bgcolor\":\"#E5ECF6\",\"polar\":{\"bgcolor\":\"#E5ECF6\",\"angularaxis\":{\"gridcolor\":\"white\",\"linecolor\":\"white\",\"ticks\":\"\"},\"radialaxis\":{\"gridcolor\":\"white\",\"linecolor\":\"white\",\"ticks\":\"\"}},\"ternary\":{\"bgcolor\":\"#E5ECF6\",\"aaxis\":{\"gridcolor\":\"white\",\"linecolor\":\"white\",\"ticks\":\"\"},\"baxis\":{\"gridcolor\":\"white\",\"linecolor\":\"white\",\"ticks\":\"\"},\"caxis\":{\"gridcolor\":\"white\",\"linecolor\":\"white\",\"ticks\":\"\"}},\"coloraxis\":{\"colorbar\":{\"outlinewidth\":0,\"ticks\":\"\"}},\"colorscale\":{\"sequential\":[[0.0,\"#0d0887\"],[0.1111111111111111,\"#46039f\"],[0.2222222222222222,\"#7201a8\"],[0.3333333333333333,\"#9c179e\"],[0.4444444444444444,\"#bd3786\"],[0.5555555555555556,\"#d8576b\"],[0.6666666666666666,\"#ed7953\"],[0.7777777777777778,\"#fb9f3a\"],[0.8888888888888888,\"#fdca26\"],[1.0,\"#f0f921\"]],\"sequentialminus\":[[0.0,\"#0d0887\"],[0.1111111111111111,\"#46039f\"],[0.2222222222222222,\"#7201a8\"],[0.3333333333333333,\"#9c179e\"],[0.4444444444444444,\"#bd3786\"],[0.5555555555555556,\"#d8576b\"],[0.6666666666666666,\"#ed7953\"],[0.7777777777777778,\"#fb9f3a\"],[0.8888888888888888,\"#fdca26\"],[1.0,\"#f0f921\"]],\"diverging\":[[0,\"#8e0152\"],[0.1,\"#c51b7d\"],[0.2,\"#de77ae\"],[0.3,\"#f1b6da\"],[0.4,\"#fde0ef\"],[0.5,\"#f7f7f7\"],[0.6,\"#e6f5d0\"],[0.7,\"#b8e186\"],[0.8,\"#7fbc41\"],[0.9,\"#4d9221\"],[1,\"#276419\"]]},\"xaxis\":{\"gridcolor\":\"white\",\"linecolor\":\"white\",\"ticks\":\"\",\"title\":{\"standoff\":15},\"zerolinecolor\":\"white\",\"automargin\":true,\"zerolinewidth\":2},\"yaxis\":{\"gridcolor\":\"white\",\"linecolor\":\"white\",\"ticks\":\"\",\"title\":{\"standoff\":15},\"zerolinecolor\":\"white\",\"automargin\":true,\"zerolinewidth\":2},\"scene\":{\"xaxis\":{\"backgroundcolor\":\"#E5ECF6\",\"gridcolor\":\"white\",\"linecolor\":\"white\",\"showbackground\":true,\"ticks\":\"\",\"zerolinecolor\":\"white\",\"gridwidth\":2},\"yaxis\":{\"backgroundcolor\":\"#E5ECF6\",\"gridcolor\":\"white\",\"linecolor\":\"white\",\"showbackground\":true,\"ticks\":\"\",\"zerolinecolor\":\"white\",\"gridwidth\":2},\"zaxis\":{\"backgroundcolor\":\"#E5ECF6\",\"gridcolor\":\"white\",\"linecolor\":\"white\",\"showbackground\":true,\"ticks\":\"\",\"zerolinecolor\":\"white\",\"gridwidth\":2}},\"shapedefaults\":{\"line\":{\"color\":\"#2a3f5f\"}},\"annotationdefaults\":{\"arrowcolor\":\"#2a3f5f\",\"arrowhead\":0,\"arrowwidth\":1},\"geo\":{\"bgcolor\":\"white\",\"landcolor\":\"#E5ECF6\",\"subunitcolor\":\"white\",\"showland\":true,\"showlakes\":true,\"lakecolor\":\"white\"},\"title\":{\"x\":0.05},\"mapbox\":{\"style\":\"light\"}}},\"coloraxis\":{\"colorbar\":{\"title\":{\"text\":\"number_of_products\"}},\"colorscale\":[[0.0,\"#0d0887\"],[0.1111111111111111,\"#46039f\"],[0.2222222222222222,\"#7201a8\"],[0.3333333333333333,\"#9c179e\"],[0.4444444444444444,\"#bd3786\"],[0.5555555555555556,\"#d8576b\"],[0.6666666666666666,\"#ed7953\"],[0.7777777777777778,\"#fb9f3a\"],[0.8888888888888888,\"#fdca26\"],[1.0,\"#f0f921\"]]},\"legend\":{\"tracegroupgap\":0},\"title\":{\"text\":\"Major Producers of Implantable Medical Devices\"}},                        {\"responsive\": true}                    ).then(function(){\n",
       "                            \n",
       "var gd = document.getElementById('fdfdabdd-c1ad-40a1-a04a-922d632de640');\n",
       "var x = new MutationObserver(function (mutations, observer) {{\n",
       "        var display = window.getComputedStyle(gd).display;\n",
       "        if (!display || display === 'none') {{\n",
       "            console.log([gd, 'removed!']);\n",
       "            Plotly.purge(gd);\n",
       "            observer.disconnect();\n",
       "        }}\n",
       "}});\n",
       "\n",
       "// Listen for the removal of the full notebook cells\n",
       "var notebookContainer = gd.closest('#notebook-container');\n",
       "if (notebookContainer) {{\n",
       "    x.observe(notebookContainer, {childList: true});\n",
       "}}\n",
       "\n",
       "// Listen for the clearing of the current output cell\n",
       "var outputEl = gd.closest('.output');\n",
       "if (outputEl) {{\n",
       "    x.observe(outputEl, {childList: true});\n",
       "}}\n",
       "\n",
       "                        })                };                });            </script>        </div>"
      ]
     },
     "metadata": {},
     "output_type": "display_data"
    }
   ],
   "source": [
    "#treemap plot shows difference in manufactured products per company per specialty\n",
    "fig_company = px.treemap(df1_company.reset_index(), \n",
    "                         path=['med_specialty','company_name'], \n",
    "                         values='number_of_products',\n",
    "                         color='number_of_products',\n",
    "                         title='Major Producers of Implantable Medical Devices')\n",
    "fig_company.show()"
   ]
  },
  {
   "cell_type": "markdown",
   "id": "fa6bd14a",
   "metadata": {},
   "source": [
    "- To compare the top 5 players in each specialty area, I grouped by medical_specialty, selected the top 5, and sorted by medical specialty name. By studying this data frame, we can see the striking difference in the number of implantable devices produced by the Orthopedic industry compared to the others."
   ]
  },
  {
   "cell_type": "code",
   "execution_count": 266,
   "id": "38278d49",
   "metadata": {},
   "outputs": [
    {
     "data": {
      "text/html": [
       "<div>\n",
       "<style scoped>\n",
       "    .dataframe tbody tr th:only-of-type {\n",
       "        vertical-align: middle;\n",
       "    }\n",
       "\n",
       "    .dataframe tbody tr th {\n",
       "        vertical-align: top;\n",
       "    }\n",
       "\n",
       "    .dataframe thead th {\n",
       "        text-align: right;\n",
       "    }\n",
       "</style>\n",
       "<table border=\"1\" class=\"dataframe\">\n",
       "  <thead>\n",
       "    <tr style=\"text-align: right;\">\n",
       "      <th></th>\n",
       "      <th>company_name</th>\n",
       "      <th>med_specialty</th>\n",
       "      <th>number_of_products</th>\n",
       "    </tr>\n",
       "  </thead>\n",
       "  <tbody>\n",
       "    <tr>\n",
       "      <th>0</th>\n",
       "      <td>nuvasive, inc.</td>\n",
       "      <td>Orthopedic</td>\n",
       "      <td>24737</td>\n",
       "    </tr>\n",
       "    <tr>\n",
       "      <th>1</th>\n",
       "      <td>gbs commonwealth co.,ltd.</td>\n",
       "      <td>Orthopedic</td>\n",
       "      <td>24616</td>\n",
       "    </tr>\n",
       "    <tr>\n",
       "      <th>2</th>\n",
       "      <td>medtronic sofamor danek, inc.</td>\n",
       "      <td>Orthopedic</td>\n",
       "      <td>19318</td>\n",
       "    </tr>\n",
       "    <tr>\n",
       "      <th>3</th>\n",
       "      <td>globus medical, inc.</td>\n",
       "      <td>Orthopedic</td>\n",
       "      <td>17850</td>\n",
       "    </tr>\n",
       "    <tr>\n",
       "      <th>4</th>\n",
       "      <td>biomet orthopedics, llc</td>\n",
       "      <td>Orthopedic</td>\n",
       "      <td>12213</td>\n",
       "    </tr>\n",
       "    <tr>\n",
       "      <th>5</th>\n",
       "      <td>femcare limited</td>\n",
       "      <td>Obstetrics/Gynecology</td>\n",
       "      <td>18</td>\n",
       "    </tr>\n",
       "    <tr>\n",
       "      <th>6</th>\n",
       "      <td>gyrus acmi, inc.</td>\n",
       "      <td>Obstetrics/Gynecology</td>\n",
       "      <td>5</td>\n",
       "    </tr>\n",
       "    <tr>\n",
       "      <th>7</th>\n",
       "      <td>bayer healthcare llc</td>\n",
       "      <td>Obstetrics/Gynecology</td>\n",
       "      <td>3</td>\n",
       "    </tr>\n",
       "    <tr>\n",
       "      <th>8</th>\n",
       "      <td>richard wolf medical instruments corp.</td>\n",
       "      <td>Obstetrics/Gynecology</td>\n",
       "      <td>1</td>\n",
       "    </tr>\n",
       "    <tr>\n",
       "      <th>9</th>\n",
       "      <td>pop medical solutions ltd</td>\n",
       "      <td>Obstetrics/Gynecology</td>\n",
       "      <td>1</td>\n",
       "    </tr>\n",
       "    <tr>\n",
       "      <th>10</th>\n",
       "      <td>sientra, inc.</td>\n",
       "      <td>General, Plastic Surgery</td>\n",
       "      <td>470</td>\n",
       "    </tr>\n",
       "    <tr>\n",
       "      <th>11</th>\n",
       "      <td>allergan, inc.</td>\n",
       "      <td>General, Plastic Surgery</td>\n",
       "      <td>304</td>\n",
       "    </tr>\n",
       "    <tr>\n",
       "      <th>12</th>\n",
       "      <td>mentor texas l.p.</td>\n",
       "      <td>General, Plastic Surgery</td>\n",
       "      <td>183</td>\n",
       "    </tr>\n",
       "    <tr>\n",
       "      <th>13</th>\n",
       "      <td>depuy orthopaedics, inc.</td>\n",
       "      <td>General, Plastic Surgery</td>\n",
       "      <td>48</td>\n",
       "    </tr>\n",
       "    <tr>\n",
       "      <th>14</th>\n",
       "      <td>precision spine, inc.</td>\n",
       "      <td>General, Plastic Surgery</td>\n",
       "      <td>22</td>\n",
       "    </tr>\n",
       "    <tr>\n",
       "      <th>15</th>\n",
       "      <td>coloplast a/s</td>\n",
       "      <td>Gastroenterology, Urology</td>\n",
       "      <td>73</td>\n",
       "    </tr>\n",
       "    <tr>\n",
       "      <th>16</th>\n",
       "      <td>teleflex incorporated</td>\n",
       "      <td>Gastroenterology, Urology</td>\n",
       "      <td>5</td>\n",
       "    </tr>\n",
       "    <tr>\n",
       "      <th>17</th>\n",
       "      <td>medtronic, inc.</td>\n",
       "      <td>Cardiovascular</td>\n",
       "      <td>185</td>\n",
       "    </tr>\n",
       "    <tr>\n",
       "      <th>18</th>\n",
       "      <td>b braun interventional systems, inc</td>\n",
       "      <td>Cardiovascular</td>\n",
       "      <td>77</td>\n",
       "    </tr>\n",
       "    <tr>\n",
       "      <th>19</th>\n",
       "      <td>oscor inc.</td>\n",
       "      <td>Cardiovascular</td>\n",
       "      <td>59</td>\n",
       "    </tr>\n",
       "    <tr>\n",
       "      <th>20</th>\n",
       "      <td>boston scientific corporation</td>\n",
       "      <td>Cardiovascular</td>\n",
       "      <td>53</td>\n",
       "    </tr>\n",
       "    <tr>\n",
       "      <th>21</th>\n",
       "      <td>st. jude medical, inc.</td>\n",
       "      <td>Cardiovascular</td>\n",
       "      <td>23</td>\n",
       "    </tr>\n",
       "  </tbody>\n",
       "</table>\n",
       "</div>"
      ],
      "text/plain": [
       "                              company_name              med_specialty  \\\n",
       "0                           nuvasive, inc.                 Orthopedic   \n",
       "1                gbs commonwealth co.,ltd.                 Orthopedic   \n",
       "2            medtronic sofamor danek, inc.                 Orthopedic   \n",
       "3                     globus medical, inc.                 Orthopedic   \n",
       "4                  biomet orthopedics, llc                 Orthopedic   \n",
       "5                          femcare limited      Obstetrics/Gynecology   \n",
       "6                         gyrus acmi, inc.      Obstetrics/Gynecology   \n",
       "7                     bayer healthcare llc      Obstetrics/Gynecology   \n",
       "8   richard wolf medical instruments corp.      Obstetrics/Gynecology   \n",
       "9                pop medical solutions ltd      Obstetrics/Gynecology   \n",
       "10                           sientra, inc.   General, Plastic Surgery   \n",
       "11                          allergan, inc.   General, Plastic Surgery   \n",
       "12                       mentor texas l.p.   General, Plastic Surgery   \n",
       "13                depuy orthopaedics, inc.   General, Plastic Surgery   \n",
       "14                   precision spine, inc.   General, Plastic Surgery   \n",
       "15                           coloplast a/s  Gastroenterology, Urology   \n",
       "16                   teleflex incorporated  Gastroenterology, Urology   \n",
       "17                         medtronic, inc.             Cardiovascular   \n",
       "18     b braun interventional systems, inc             Cardiovascular   \n",
       "19                              oscor inc.             Cardiovascular   \n",
       "20           boston scientific corporation             Cardiovascular   \n",
       "21                  st. jude medical, inc.             Cardiovascular   \n",
       "\n",
       "    number_of_products  \n",
       "0                24737  \n",
       "1                24616  \n",
       "2                19318  \n",
       "3                17850  \n",
       "4                12213  \n",
       "5                   18  \n",
       "6                    5  \n",
       "7                    3  \n",
       "8                    1  \n",
       "9                    1  \n",
       "10                 470  \n",
       "11                 304  \n",
       "12                 183  \n",
       "13                  48  \n",
       "14                  22  \n",
       "15                  73  \n",
       "16                   5  \n",
       "17                 185  \n",
       "18                  77  \n",
       "19                  59  \n",
       "20                  53  \n",
       "21                  23  "
      ]
     },
     "execution_count": 266,
     "metadata": {},
     "output_type": "execute_result"
    }
   ],
   "source": [
    "#top 5 players per specialty area                                                     \n",
    "df1_company_sort = df1_company.groupby('med_specialty').head(5)\\\n",
    "                                  .sort_values(['med_specialty', 'number_of_products'], ascending=[False,False])\\\n",
    "                                  .reset_index()\n",
    "df1_company_sort = df1_company_sort[(df1_company_sort['med_specialty'] != 'Unknown')].reset_index(drop=True)\n",
    "df1_company_sort"
   ]
  },
  {
   "cell_type": "code",
   "execution_count": 267,
   "id": "5e6d06f7",
   "metadata": {},
   "outputs": [
    {
     "data": {
      "application/vnd.plotly.v1+json": {
       "config": {
        "plotlyServerURL": "https://plot.ly"
       },
       "data": [
        {
         "branchvalues": "total",
         "customdata": [
          [
           304
          ],
          [
           77
          ],
          [
           3
          ],
          [
           12213
          ],
          [
           53
          ],
          [
           73
          ],
          [
           48
          ],
          [
           18
          ],
          [
           24616
          ],
          [
           17850
          ],
          [
           5
          ],
          [
           19318
          ],
          [
           185
          ],
          [
           183
          ],
          [
           24737
          ],
          [
           59
          ],
          [
           1
          ],
          [
           22
          ],
          [
           1
          ],
          [
           470
          ],
          [
           23
          ],
          [
           5
          ],
          [
           118.31989924433249
          ],
          [
           68.64102564102564
          ],
          [
           340.4021421616358
          ],
          [
           12.857142857142858
          ],
          [
           20852.306378755038
          ]
         ],
         "domain": {
          "x": [
           0,
           1
          ],
          "y": [
           0,
           1
          ]
         },
         "hovertemplate": "labels=%{label}<br>number_of_products_sum=%{value}<br>parent=%{parent}<br>id=%{id}<br>number_of_products=%{color}<extra></extra>",
         "ids": [
          "General, Plastic Surgery/allergan, inc.",
          "Cardiovascular/b braun interventional systems, inc",
          "Obstetrics/Gynecology/bayer healthcare llc",
          "Orthopedic/biomet orthopedics, llc",
          "Cardiovascular/boston scientific corporation",
          "Gastroenterology, Urology/coloplast a/s",
          "General, Plastic Surgery/depuy orthopaedics, inc.",
          "Obstetrics/Gynecology/femcare limited",
          "Orthopedic/gbs commonwealth co.,ltd.",
          "Orthopedic/globus medical, inc.",
          "Obstetrics/Gynecology/gyrus acmi, inc.",
          "Orthopedic/medtronic sofamor danek, inc.",
          "Cardiovascular/medtronic, inc.",
          "General, Plastic Surgery/mentor texas l.p.",
          "Orthopedic/nuvasive, inc.",
          "Cardiovascular/oscor inc.",
          "Obstetrics/Gynecology/pop medical solutions ltd",
          "General, Plastic Surgery/precision spine, inc.",
          "Obstetrics/Gynecology/richard wolf medical instruments corp.",
          "General, Plastic Surgery/sientra, inc.",
          "Cardiovascular/st. jude medical, inc.",
          "Gastroenterology, Urology/teleflex incorporated",
          "Cardiovascular",
          "Gastroenterology, Urology",
          "General, Plastic Surgery",
          "Obstetrics/Gynecology",
          "Orthopedic"
         ],
         "labels": [
          "allergan, inc.",
          "b braun interventional systems, inc",
          "bayer healthcare llc",
          "biomet orthopedics, llc",
          "boston scientific corporation",
          "coloplast a/s",
          "depuy orthopaedics, inc.",
          "femcare limited",
          "gbs commonwealth co.,ltd.",
          "globus medical, inc.",
          "gyrus acmi, inc.",
          "medtronic sofamor danek, inc.",
          "medtronic, inc.",
          "mentor texas l.p.",
          "nuvasive, inc.",
          "oscor inc.",
          "pop medical solutions ltd",
          "precision spine, inc.",
          "richard wolf medical instruments corp.",
          "sientra, inc.",
          "st. jude medical, inc.",
          "teleflex incorporated",
          "Cardiovascular",
          "Gastroenterology, Urology",
          "General, Plastic Surgery",
          "Obstetrics/Gynecology",
          "Orthopedic"
         ],
         "marker": {
          "coloraxis": "coloraxis",
          "colors": [
           304,
           77,
           3,
           12213,
           53,
           73,
           48,
           18,
           24616,
           17850,
           5,
           19318,
           185,
           183,
           24737,
           59,
           1,
           22,
           1,
           470,
           23,
           5,
           118.31989924433249,
           68.64102564102564,
           340.4021421616358,
           12.857142857142858,
           20852.306378755038
          ]
         },
         "name": "",
         "parents": [
          "General, Plastic Surgery",
          "Cardiovascular",
          "Obstetrics/Gynecology",
          "Orthopedic",
          "Cardiovascular",
          "Gastroenterology, Urology",
          "General, Plastic Surgery",
          "Obstetrics/Gynecology",
          "Orthopedic",
          "Orthopedic",
          "Obstetrics/Gynecology",
          "Orthopedic",
          "Cardiovascular",
          "General, Plastic Surgery",
          "Orthopedic",
          "Cardiovascular",
          "Obstetrics/Gynecology",
          "General, Plastic Surgery",
          "Obstetrics/Gynecology",
          "General, Plastic Surgery",
          "Cardiovascular",
          "Gastroenterology, Urology",
          "",
          "",
          "",
          "",
          ""
         ],
         "type": "treemap",
         "values": [
          304,
          77,
          3,
          12213,
          53,
          73,
          48,
          18,
          24616,
          17850,
          5,
          19318,
          185,
          183,
          24737,
          59,
          1,
          22,
          1,
          470,
          23,
          5,
          397,
          78,
          1027,
          28,
          98734
         ]
        }
       ],
       "layout": {
        "coloraxis": {
         "colorbar": {
          "title": {
           "text": "number_of_products"
          }
         },
         "colorscale": [
          [
           0,
           "#0d0887"
          ],
          [
           0.1111111111111111,
           "#46039f"
          ],
          [
           0.2222222222222222,
           "#7201a8"
          ],
          [
           0.3333333333333333,
           "#9c179e"
          ],
          [
           0.4444444444444444,
           "#bd3786"
          ],
          [
           0.5555555555555556,
           "#d8576b"
          ],
          [
           0.6666666666666666,
           "#ed7953"
          ],
          [
           0.7777777777777778,
           "#fb9f3a"
          ],
          [
           0.8888888888888888,
           "#fdca26"
          ],
          [
           1,
           "#f0f921"
          ]
         ]
        },
        "legend": {
         "tracegroupgap": 0
        },
        "template": {
         "data": {
          "bar": [
           {
            "error_x": {
             "color": "#2a3f5f"
            },
            "error_y": {
             "color": "#2a3f5f"
            },
            "marker": {
             "line": {
              "color": "#E5ECF6",
              "width": 0.5
             },
             "pattern": {
              "fillmode": "overlay",
              "size": 10,
              "solidity": 0.2
             }
            },
            "type": "bar"
           }
          ],
          "barpolar": [
           {
            "marker": {
             "line": {
              "color": "#E5ECF6",
              "width": 0.5
             },
             "pattern": {
              "fillmode": "overlay",
              "size": 10,
              "solidity": 0.2
             }
            },
            "type": "barpolar"
           }
          ],
          "carpet": [
           {
            "aaxis": {
             "endlinecolor": "#2a3f5f",
             "gridcolor": "white",
             "linecolor": "white",
             "minorgridcolor": "white",
             "startlinecolor": "#2a3f5f"
            },
            "baxis": {
             "endlinecolor": "#2a3f5f",
             "gridcolor": "white",
             "linecolor": "white",
             "minorgridcolor": "white",
             "startlinecolor": "#2a3f5f"
            },
            "type": "carpet"
           }
          ],
          "choropleth": [
           {
            "colorbar": {
             "outlinewidth": 0,
             "ticks": ""
            },
            "type": "choropleth"
           }
          ],
          "contour": [
           {
            "colorbar": {
             "outlinewidth": 0,
             "ticks": ""
            },
            "colorscale": [
             [
              0,
              "#0d0887"
             ],
             [
              0.1111111111111111,
              "#46039f"
             ],
             [
              0.2222222222222222,
              "#7201a8"
             ],
             [
              0.3333333333333333,
              "#9c179e"
             ],
             [
              0.4444444444444444,
              "#bd3786"
             ],
             [
              0.5555555555555556,
              "#d8576b"
             ],
             [
              0.6666666666666666,
              "#ed7953"
             ],
             [
              0.7777777777777778,
              "#fb9f3a"
             ],
             [
              0.8888888888888888,
              "#fdca26"
             ],
             [
              1,
              "#f0f921"
             ]
            ],
            "type": "contour"
           }
          ],
          "contourcarpet": [
           {
            "colorbar": {
             "outlinewidth": 0,
             "ticks": ""
            },
            "type": "contourcarpet"
           }
          ],
          "heatmap": [
           {
            "colorbar": {
             "outlinewidth": 0,
             "ticks": ""
            },
            "colorscale": [
             [
              0,
              "#0d0887"
             ],
             [
              0.1111111111111111,
              "#46039f"
             ],
             [
              0.2222222222222222,
              "#7201a8"
             ],
             [
              0.3333333333333333,
              "#9c179e"
             ],
             [
              0.4444444444444444,
              "#bd3786"
             ],
             [
              0.5555555555555556,
              "#d8576b"
             ],
             [
              0.6666666666666666,
              "#ed7953"
             ],
             [
              0.7777777777777778,
              "#fb9f3a"
             ],
             [
              0.8888888888888888,
              "#fdca26"
             ],
             [
              1,
              "#f0f921"
             ]
            ],
            "type": "heatmap"
           }
          ],
          "heatmapgl": [
           {
            "colorbar": {
             "outlinewidth": 0,
             "ticks": ""
            },
            "colorscale": [
             [
              0,
              "#0d0887"
             ],
             [
              0.1111111111111111,
              "#46039f"
             ],
             [
              0.2222222222222222,
              "#7201a8"
             ],
             [
              0.3333333333333333,
              "#9c179e"
             ],
             [
              0.4444444444444444,
              "#bd3786"
             ],
             [
              0.5555555555555556,
              "#d8576b"
             ],
             [
              0.6666666666666666,
              "#ed7953"
             ],
             [
              0.7777777777777778,
              "#fb9f3a"
             ],
             [
              0.8888888888888888,
              "#fdca26"
             ],
             [
              1,
              "#f0f921"
             ]
            ],
            "type": "heatmapgl"
           }
          ],
          "histogram": [
           {
            "marker": {
             "pattern": {
              "fillmode": "overlay",
              "size": 10,
              "solidity": 0.2
             }
            },
            "type": "histogram"
           }
          ],
          "histogram2d": [
           {
            "colorbar": {
             "outlinewidth": 0,
             "ticks": ""
            },
            "colorscale": [
             [
              0,
              "#0d0887"
             ],
             [
              0.1111111111111111,
              "#46039f"
             ],
             [
              0.2222222222222222,
              "#7201a8"
             ],
             [
              0.3333333333333333,
              "#9c179e"
             ],
             [
              0.4444444444444444,
              "#bd3786"
             ],
             [
              0.5555555555555556,
              "#d8576b"
             ],
             [
              0.6666666666666666,
              "#ed7953"
             ],
             [
              0.7777777777777778,
              "#fb9f3a"
             ],
             [
              0.8888888888888888,
              "#fdca26"
             ],
             [
              1,
              "#f0f921"
             ]
            ],
            "type": "histogram2d"
           }
          ],
          "histogram2dcontour": [
           {
            "colorbar": {
             "outlinewidth": 0,
             "ticks": ""
            },
            "colorscale": [
             [
              0,
              "#0d0887"
             ],
             [
              0.1111111111111111,
              "#46039f"
             ],
             [
              0.2222222222222222,
              "#7201a8"
             ],
             [
              0.3333333333333333,
              "#9c179e"
             ],
             [
              0.4444444444444444,
              "#bd3786"
             ],
             [
              0.5555555555555556,
              "#d8576b"
             ],
             [
              0.6666666666666666,
              "#ed7953"
             ],
             [
              0.7777777777777778,
              "#fb9f3a"
             ],
             [
              0.8888888888888888,
              "#fdca26"
             ],
             [
              1,
              "#f0f921"
             ]
            ],
            "type": "histogram2dcontour"
           }
          ],
          "mesh3d": [
           {
            "colorbar": {
             "outlinewidth": 0,
             "ticks": ""
            },
            "type": "mesh3d"
           }
          ],
          "parcoords": [
           {
            "line": {
             "colorbar": {
              "outlinewidth": 0,
              "ticks": ""
             }
            },
            "type": "parcoords"
           }
          ],
          "pie": [
           {
            "automargin": true,
            "type": "pie"
           }
          ],
          "scatter": [
           {
            "fillpattern": {
             "fillmode": "overlay",
             "size": 10,
             "solidity": 0.2
            },
            "type": "scatter"
           }
          ],
          "scatter3d": [
           {
            "line": {
             "colorbar": {
              "outlinewidth": 0,
              "ticks": ""
             }
            },
            "marker": {
             "colorbar": {
              "outlinewidth": 0,
              "ticks": ""
             }
            },
            "type": "scatter3d"
           }
          ],
          "scattercarpet": [
           {
            "marker": {
             "colorbar": {
              "outlinewidth": 0,
              "ticks": ""
             }
            },
            "type": "scattercarpet"
           }
          ],
          "scattergeo": [
           {
            "marker": {
             "colorbar": {
              "outlinewidth": 0,
              "ticks": ""
             }
            },
            "type": "scattergeo"
           }
          ],
          "scattergl": [
           {
            "marker": {
             "colorbar": {
              "outlinewidth": 0,
              "ticks": ""
             }
            },
            "type": "scattergl"
           }
          ],
          "scattermapbox": [
           {
            "marker": {
             "colorbar": {
              "outlinewidth": 0,
              "ticks": ""
             }
            },
            "type": "scattermapbox"
           }
          ],
          "scatterpolar": [
           {
            "marker": {
             "colorbar": {
              "outlinewidth": 0,
              "ticks": ""
             }
            },
            "type": "scatterpolar"
           }
          ],
          "scatterpolargl": [
           {
            "marker": {
             "colorbar": {
              "outlinewidth": 0,
              "ticks": ""
             }
            },
            "type": "scatterpolargl"
           }
          ],
          "scatterternary": [
           {
            "marker": {
             "colorbar": {
              "outlinewidth": 0,
              "ticks": ""
             }
            },
            "type": "scatterternary"
           }
          ],
          "surface": [
           {
            "colorbar": {
             "outlinewidth": 0,
             "ticks": ""
            },
            "colorscale": [
             [
              0,
              "#0d0887"
             ],
             [
              0.1111111111111111,
              "#46039f"
             ],
             [
              0.2222222222222222,
              "#7201a8"
             ],
             [
              0.3333333333333333,
              "#9c179e"
             ],
             [
              0.4444444444444444,
              "#bd3786"
             ],
             [
              0.5555555555555556,
              "#d8576b"
             ],
             [
              0.6666666666666666,
              "#ed7953"
             ],
             [
              0.7777777777777778,
              "#fb9f3a"
             ],
             [
              0.8888888888888888,
              "#fdca26"
             ],
             [
              1,
              "#f0f921"
             ]
            ],
            "type": "surface"
           }
          ],
          "table": [
           {
            "cells": {
             "fill": {
              "color": "#EBF0F8"
             },
             "line": {
              "color": "white"
             }
            },
            "header": {
             "fill": {
              "color": "#C8D4E3"
             },
             "line": {
              "color": "white"
             }
            },
            "type": "table"
           }
          ]
         },
         "layout": {
          "annotationdefaults": {
           "arrowcolor": "#2a3f5f",
           "arrowhead": 0,
           "arrowwidth": 1
          },
          "autotypenumbers": "strict",
          "coloraxis": {
           "colorbar": {
            "outlinewidth": 0,
            "ticks": ""
           }
          },
          "colorscale": {
           "diverging": [
            [
             0,
             "#8e0152"
            ],
            [
             0.1,
             "#c51b7d"
            ],
            [
             0.2,
             "#de77ae"
            ],
            [
             0.3,
             "#f1b6da"
            ],
            [
             0.4,
             "#fde0ef"
            ],
            [
             0.5,
             "#f7f7f7"
            ],
            [
             0.6,
             "#e6f5d0"
            ],
            [
             0.7,
             "#b8e186"
            ],
            [
             0.8,
             "#7fbc41"
            ],
            [
             0.9,
             "#4d9221"
            ],
            [
             1,
             "#276419"
            ]
           ],
           "sequential": [
            [
             0,
             "#0d0887"
            ],
            [
             0.1111111111111111,
             "#46039f"
            ],
            [
             0.2222222222222222,
             "#7201a8"
            ],
            [
             0.3333333333333333,
             "#9c179e"
            ],
            [
             0.4444444444444444,
             "#bd3786"
            ],
            [
             0.5555555555555556,
             "#d8576b"
            ],
            [
             0.6666666666666666,
             "#ed7953"
            ],
            [
             0.7777777777777778,
             "#fb9f3a"
            ],
            [
             0.8888888888888888,
             "#fdca26"
            ],
            [
             1,
             "#f0f921"
            ]
           ],
           "sequentialminus": [
            [
             0,
             "#0d0887"
            ],
            [
             0.1111111111111111,
             "#46039f"
            ],
            [
             0.2222222222222222,
             "#7201a8"
            ],
            [
             0.3333333333333333,
             "#9c179e"
            ],
            [
             0.4444444444444444,
             "#bd3786"
            ],
            [
             0.5555555555555556,
             "#d8576b"
            ],
            [
             0.6666666666666666,
             "#ed7953"
            ],
            [
             0.7777777777777778,
             "#fb9f3a"
            ],
            [
             0.8888888888888888,
             "#fdca26"
            ],
            [
             1,
             "#f0f921"
            ]
           ]
          },
          "colorway": [
           "#636efa",
           "#EF553B",
           "#00cc96",
           "#ab63fa",
           "#FFA15A",
           "#19d3f3",
           "#FF6692",
           "#B6E880",
           "#FF97FF",
           "#FECB52"
          ],
          "font": {
           "color": "#2a3f5f"
          },
          "geo": {
           "bgcolor": "white",
           "lakecolor": "white",
           "landcolor": "#E5ECF6",
           "showlakes": true,
           "showland": true,
           "subunitcolor": "white"
          },
          "hoverlabel": {
           "align": "left"
          },
          "hovermode": "closest",
          "mapbox": {
           "style": "light"
          },
          "paper_bgcolor": "white",
          "plot_bgcolor": "#E5ECF6",
          "polar": {
           "angularaxis": {
            "gridcolor": "white",
            "linecolor": "white",
            "ticks": ""
           },
           "bgcolor": "#E5ECF6",
           "radialaxis": {
            "gridcolor": "white",
            "linecolor": "white",
            "ticks": ""
           }
          },
          "scene": {
           "xaxis": {
            "backgroundcolor": "#E5ECF6",
            "gridcolor": "white",
            "gridwidth": 2,
            "linecolor": "white",
            "showbackground": true,
            "ticks": "",
            "zerolinecolor": "white"
           },
           "yaxis": {
            "backgroundcolor": "#E5ECF6",
            "gridcolor": "white",
            "gridwidth": 2,
            "linecolor": "white",
            "showbackground": true,
            "ticks": "",
            "zerolinecolor": "white"
           },
           "zaxis": {
            "backgroundcolor": "#E5ECF6",
            "gridcolor": "white",
            "gridwidth": 2,
            "linecolor": "white",
            "showbackground": true,
            "ticks": "",
            "zerolinecolor": "white"
           }
          },
          "shapedefaults": {
           "line": {
            "color": "#2a3f5f"
           }
          },
          "ternary": {
           "aaxis": {
            "gridcolor": "white",
            "linecolor": "white",
            "ticks": ""
           },
           "baxis": {
            "gridcolor": "white",
            "linecolor": "white",
            "ticks": ""
           },
           "bgcolor": "#E5ECF6",
           "caxis": {
            "gridcolor": "white",
            "linecolor": "white",
            "ticks": ""
           }
          },
          "title": {
           "x": 0.05
          },
          "xaxis": {
           "automargin": true,
           "gridcolor": "white",
           "linecolor": "white",
           "ticks": "",
           "title": {
            "standoff": 15
           },
           "zerolinecolor": "white",
           "zerolinewidth": 2
          },
          "yaxis": {
           "automargin": true,
           "gridcolor": "white",
           "linecolor": "white",
           "ticks": "",
           "title": {
            "standoff": 15
           },
           "zerolinecolor": "white",
           "zerolinewidth": 2
          }
         }
        },
        "title": {
         "text": "Major Producers of Implantable Medical Devices"
        }
       }
      },
      "text/html": [
       "<div>                            <div id=\"fd3066d6-a614-45fd-b68e-b6e074089784\" class=\"plotly-graph-div\" style=\"height:525px; width:100%;\"></div>            <script type=\"text/javascript\">                require([\"plotly\"], function(Plotly) {                    window.PLOTLYENV=window.PLOTLYENV || {};                                    if (document.getElementById(\"fd3066d6-a614-45fd-b68e-b6e074089784\")) {                    Plotly.newPlot(                        \"fd3066d6-a614-45fd-b68e-b6e074089784\",                        [{\"branchvalues\":\"total\",\"customdata\":[[304.0],[77.0],[3.0],[12213.0],[53.0],[73.0],[48.0],[18.0],[24616.0],[17850.0],[5.0],[19318.0],[185.0],[183.0],[24737.0],[59.0],[1.0],[22.0],[1.0],[470.0],[23.0],[5.0],[118.31989924433249],[68.64102564102564],[340.4021421616358],[12.857142857142858],[20852.306378755038]],\"domain\":{\"x\":[0.0,1.0],\"y\":[0.0,1.0]},\"hovertemplate\":\"labels=%{label}<br>number_of_products_sum=%{value}<br>parent=%{parent}<br>id=%{id}<br>number_of_products=%{color}<extra></extra>\",\"ids\":[\"General, Plastic Surgery/allergan, inc.\",\"Cardiovascular/b braun interventional systems, inc\",\"Obstetrics/Gynecology/bayer healthcare llc\",\"Orthopedic/biomet orthopedics, llc\",\"Cardiovascular/boston scientific corporation\",\"Gastroenterology, Urology/coloplast a/s\",\"General, Plastic Surgery/depuy orthopaedics, inc.\",\"Obstetrics/Gynecology/femcare limited\",\"Orthopedic/gbs commonwealth co.,ltd.\",\"Orthopedic/globus medical, inc.\",\"Obstetrics/Gynecology/gyrus acmi, inc.\",\"Orthopedic/medtronic sofamor danek, inc.\",\"Cardiovascular/medtronic, inc.\",\"General, Plastic Surgery/mentor texas l.p.\",\"Orthopedic/nuvasive, inc.\",\"Cardiovascular/oscor inc.\",\"Obstetrics/Gynecology/pop medical solutions ltd\",\"General, Plastic Surgery/precision spine, inc.\",\"Obstetrics/Gynecology/richard wolf medical instruments corp.\",\"General, Plastic Surgery/sientra, inc.\",\"Cardiovascular/st. jude medical, inc.\",\"Gastroenterology, Urology/teleflex incorporated\",\"Cardiovascular\",\"Gastroenterology, Urology\",\"General, Plastic Surgery\",\"Obstetrics/Gynecology\",\"Orthopedic\"],\"labels\":[\"allergan, inc.\",\"b braun interventional systems, inc\",\"bayer healthcare llc\",\"biomet orthopedics, llc\",\"boston scientific corporation\",\"coloplast a/s\",\"depuy orthopaedics, inc.\",\"femcare limited\",\"gbs commonwealth co.,ltd.\",\"globus medical, inc.\",\"gyrus acmi, inc.\",\"medtronic sofamor danek, inc.\",\"medtronic, inc.\",\"mentor texas l.p.\",\"nuvasive, inc.\",\"oscor inc.\",\"pop medical solutions ltd\",\"precision spine, inc.\",\"richard wolf medical instruments corp.\",\"sientra, inc.\",\"st. jude medical, inc.\",\"teleflex incorporated\",\"Cardiovascular\",\"Gastroenterology, Urology\",\"General, Plastic Surgery\",\"Obstetrics/Gynecology\",\"Orthopedic\"],\"marker\":{\"coloraxis\":\"coloraxis\",\"colors\":[304.0,77.0,3.0,12213.0,53.0,73.0,48.0,18.0,24616.0,17850.0,5.0,19318.0,185.0,183.0,24737.0,59.0,1.0,22.0,1.0,470.0,23.0,5.0,118.31989924433249,68.64102564102564,340.4021421616358,12.857142857142858,20852.306378755038]},\"name\":\"\",\"parents\":[\"General, Plastic Surgery\",\"Cardiovascular\",\"Obstetrics/Gynecology\",\"Orthopedic\",\"Cardiovascular\",\"Gastroenterology, Urology\",\"General, Plastic Surgery\",\"Obstetrics/Gynecology\",\"Orthopedic\",\"Orthopedic\",\"Obstetrics/Gynecology\",\"Orthopedic\",\"Cardiovascular\",\"General, Plastic Surgery\",\"Orthopedic\",\"Cardiovascular\",\"Obstetrics/Gynecology\",\"General, Plastic Surgery\",\"Obstetrics/Gynecology\",\"General, Plastic Surgery\",\"Cardiovascular\",\"Gastroenterology, Urology\",\"\",\"\",\"\",\"\",\"\"],\"values\":[304,77,3,12213,53,73,48,18,24616,17850,5,19318,185,183,24737,59,1,22,1,470,23,5,397,78,1027,28,98734],\"type\":\"treemap\"}],                        {\"template\":{\"data\":{\"histogram2dcontour\":[{\"type\":\"histogram2dcontour\",\"colorbar\":{\"outlinewidth\":0,\"ticks\":\"\"},\"colorscale\":[[0.0,\"#0d0887\"],[0.1111111111111111,\"#46039f\"],[0.2222222222222222,\"#7201a8\"],[0.3333333333333333,\"#9c179e\"],[0.4444444444444444,\"#bd3786\"],[0.5555555555555556,\"#d8576b\"],[0.6666666666666666,\"#ed7953\"],[0.7777777777777778,\"#fb9f3a\"],[0.8888888888888888,\"#fdca26\"],[1.0,\"#f0f921\"]]}],\"choropleth\":[{\"type\":\"choropleth\",\"colorbar\":{\"outlinewidth\":0,\"ticks\":\"\"}}],\"histogram2d\":[{\"type\":\"histogram2d\",\"colorbar\":{\"outlinewidth\":0,\"ticks\":\"\"},\"colorscale\":[[0.0,\"#0d0887\"],[0.1111111111111111,\"#46039f\"],[0.2222222222222222,\"#7201a8\"],[0.3333333333333333,\"#9c179e\"],[0.4444444444444444,\"#bd3786\"],[0.5555555555555556,\"#d8576b\"],[0.6666666666666666,\"#ed7953\"],[0.7777777777777778,\"#fb9f3a\"],[0.8888888888888888,\"#fdca26\"],[1.0,\"#f0f921\"]]}],\"heatmap\":[{\"type\":\"heatmap\",\"colorbar\":{\"outlinewidth\":0,\"ticks\":\"\"},\"colorscale\":[[0.0,\"#0d0887\"],[0.1111111111111111,\"#46039f\"],[0.2222222222222222,\"#7201a8\"],[0.3333333333333333,\"#9c179e\"],[0.4444444444444444,\"#bd3786\"],[0.5555555555555556,\"#d8576b\"],[0.6666666666666666,\"#ed7953\"],[0.7777777777777778,\"#fb9f3a\"],[0.8888888888888888,\"#fdca26\"],[1.0,\"#f0f921\"]]}],\"heatmapgl\":[{\"type\":\"heatmapgl\",\"colorbar\":{\"outlinewidth\":0,\"ticks\":\"\"},\"colorscale\":[[0.0,\"#0d0887\"],[0.1111111111111111,\"#46039f\"],[0.2222222222222222,\"#7201a8\"],[0.3333333333333333,\"#9c179e\"],[0.4444444444444444,\"#bd3786\"],[0.5555555555555556,\"#d8576b\"],[0.6666666666666666,\"#ed7953\"],[0.7777777777777778,\"#fb9f3a\"],[0.8888888888888888,\"#fdca26\"],[1.0,\"#f0f921\"]]}],\"contourcarpet\":[{\"type\":\"contourcarpet\",\"colorbar\":{\"outlinewidth\":0,\"ticks\":\"\"}}],\"contour\":[{\"type\":\"contour\",\"colorbar\":{\"outlinewidth\":0,\"ticks\":\"\"},\"colorscale\":[[0.0,\"#0d0887\"],[0.1111111111111111,\"#46039f\"],[0.2222222222222222,\"#7201a8\"],[0.3333333333333333,\"#9c179e\"],[0.4444444444444444,\"#bd3786\"],[0.5555555555555556,\"#d8576b\"],[0.6666666666666666,\"#ed7953\"],[0.7777777777777778,\"#fb9f3a\"],[0.8888888888888888,\"#fdca26\"],[1.0,\"#f0f921\"]]}],\"surface\":[{\"type\":\"surface\",\"colorbar\":{\"outlinewidth\":0,\"ticks\":\"\"},\"colorscale\":[[0.0,\"#0d0887\"],[0.1111111111111111,\"#46039f\"],[0.2222222222222222,\"#7201a8\"],[0.3333333333333333,\"#9c179e\"],[0.4444444444444444,\"#bd3786\"],[0.5555555555555556,\"#d8576b\"],[0.6666666666666666,\"#ed7953\"],[0.7777777777777778,\"#fb9f3a\"],[0.8888888888888888,\"#fdca26\"],[1.0,\"#f0f921\"]]}],\"mesh3d\":[{\"type\":\"mesh3d\",\"colorbar\":{\"outlinewidth\":0,\"ticks\":\"\"}}],\"scatter\":[{\"fillpattern\":{\"fillmode\":\"overlay\",\"size\":10,\"solidity\":0.2},\"type\":\"scatter\"}],\"parcoords\":[{\"type\":\"parcoords\",\"line\":{\"colorbar\":{\"outlinewidth\":0,\"ticks\":\"\"}}}],\"scatterpolargl\":[{\"type\":\"scatterpolargl\",\"marker\":{\"colorbar\":{\"outlinewidth\":0,\"ticks\":\"\"}}}],\"bar\":[{\"error_x\":{\"color\":\"#2a3f5f\"},\"error_y\":{\"color\":\"#2a3f5f\"},\"marker\":{\"line\":{\"color\":\"#E5ECF6\",\"width\":0.5},\"pattern\":{\"fillmode\":\"overlay\",\"size\":10,\"solidity\":0.2}},\"type\":\"bar\"}],\"scattergeo\":[{\"type\":\"scattergeo\",\"marker\":{\"colorbar\":{\"outlinewidth\":0,\"ticks\":\"\"}}}],\"scatterpolar\":[{\"type\":\"scatterpolar\",\"marker\":{\"colorbar\":{\"outlinewidth\":0,\"ticks\":\"\"}}}],\"histogram\":[{\"marker\":{\"pattern\":{\"fillmode\":\"overlay\",\"size\":10,\"solidity\":0.2}},\"type\":\"histogram\"}],\"scattergl\":[{\"type\":\"scattergl\",\"marker\":{\"colorbar\":{\"outlinewidth\":0,\"ticks\":\"\"}}}],\"scatter3d\":[{\"type\":\"scatter3d\",\"line\":{\"colorbar\":{\"outlinewidth\":0,\"ticks\":\"\"}},\"marker\":{\"colorbar\":{\"outlinewidth\":0,\"ticks\":\"\"}}}],\"scattermapbox\":[{\"type\":\"scattermapbox\",\"marker\":{\"colorbar\":{\"outlinewidth\":0,\"ticks\":\"\"}}}],\"scatterternary\":[{\"type\":\"scatterternary\",\"marker\":{\"colorbar\":{\"outlinewidth\":0,\"ticks\":\"\"}}}],\"scattercarpet\":[{\"type\":\"scattercarpet\",\"marker\":{\"colorbar\":{\"outlinewidth\":0,\"ticks\":\"\"}}}],\"carpet\":[{\"aaxis\":{\"endlinecolor\":\"#2a3f5f\",\"gridcolor\":\"white\",\"linecolor\":\"white\",\"minorgridcolor\":\"white\",\"startlinecolor\":\"#2a3f5f\"},\"baxis\":{\"endlinecolor\":\"#2a3f5f\",\"gridcolor\":\"white\",\"linecolor\":\"white\",\"minorgridcolor\":\"white\",\"startlinecolor\":\"#2a3f5f\"},\"type\":\"carpet\"}],\"table\":[{\"cells\":{\"fill\":{\"color\":\"#EBF0F8\"},\"line\":{\"color\":\"white\"}},\"header\":{\"fill\":{\"color\":\"#C8D4E3\"},\"line\":{\"color\":\"white\"}},\"type\":\"table\"}],\"barpolar\":[{\"marker\":{\"line\":{\"color\":\"#E5ECF6\",\"width\":0.5},\"pattern\":{\"fillmode\":\"overlay\",\"size\":10,\"solidity\":0.2}},\"type\":\"barpolar\"}],\"pie\":[{\"automargin\":true,\"type\":\"pie\"}]},\"layout\":{\"autotypenumbers\":\"strict\",\"colorway\":[\"#636efa\",\"#EF553B\",\"#00cc96\",\"#ab63fa\",\"#FFA15A\",\"#19d3f3\",\"#FF6692\",\"#B6E880\",\"#FF97FF\",\"#FECB52\"],\"font\":{\"color\":\"#2a3f5f\"},\"hovermode\":\"closest\",\"hoverlabel\":{\"align\":\"left\"},\"paper_bgcolor\":\"white\",\"plot_bgcolor\":\"#E5ECF6\",\"polar\":{\"bgcolor\":\"#E5ECF6\",\"angularaxis\":{\"gridcolor\":\"white\",\"linecolor\":\"white\",\"ticks\":\"\"},\"radialaxis\":{\"gridcolor\":\"white\",\"linecolor\":\"white\",\"ticks\":\"\"}},\"ternary\":{\"bgcolor\":\"#E5ECF6\",\"aaxis\":{\"gridcolor\":\"white\",\"linecolor\":\"white\",\"ticks\":\"\"},\"baxis\":{\"gridcolor\":\"white\",\"linecolor\":\"white\",\"ticks\":\"\"},\"caxis\":{\"gridcolor\":\"white\",\"linecolor\":\"white\",\"ticks\":\"\"}},\"coloraxis\":{\"colorbar\":{\"outlinewidth\":0,\"ticks\":\"\"}},\"colorscale\":{\"sequential\":[[0.0,\"#0d0887\"],[0.1111111111111111,\"#46039f\"],[0.2222222222222222,\"#7201a8\"],[0.3333333333333333,\"#9c179e\"],[0.4444444444444444,\"#bd3786\"],[0.5555555555555556,\"#d8576b\"],[0.6666666666666666,\"#ed7953\"],[0.7777777777777778,\"#fb9f3a\"],[0.8888888888888888,\"#fdca26\"],[1.0,\"#f0f921\"]],\"sequentialminus\":[[0.0,\"#0d0887\"],[0.1111111111111111,\"#46039f\"],[0.2222222222222222,\"#7201a8\"],[0.3333333333333333,\"#9c179e\"],[0.4444444444444444,\"#bd3786\"],[0.5555555555555556,\"#d8576b\"],[0.6666666666666666,\"#ed7953\"],[0.7777777777777778,\"#fb9f3a\"],[0.8888888888888888,\"#fdca26\"],[1.0,\"#f0f921\"]],\"diverging\":[[0,\"#8e0152\"],[0.1,\"#c51b7d\"],[0.2,\"#de77ae\"],[0.3,\"#f1b6da\"],[0.4,\"#fde0ef\"],[0.5,\"#f7f7f7\"],[0.6,\"#e6f5d0\"],[0.7,\"#b8e186\"],[0.8,\"#7fbc41\"],[0.9,\"#4d9221\"],[1,\"#276419\"]]},\"xaxis\":{\"gridcolor\":\"white\",\"linecolor\":\"white\",\"ticks\":\"\",\"title\":{\"standoff\":15},\"zerolinecolor\":\"white\",\"automargin\":true,\"zerolinewidth\":2},\"yaxis\":{\"gridcolor\":\"white\",\"linecolor\":\"white\",\"ticks\":\"\",\"title\":{\"standoff\":15},\"zerolinecolor\":\"white\",\"automargin\":true,\"zerolinewidth\":2},\"scene\":{\"xaxis\":{\"backgroundcolor\":\"#E5ECF6\",\"gridcolor\":\"white\",\"linecolor\":\"white\",\"showbackground\":true,\"ticks\":\"\",\"zerolinecolor\":\"white\",\"gridwidth\":2},\"yaxis\":{\"backgroundcolor\":\"#E5ECF6\",\"gridcolor\":\"white\",\"linecolor\":\"white\",\"showbackground\":true,\"ticks\":\"\",\"zerolinecolor\":\"white\",\"gridwidth\":2},\"zaxis\":{\"backgroundcolor\":\"#E5ECF6\",\"gridcolor\":\"white\",\"linecolor\":\"white\",\"showbackground\":true,\"ticks\":\"\",\"zerolinecolor\":\"white\",\"gridwidth\":2}},\"shapedefaults\":{\"line\":{\"color\":\"#2a3f5f\"}},\"annotationdefaults\":{\"arrowcolor\":\"#2a3f5f\",\"arrowhead\":0,\"arrowwidth\":1},\"geo\":{\"bgcolor\":\"white\",\"landcolor\":\"#E5ECF6\",\"subunitcolor\":\"white\",\"showland\":true,\"showlakes\":true,\"lakecolor\":\"white\"},\"title\":{\"x\":0.05},\"mapbox\":{\"style\":\"light\"}}},\"coloraxis\":{\"colorbar\":{\"title\":{\"text\":\"number_of_products\"}},\"colorscale\":[[0.0,\"#0d0887\"],[0.1111111111111111,\"#46039f\"],[0.2222222222222222,\"#7201a8\"],[0.3333333333333333,\"#9c179e\"],[0.4444444444444444,\"#bd3786\"],[0.5555555555555556,\"#d8576b\"],[0.6666666666666666,\"#ed7953\"],[0.7777777777777778,\"#fb9f3a\"],[0.8888888888888888,\"#fdca26\"],[1.0,\"#f0f921\"]]},\"legend\":{\"tracegroupgap\":0},\"title\":{\"text\":\"Major Producers of Implantable Medical Devices\"}},                        {\"responsive\": true}                    ).then(function(){\n",
       "                            \n",
       "var gd = document.getElementById('fd3066d6-a614-45fd-b68e-b6e074089784');\n",
       "var x = new MutationObserver(function (mutations, observer) {{\n",
       "        var display = window.getComputedStyle(gd).display;\n",
       "        if (!display || display === 'none') {{\n",
       "            console.log([gd, 'removed!']);\n",
       "            Plotly.purge(gd);\n",
       "            observer.disconnect();\n",
       "        }}\n",
       "}});\n",
       "\n",
       "// Listen for the removal of the full notebook cells\n",
       "var notebookContainer = gd.closest('#notebook-container');\n",
       "if (notebookContainer) {{\n",
       "    x.observe(notebookContainer, {childList: true});\n",
       "}}\n",
       "\n",
       "// Listen for the clearing of the current output cell\n",
       "var outputEl = gd.closest('.output');\n",
       "if (outputEl) {{\n",
       "    x.observe(outputEl, {childList: true});\n",
       "}}\n",
       "\n",
       "                        })                };                });            </script>        </div>"
      ]
     },
     "metadata": {},
     "output_type": "display_data"
    }
   ],
   "source": [
    "#treemap\n",
    "fig_company = px.treemap(df1_company_sort.reset_index(), \n",
    "                         path=['med_specialty','company_name'], \n",
    "                         values='number_of_products',\n",
    "                         color='number_of_products',\n",
    "                         title='Major Producers of Implantable Medical Devices')\n",
    "fig_company.show()"
   ]
  },
  {
   "cell_type": "markdown",
   "id": "0fb44753",
   "metadata": {},
   "source": [
    "- What is the medical industry that accounts for the most adverse events reported?\n",
    "    - What companies have the most recalls?"
   ]
  },
  {
   "cell_type": "code",
   "execution_count": 8,
   "id": "0602ded9",
   "metadata": {},
   "outputs": [
    {
     "data": {
      "text/html": [
       "<div>\n",
       "<style scoped>\n",
       "    .dataframe tbody tr th:only-of-type {\n",
       "        vertical-align: middle;\n",
       "    }\n",
       "\n",
       "    .dataframe tbody tr th {\n",
       "        vertical-align: top;\n",
       "    }\n",
       "\n",
       "    .dataframe thead th {\n",
       "        text-align: right;\n",
       "    }\n",
       "</style>\n",
       "<table border=\"1\" class=\"dataframe\">\n",
       "  <thead>\n",
       "    <tr style=\"text-align: right;\">\n",
       "      <th></th>\n",
       "      <th>model_number</th>\n",
       "      <th>recall</th>\n",
       "      <th>malfunction</th>\n",
       "      <th>injury</th>\n",
       "      <th>death</th>\n",
       "      <th>totalAE</th>\n",
       "    </tr>\n",
       "    <tr>\n",
       "      <th>company_name</th>\n",
       "      <th></th>\n",
       "      <th></th>\n",
       "      <th></th>\n",
       "      <th></th>\n",
       "      <th></th>\n",
       "      <th></th>\n",
       "    </tr>\n",
       "  </thead>\n",
       "  <tbody>\n",
       "    <tr>\n",
       "      <th>life spine, inc.</th>\n",
       "      <td>4348</td>\n",
       "      <td>392512</td>\n",
       "      <td>14216607</td>\n",
       "      <td>2949146</td>\n",
       "      <td>216088</td>\n",
       "      <td>3165234</td>\n",
       "    </tr>\n",
       "    <tr>\n",
       "      <th>bk meditech co.,ltd.</th>\n",
       "      <td>3114</td>\n",
       "      <td>391738</td>\n",
       "      <td>19281188</td>\n",
       "      <td>4832406</td>\n",
       "      <td>250928</td>\n",
       "      <td>5083334</td>\n",
       "    </tr>\n",
       "    <tr>\n",
       "      <th>nexxt spine, llc</th>\n",
       "      <td>1672</td>\n",
       "      <td>354437</td>\n",
       "      <td>34344856</td>\n",
       "      <td>4156891</td>\n",
       "      <td>200312</td>\n",
       "      <td>4357203</td>\n",
       "    </tr>\n",
       "    <tr>\n",
       "      <th>signature orthopaedics pty ltd</th>\n",
       "      <td>2598</td>\n",
       "      <td>328793</td>\n",
       "      <td>5114073</td>\n",
       "      <td>4171897</td>\n",
       "      <td>210270</td>\n",
       "      <td>4382167</td>\n",
       "    </tr>\n",
       "    <tr>\n",
       "      <th>pioneer surgical technology, inc.</th>\n",
       "      <td>2396</td>\n",
       "      <td>305830</td>\n",
       "      <td>42349341</td>\n",
       "      <td>8073379</td>\n",
       "      <td>254757</td>\n",
       "      <td>8328136</td>\n",
       "    </tr>\n",
       "    <tr>\n",
       "      <th>...</th>\n",
       "      <td>...</td>\n",
       "      <td>...</td>\n",
       "      <td>...</td>\n",
       "      <td>...</td>\n",
       "      <td>...</td>\n",
       "      <td>...</td>\n",
       "    </tr>\n",
       "    <tr>\n",
       "      <th>g21 srl</th>\n",
       "      <td>2</td>\n",
       "      <td>0</td>\n",
       "      <td>0</td>\n",
       "      <td>0</td>\n",
       "      <td>0</td>\n",
       "      <td>0</td>\n",
       "    </tr>\n",
       "    <tr>\n",
       "      <th>onkos surgical, inc.</th>\n",
       "      <td>158</td>\n",
       "      <td>0</td>\n",
       "      <td>40</td>\n",
       "      <td>307</td>\n",
       "      <td>29</td>\n",
       "      <td>336</td>\n",
       "    </tr>\n",
       "    <tr>\n",
       "      <th>nvision biomedical technologies, inc.</th>\n",
       "      <td>454</td>\n",
       "      <td>0</td>\n",
       "      <td>0</td>\n",
       "      <td>0</td>\n",
       "      <td>15</td>\n",
       "      <td>15</td>\n",
       "    </tr>\n",
       "    <tr>\n",
       "      <th>nuvasive, inc.</th>\n",
       "      <td>24737</td>\n",
       "      <td>0</td>\n",
       "      <td>233</td>\n",
       "      <td>51</td>\n",
       "      <td>0</td>\n",
       "      <td>51</td>\n",
       "    </tr>\n",
       "    <tr>\n",
       "      <th>acumed llc</th>\n",
       "      <td>111</td>\n",
       "      <td>0</td>\n",
       "      <td>56</td>\n",
       "      <td>280</td>\n",
       "      <td>0</td>\n",
       "      <td>280</td>\n",
       "    </tr>\n",
       "  </tbody>\n",
       "</table>\n",
       "<p>218 rows × 6 columns</p>\n",
       "</div>"
      ],
      "text/plain": [
       "                                       model_number  recall  malfunction  \\\n",
       "company_name                                                               \n",
       "life spine, inc.                               4348  392512     14216607   \n",
       "bk meditech co.,ltd.                           3114  391738     19281188   \n",
       "nexxt spine, llc                               1672  354437     34344856   \n",
       "signature orthopaedics pty ltd                 2598  328793      5114073   \n",
       "pioneer surgical technology, inc.              2396  305830     42349341   \n",
       "...                                             ...     ...          ...   \n",
       "g21 srl                                           2       0            0   \n",
       "onkos surgical, inc.                            158       0           40   \n",
       "nvision biomedical technologies, inc.           454       0            0   \n",
       "nuvasive, inc.                                24737       0          233   \n",
       "acumed llc                                      111       0           56   \n",
       "\n",
       "                                        injury   death  totalAE  \n",
       "company_name                                                     \n",
       "life spine, inc.                       2949146  216088  3165234  \n",
       "bk meditech co.,ltd.                   4832406  250928  5083334  \n",
       "nexxt spine, llc                       4156891  200312  4357203  \n",
       "signature orthopaedics pty ltd         4171897  210270  4382167  \n",
       "pioneer surgical technology, inc.      8073379  254757  8328136  \n",
       "...                                        ...     ...      ...  \n",
       "g21 srl                                      0       0        0  \n",
       "onkos surgical, inc.                       307      29      336  \n",
       "nvision biomedical technologies, inc.        0      15       15  \n",
       "nuvasive, inc.                              51       0       51  \n",
       "acumed llc                                 280       0      280  \n",
       "\n",
       "[218 rows x 6 columns]"
      ]
     },
     "execution_count": 8,
     "metadata": {},
     "output_type": "execute_result"
    }
   ],
   "source": [
    "df1.groupby('company_name').agg({'model_number':'count','recall': 'sum','malfunction':'sum',\\\n",
    "                                 'injury':'sum','death':'sum','totalAE':'sum'})\\\n",
    "                           .sort_values('recall', ascending=False)"
   ]
  },
  {
   "cell_type": "code",
   "execution_count": 9,
   "id": "a27bde2a",
   "metadata": {},
   "outputs": [
    {
     "data": {
      "text/plain": [
       "<pandas.core.groupby.generic.DataFrameGroupBy object at 0x0000020A9110C8B0>"
      ]
     },
     "execution_count": 9,
     "metadata": {},
     "output_type": "execute_result"
    }
   ],
   "source": [
    "df1.groupby('company_name')\n"
   ]
  },
  {
   "cell_type": "markdown",
   "id": "7a06f89e",
   "metadata": {},
   "source": [
    "- How does the FDA classify these devices?\n",
    "    - How does that affect aproval?\n"
   ]
  },
  {
   "cell_type": "code",
   "execution_count": 10,
   "id": "2e38aa90",
   "metadata": {},
   "outputs": [
    {
     "data": {
      "text/html": [
       "<div>\n",
       "<style scoped>\n",
       "    .dataframe tbody tr th:only-of-type {\n",
       "        vertical-align: middle;\n",
       "    }\n",
       "\n",
       "    .dataframe tbody tr th {\n",
       "        vertical-align: top;\n",
       "    }\n",
       "\n",
       "    .dataframe thead th {\n",
       "        text-align: right;\n",
       "    }\n",
       "</style>\n",
       "<table border=\"1\" class=\"dataframe\">\n",
       "  <thead>\n",
       "    <tr style=\"text-align: right;\">\n",
       "      <th></th>\n",
       "      <th>model_number</th>\n",
       "      <th>injury</th>\n",
       "      <th>death</th>\n",
       "    </tr>\n",
       "    <tr>\n",
       "      <th>device_class</th>\n",
       "      <th></th>\n",
       "      <th></th>\n",
       "      <th></th>\n",
       "    </tr>\n",
       "  </thead>\n",
       "  <tbody>\n",
       "    <tr>\n",
       "      <th>2</th>\n",
       "      <td>318342</td>\n",
       "      <td>109445737</td>\n",
       "      <td>3574871</td>\n",
       "    </tr>\n",
       "    <tr>\n",
       "      <th>3</th>\n",
       "      <td>1606</td>\n",
       "      <td>616853</td>\n",
       "      <td>17082</td>\n",
       "    </tr>\n",
       "  </tbody>\n",
       "</table>\n",
       "</div>"
      ],
      "text/plain": [
       "              model_number     injury    death\n",
       "device_class                                  \n",
       "2                   318342  109445737  3574871\n",
       "3                     1606     616853    17082"
      ]
     },
     "execution_count": 10,
     "metadata": {},
     "output_type": "execute_result"
    }
   ],
   "source": [
    "df1.groupby('device_class').agg({'model_number':'count','injury':'sum','death':'sum'})"
   ]
  },
  {
   "cell_type": "markdown",
   "id": "15b46eff",
   "metadata": {},
   "source": [
    "- Is there a correlation between clinical trial and total adverse events reported?"
   ]
  },
  {
   "cell_type": "code",
   "execution_count": 24,
   "id": "57d44ed4",
   "metadata": {},
   "outputs": [
    {
     "data": {
      "text/plain": [
       "company_name                    842\n",
       "brand_name                      838\n",
       "product_code                    842\n",
       "model_number                    842\n",
       "med_specialty                   842\n",
       "device_gender                   842\n",
       "premarket_submissions_number    842\n",
       "device_class                    842\n",
       "recall                          842\n",
       "malfunction                     842\n",
       "injury                          842\n",
       "death                           842\n",
       "totalAE                         842\n",
       "has_clinicalTrial               842\n",
       "Study Sponsor                   842\n",
       "n                               842\n",
       "nwomen                          827\n",
       "rwomen                          827\n",
       "c_SeriousAE                     617\n",
       "c_OtherAE                       143\n",
       "c_TotalAE                       759\n",
       "dtype: int64"
      ]
     },
     "execution_count": 24,
     "metadata": {},
     "output_type": "execute_result"
    }
   ],
   "source": [
    "# #In devices’\n",
    "# clinical trials for which information was available regarding the sponsor of the study (N =\n",
    "# 8842), it was found that every single clinical trial\n",
    "# (100%; N = 842) was sponsored by the manufacturer and/or company in charge of marketing\n",
    "# the device. \n",
    "df[(df['has_clinicalTrial']=='Y') & (df['Study Sponsor'] == 'Y')].count()"
   ]
  },
  {
   "cell_type": "code",
   "execution_count": 27,
   "id": "6d08a6e5",
   "metadata": {},
   "outputs": [
    {
     "data": {
      "text/plain": [
       "1311.1622846781504"
      ]
     },
     "execution_count": 27,
     "metadata": {},
     "output_type": "execute_result"
    }
   ],
   "source": [
    "# The average sample size of clinical\n",
    "# trials was 1,311 participants.\n",
    "df[df['has_clinicalTrial']=='Y']['n'].mean()"
   ]
  },
  {
   "cell_type": "code",
   "execution_count": 29,
   "id": "c604b3cc",
   "metadata": {},
   "outputs": [
    {
     "data": {
      "text/plain": [
       "22.651446540880467"
      ]
     },
     "execution_count": 29,
     "metadata": {},
     "output_type": "execute_result"
    }
   ],
   "source": [
    "# Regarding adverse effects reported in clinical trials, the total\n",
    "# rate of adverse effects could be assessed for 954\n",
    "# (86.49%) devices, for an average of 22.65% of\n",
    "# participants reporting at least one adverse effect.\n",
    "df[df['has_clinicalTrial']=='Y']['c_TotalAE'].mean()"
   ]
  },
  {
   "cell_type": "code",
   "execution_count": 35,
   "id": "dae869a8",
   "metadata": {},
   "outputs": [
    {
     "data": {
      "text/plain": [
       "company_name                    0.018132\n",
       "brand_name                      0.018215\n",
       "product_code                    0.018132\n",
       "model_number                    0.018132\n",
       "med_specialty                   0.018132\n",
       "device_gender                   0.018132\n",
       "premarket_submissions_number    0.018132\n",
       "device_class                    0.018132\n",
       "recall                          0.018132\n",
       "malfunction                     0.018132\n",
       "injury                          0.018132\n",
       "death                           0.018132\n",
       "totalAE                         0.018132\n",
       "has_clinicalTrial               0.018132\n",
       "Study Sponsor                   0.023753\n",
       "n                               0.018132\n",
       "nwomen                          0.018382\n",
       "rwomen                          0.018382\n",
       "c_SeriousAE                     0.032206\n",
       "c_OtherAE                       0.136054\n",
       "c_TotalAE                       0.020964\n",
       "dtype: float64"
      ]
     },
     "execution_count": 35,
     "metadata": {},
     "output_type": "execute_result"
    }
   ],
   "source": [
    "# #\n",
    "# However, further examination of this data reveals that 2.54% (N = 28) of these devices’ \n",
    "#clinical trials had a total adverse effect rate of 100%\n",
    "df[(df['has_clinicalTrial']=='Y') & (df['c_SeriousAE']+df['c_OtherAE']==100)].count()/(df[df['has_clinicalTrial']=='Y']).count()"
   ]
  },
  {
   "cell_type": "code",
   "execution_count": 46,
   "id": "9af29c81",
   "metadata": {},
   "outputs": [
    {
     "data": {
      "text/plain": [
       "15.56499194847039"
      ]
     },
     "execution_count": 46,
     "metadata": {},
     "output_type": "execute_result"
    }
   ],
   "source": [
    "# #For a smaller proportion of devices (13.33%, N\n",
    "# = 147), it was possible to assess the severity of\n",
    "# adverse effects reported in clinical trials. The average rate of “serious” adverse effects reported by\n",
    "# participants was 6.09%, while the average rate\n",
    "# of “other” adverse effects (i.e. “complications”\n",
    "# and/or “observations”, excluding death and serious adverse effects) was 10.39%.\n",
    "df[(df['has_clinicalTrial']=='Y') ]['c_SeriousAE'].mean()"
   ]
  },
  {
   "cell_type": "code",
   "execution_count": 47,
   "id": "738d5bb3",
   "metadata": {
    "scrolled": false
   },
   "outputs": [
    {
     "data": {
      "text/plain": [
       "10.393061224489799"
      ]
     },
     "execution_count": 47,
     "metadata": {},
     "output_type": "execute_result"
    }
   ],
   "source": [
    "df[(df['has_clinicalTrial']=='Y') ]['c_OtherAE'].mean()"
   ]
  },
  {
   "cell_type": "markdown",
   "id": "b62292e1",
   "metadata": {},
   "source": [
    "## 4. Summary"
   ]
  },
  {
   "cell_type": "markdown",
   "id": "2da7e433",
   "metadata": {},
   "source": [
    "## 5. Future Work"
   ]
  },
  {
   "cell_type": "code",
   "execution_count": null,
   "id": "a43f49ee",
   "metadata": {},
   "outputs": [],
   "source": []
  }
 ],
 "metadata": {
  "kernelspec": {
   "display_name": "Python 3 (ipykernel)",
   "language": "python",
   "name": "python3"
  },
  "language_info": {
   "codemirror_mode": {
    "name": "ipython",
    "version": 3
   },
   "file_extension": ".py",
   "mimetype": "text/x-python",
   "name": "python",
   "nbconvert_exporter": "python",
   "pygments_lexer": "ipython3",
   "version": "3.9.13"
  }
 },
 "nbformat": 4,
 "nbformat_minor": 5
}
